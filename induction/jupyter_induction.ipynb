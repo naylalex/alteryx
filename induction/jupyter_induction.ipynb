{
 "cells": [
  {
   "cell_type": "markdown",
   "metadata": {},
   "source": [
    "# Project Jupyter\n",
    "Project Jupyter es un proyecto y una comunidad cuya meta es desarrollar software y estándares Open Source para cómputo interactivo en múltiples lenguajes de programación. El proyecto surge en 2014 como una derivación del proyecto IPython. El nombre del proyecto resulta de los tres lenguajes de programación core soportados:\n",
    "* Julia\n",
    "* Python\n",
    "* R\n",
    "\n",
    "# Aplicaciones Jupyter\n",
    "Actualmente Project Jupyter consta de tres aplicaciones:\n",
    "* Jupyter Lab: Una interfaz de notebook de siguiente generación.\n",
    "* Jupyter Notebook: La interfaz de notebook clásica.\n",
    "* Jupyter Hub: Una versión multiusuario del notebook diseñada para empresas, escuelas y laboratorios de investigación.\n",
    "* Voilá: Transforma notebooks en aplicaciones Web seguras e independientes que se pueden personalizar y compartir.\n",
    "\n",
    "# Jupyter Notebook\n",
    "Jupyter Notebook es una aplicación Web Open Source que puede emplearse para crear y compartir documentos en múltiples lenguajes de programación que contienen código ejecutable, ecuaciones, visualizaciones y texto.\n",
    "\n",
    "Se considera un REPL (Repeat Evaluate Print Loop) basado en tecnología Web. Cuenta con una lista ordenada de celdas de entrada/salida que contienen código, texto (en formato Markdown), expresiones matemáticas, gráficas, imágenes, entre otros.\n",
    "\n",
    "Los notebooks de Jupyter se almacenan en documentos JSON con la extensión \"ipynb\".\n",
    "\n",
    "## Kernels\n",
    "Los notebooks de Jupyter pueden conectarse a múltiples kernels, permitiendo la programación de diferentes lenguajes. Un kernel es un programa responsable de manejar diversos tipos de solicitudes (ejecución de código, completar código, inspección) y proveer de una respuesta. Los kernels pueden residir en la computadora local a la instancia de Jupyter Notebook o en máquinas remotas. Los kernels pueden procesar solicitudes de múltiples clientes a la vez.\n",
    "\n",
    "## Shell\n",
    "Jupyter Notebook corre en el contexto del shell o proceso desde el cual haya sido invocado.\n",
    "\n",
    "## Ejecución de Jupyter\n",
    "Visual Studio Code cuenta con soporte integrado a Jupyter, es posible ejecutar Jupyter en otros entornos por medio de una terminal asociada con una instalación de Jupyter con el comando:\n",
    "```\n",
    "jupyter notebook\n",
    "```"
   ]
  },
  {
   "cell_type": "markdown",
   "metadata": {},
   "source": [
    "# Jupyter en VS Code\n",
    "## Trabajar con notebooks\n",
    "`Ctrl+Shift+P` **Jupyter: Create New Jupyter Notebook**\n",
    "\n",
    "**Select kernel** aparece en la región superior derecha.\n",
    "\n",
    "`Ctrl+S` Guardar notebook."
   ]
  },
  {
   "cell_type": "markdown",
   "metadata": {},
   "source": [
    "## Trabajar con celdas"
   ]
  },
  {
   "cell_type": "code",
   "execution_count": 7,
   "metadata": {},
   "outputs": [
    {
     "name": "stdout",
     "output_type": "stream",
     "text": [
      "Ctrl+Enter para ejecutar esta celda.\n"
     ]
    }
   ],
   "source": [
    "msg = \"Ctrl+Enter para ejecutar esta celda.\"\n",
    "print(msg)"
   ]
  },
  {
   "cell_type": "markdown",
   "metadata": {},
   "source": [
    "Las celdas pueden estar en tres estados:\n",
    "* No seleccionada.\n",
    "* Modo de comando.\n",
    "* Modo de edición."
   ]
  },
  {
   "cell_type": "markdown",
   "metadata": {},
   "source": [
    "Las celdas pueden ser de markdown al oprimir M en modo de comando."
   ]
  },
  {
   "cell_type": "code",
   "execution_count": 8,
   "metadata": {},
   "outputs": [
    {
     "name": "stdout",
     "output_type": "stream",
     "text": [
      "O de código al oprimir Y en modo de comando.\n"
     ]
    }
   ],
   "source": [
    "print(\"O de código al oprimir Y en modo de comando.\")"
   ]
  }
 ],
 "metadata": {
  "interpreter": {
   "hash": "dff1176a825098967b08dbdbf002aed5f4d2fbc0230cbe7a7b9c071948b7fba3"
  },
  "kernelspec": {
   "display_name": "Python 3.8.12 64-bit ('alteryx': conda)",
   "language": "python",
   "name": "python3"
  },
  "language_info": {
   "codemirror_mode": {
    "name": "ipython",
    "version": 3
   },
   "file_extension": ".py",
   "mimetype": "text/x-python",
   "name": "python",
   "nbconvert_exporter": "python",
   "pygments_lexer": "ipython3",
   "version": "3.8.12"
  },
  "orig_nbformat": 4
 },
 "nbformat": 4,
 "nbformat_minor": 2
}
