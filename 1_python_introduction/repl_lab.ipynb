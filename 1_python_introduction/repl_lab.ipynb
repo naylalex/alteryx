{
 "cells": [
  {
   "cell_type": "markdown",
   "metadata": {},
   "source": [
    "# Introducción al intérprete de Python\n",
    "** NOTA: Efectúa los ejercicios de este documento desde una terminal de sistema operativo y con el intérprete de Python **\n",
    "\n",
    "El shell es una interfaz entre el usuario y el sistema operativo, encargada de interpretar y ejecutar el código Python que se le provee. Sus modalidades de operación incluyen:\n",
    "* Interactivo: Recibe y ejecuta comandos del usuario al momento.\n",
    "* Comandos no interactivos: Se invoca el intérprete con sentencias Python a ejecutar.\n",
    "* Módulos: Se invoca el intérprete con el nombre del módulo y opcionalmente argumentos a ejecutar.\n",
    "* Scripts: Se invoca el intérprete con el nombre de un archivo de código fuente Python y opcionalmente argumentos a ejecutar."
   ]
  },
  {
   "cell_type": "markdown",
   "metadata": {},
   "source": [
    "# Ubicación de ejecutables\n",
    "Una computadora podría tener diversas instalaciones de Python. En este apartado revisaremos la forma como el sistema operativo ubica los ejecutables. Esto es relevante en el contexto del intérprete de Python y los Jupyter Notebooks que veremos más adelante."
   ]
  },
  {
   "cell_type": "markdown",
   "metadata": {},
   "source": [
    "En sistemas Linux y MacOS, el sistema busca si existe un alias para el comando, en caso que no se refiere a la variable de entorno `$PATH`"
   ]
  },
  {
   "cell_type": "code",
   "execution_count": 5,
   "metadata": {},
   "outputs": [
    {
     "name": "stdout",
     "output_type": "stream",
     "text": [
      "$PATH\n"
     ]
    }
   ],
   "source": [
    "!echo $PATH"
   ]
  },
  {
   "cell_type": "markdown",
   "metadata": {},
   "source": [
    "En el caso de sistemas Windows la variable se refiere como `%PATH%` en notebooks o simplemente `PATH` en la línea de comando."
   ]
  },
  {
   "cell_type": "code",
   "execution_count": 6,
   "metadata": {},
   "outputs": [
    {
     "name": "stdout",
     "output_type": "stream",
     "text": [
      "C:\\Users\\Marciano\\.conda\\envs\\alteryx;C:\\Users\\Marciano\\.conda\\envs\\alteryx\\Library\\mingw-w64\\bin;C:\\Users\\Marciano\\.conda\\envs\\alteryx\\Library\\usr\\bin;C:\\Users\\Marciano\\.conda\\envs\\alteryx\\Library\\bin;C:\\Users\\Marciano\\.conda\\envs\\alteryx\\Scripts;C:\\Users\\Marciano\\.conda\\envs\\alteryx\\bin;C:\\ProgramData\\Anaconda3\\condabin;C:\\Python38\\Scripts;C:\\Python38;C:\\Program Files\\NVIDIA GPU Computing Toolkit\\CUDA\\v10.2\\bin;C:\\Program Files\\NVIDIA GPU Computing Toolkit\\CUDA\\v10.2\\libnvvp;C:\\Program Files (x86)\\Common Files\\Intel\\Shared Libraries\\redist\\intel64\\compiler;C:\\Program Files (x86)\\Common Files\\Oracle\\Java\\javapath;C:\\ProgramData\\Oracle\\Java\\javapath;C:\\WINDOWS\\system32;C:\\WINDOWS;C:\\WINDOWS\\System32\\Wbem;C:\\WINDOWS\\System32\\WindowsPowerShell\\v1.0;C:\\Program Files\\Intel\\WiFi\\bin;C:\\Program Files\\Common Files\\Intel\\WirelessCommon;C:\\Program Files (x86)\\Google\\Google Apps Sync;C:\\Program Files (x86)\\Google\\Google Apps Migration;C:\\Python27;C:\\ffmpeg-3.4.2-win64-static\\bin;C:\\Program Files (x86)\\Google\\Cloud SDK\\google-cloud-sdk\\bin;C:\\Program Files (x86)\\Wolfram Research\\WolframScript;C:\\WINDOWS\\System32\\OpenSSH;C:\\src\\flutter\\bin;C:\\ProgramData\\chocolatey\\bin;C:\\Program Files (x86)\\NVIDIA Corporation\\PhysX\\Common;C:\\Program Files\\NVIDIA Corporation\\Nsight Compute 2019.5.0;C:\\Users\\C:\\Users\\Marciano\\AppData\\Local\\atom\\bin;C:\\Program Files\\nodejs;C:\\Program Files\\dotnet;C:\\WINDOWS\\system32;C:\\WINDOWS;C:\\WINDOWS\\System32\\Wbem;C:\\WINDOWS\\System32\\WindowsPowerShell\\v1.0;C:\\WINDOWS\\System32\\OpenSSH;C:\\Program Files\\mongodb-win32-x86_64-windows-4.4.1\\bin;C:\\libwebp-1.1.0-windows-x64\\bin;C:\\Program Files\\Amazon\\AWSCLIV2;C:\\Program Files (x86)\\BaseX\\bin;C:\\Program Files\\PowerShell\\7;C:\\Program Files\\Git\\cmd;C:\\Program Files\\Docker\\Docker\\resources\\bin;C:\\ProgramData\\DockerDesktop\\version-bin;C:\\edgedriver_win64;C:\\Users\\Marciano\\AppData\\Roaming\\Smilebox;C:\\Users\\Marciano\\AppData\\Local\\Microsoft\\WindowsApps;C:\\Users\\Marciano\\AppData\\Local\\Programs\\Fiddler;C:\\Users\\Marciano\\AppData\\Local\\Programs\\Microsoft VS Code\\bin;C:\\Users\\Marciano\\AppData\\Local\\GitHubDesktop\\bin;C:\\Users\\Marciano\\AppData\\Roaming\\npm;C:\\Users\\Marciano\\AppData\\Local\\Microsoft\\WindowsApps;C:\\rtools40\\usr\\bin;C:\\Users\\Marciano\\AppData\\Local\\Programs\\MiKTeX\\miktex\\bin\\x64;C:\\Program Files\\gs\\gs9.54.0\\bin;C:\\Exercism;C:\\Users\\Marciano\\AppData\\Local\\Programs\\Julia-1.6.1\\bin;C:\\Users\\Marciano\\AppData\\Local\\nvs;C:\\Program Files (x86)\\GitHub CLI;C:\\Users\\Marciano\\AppData\\Local\\Programs\\Julia-1.6.3\\bin;C:\\Users\\Marciano\\AppData\\Local\\Pandoc;C:\\Users\\Marciano\\AppData\\Local\\Programs\\Microsoft VS Code Insiders\\bin\n"
     ]
    }
   ],
   "source": [
    "!echo %PATH%"
   ]
  },
  {
   "cell_type": "markdown",
   "metadata": {},
   "source": [
    "Para conocer la ruta absoluta de un programa empleamos el comando `type` en Linux o MacOS."
   ]
  },
  {
   "cell_type": "code",
   "execution_count": 7,
   "metadata": {},
   "outputs": [
    {
     "name": "stderr",
     "output_type": "stream",
     "text": [
      "The system cannot find the file specified.\n"
     ]
    }
   ],
   "source": [
    "!type python"
   ]
  },
  {
   "cell_type": "markdown",
   "metadata": {},
   "source": [
    "En Windows usamos el comando WHERE."
   ]
  },
  {
   "cell_type": "code",
   "execution_count": 8,
   "metadata": {},
   "outputs": [
    {
     "name": "stdout",
     "output_type": "stream",
     "text": [
      "C:\\Users\\Marciano\\.conda\\envs\\alteryx\\python.exe\n",
      "C:\\Python38\\python.exe\n",
      "C:\\Python27\\python.exe\n",
      "C:\\Users\\Marciano\\AppData\\Local\\Microsoft\\WindowsApps\\python.exe\n"
     ]
    }
   ],
   "source": [
    "!WHERE python"
   ]
  },
  {
   "cell_type": "markdown",
   "metadata": {},
   "source": [
    "# El intérprete de Python en modalidad interactiva\n",
    "Esta modalidad es similar a un shell de Unix. Cuando se invoca su entrada estándar se conecta a un dispositivo tty desde donde lee comandos y los ejecuta de forma interactiva.\n",
    "Para acceder a esta modalidad se proveé el nombre del intérprete de Python desde una terminal de sistema operativo otros argumentos.\n",
    "\n",
    "Dependiendo de la instalación de Python el nombre del intérprete puede ser:\n",
    "\n",
    " `python`\n",
    " \n",
    " `python3`"
   ]
  },
  {
   "cell_type": "markdown",
   "metadata": {},
   "source": [
    "Examina el mensaje de inicio del intérprete, identifica la versión y distribución de Python\n",
    "```\n",
    " Python 3.8.5 (default, Sep  3 2020, 21:29:08) [MSC v.1916 64 bit (AMD64)] :: Anaconda, Inc. on win32\n",
    "Type \"help\", \"copyright\", \"credits\" or \"license\" for more information.\n",
    ">>>\n",
    "```"
   ]
  },
  {
   "cell_type": "markdown",
   "metadata": {},
   "source": [
    "## Primeras interacciones con el intérprete"
   ]
  },
  {
   "cell_type": "markdown",
   "metadata": {},
   "source": [
    " En cuanto inicie el intérprete podrás escribir y ejecutar comandos en el prompt \">>>\""
   ]
  },
  {
   "cell_type": "code",
   "execution_count": 10,
   "metadata": {},
   "outputs": [
    {
     "ename": "NameError",
     "evalue": "name 'hello' is not defined",
     "output_type": "error",
     "traceback": [
      "\u001b[1;31m---------------------------------------------------------------------------\u001b[0m",
      "\u001b[1;31mNameError\u001b[0m                                 Traceback (most recent call last)",
      "\u001b[1;32m~\\AppData\\Local\\Temp/ipykernel_27412/3305111549.py\u001b[0m in \u001b[0;36m<module>\u001b[1;34m\u001b[0m\n\u001b[1;32m----> 1\u001b[1;33m \u001b[0mhello\u001b[0m\u001b[1;33m\u001b[0m\u001b[1;33m\u001b[0m\u001b[0m\n\u001b[0m",
      "\u001b[1;31mNameError\u001b[0m: name 'hello' is not defined"
     ]
    }
   ],
   "source": [
    "hello"
   ]
  },
  {
   "cell_type": "markdown",
   "metadata": {},
   "source": [
    "La función print()"
   ]
  },
  {
   "cell_type": "code",
   "execution_count": 11,
   "metadata": {},
   "outputs": [
    {
     "name": "stdout",
     "output_type": "stream",
     "text": [
      "Hello world!\n"
     ]
    }
   ],
   "source": [
    "print(\"Hello world!\")"
   ]
  },
  {
   "cell_type": "markdown",
   "metadata": {},
   "source": [
    "Una función simple"
   ]
  },
  {
   "cell_type": "code",
   "execution_count": 12,
   "metadata": {},
   "outputs": [
    {
     "name": "stdout",
     "output_type": "stream",
     "text": [
      "Hello \"Is it result or return and why are you missing?\"\n"
     ]
    }
   ],
   "source": [
    "def say_hello(name):\n",
    "    print(\"Hello\", name, sep=\" \")\n",
    "\n",
    "say_hello(\"\\\"Is it result or return and why are you missing?\\\"\")"
   ]
  },
  {
   "cell_type": "markdown",
   "metadata": {},
   "source": [
    "Para el caso de constantes, el intérprete regresa los valores ingresados"
   ]
  },
  {
   "cell_type": "code",
   "execution_count": 13,
   "metadata": {},
   "outputs": [
    {
     "data": {
      "text/plain": [
       "6"
      ]
     },
     "execution_count": 13,
     "metadata": {},
     "output_type": "execute_result"
    }
   ],
   "source": [
    "6"
   ]
  },
  {
   "cell_type": "code",
   "execution_count": 14,
   "metadata": {},
   "outputs": [
    {
     "data": {
      "text/plain": [
       "'Some string'"
      ]
     },
     "execution_count": 14,
     "metadata": {},
     "output_type": "execute_result"
    }
   ],
   "source": [
    "\"Some string\""
   ]
  },
  {
   "cell_type": "markdown",
   "metadata": {},
   "source": [
    "En Python distintos tipos de datos emplean los mismos operadores. Ejecuta las siguientes expresiones en el intérprete de Python y observa los resultados:"
   ]
  },
  {
   "cell_type": "code",
   "execution_count": 15,
   "metadata": {},
   "outputs": [
    {
     "ename": "NameError",
     "evalue": "name 'alpha' is not defined",
     "output_type": "error",
     "traceback": [
      "\u001b[1;31m---------------------------------------------------------------------------\u001b[0m",
      "\u001b[1;31mNameError\u001b[0m                                 Traceback (most recent call last)",
      "\u001b[1;32m~\\AppData\\Local\\Temp/ipykernel_27412/4284990691.py\u001b[0m in \u001b[0;36m<module>\u001b[1;34m\u001b[0m\n\u001b[0;32m      3\u001b[0m \u001b[1;34m\"Ro\"\u001b[0m \u001b[1;33m+\u001b[0m \u001b[1;34m\"co\"\u001b[0m\u001b[1;33m*\u001b[0m\u001b[1;36m3\u001b[0m\u001b[1;33m\u001b[0m\u001b[1;33m\u001b[0m\u001b[0m\n\u001b[0;32m      4\u001b[0m \u001b[1;31m#5 + \"5\"\u001b[0m\u001b[1;33m\u001b[0m\u001b[1;33m\u001b[0m\u001b[1;33m\u001b[0m\u001b[0m\n\u001b[1;32m----> 5\u001b[1;33m \u001b[0malpha\u001b[0m\u001b[1;33m\u001b[0m\u001b[1;33m\u001b[0m\u001b[0m\n\u001b[0m\u001b[0;32m      6\u001b[0m \u001b[0malpha\u001b[0m \u001b[1;33m=\u001b[0m \u001b[1;36m0.001\u001b[0m\u001b[1;33m\u001b[0m\u001b[1;33m\u001b[0m\u001b[0m\n\u001b[0;32m      7\u001b[0m \u001b[0malpha\u001b[0m\u001b[1;33m\u001b[0m\u001b[1;33m\u001b[0m\u001b[0m\n",
      "\u001b[1;31mNameError\u001b[0m: name 'alpha' is not defined"
     ]
    }
   ],
   "source": [
    "2 + 2 \n",
    "\"x\" + \"y\"\n",
    "\"Ro\" + \"co\"*3\n",
    "#5 + \"5\"\n",
    "alpha\n",
    "alpha = 0.001\n",
    "alpha\n",
    "\n"
   ]
  },
  {
   "cell_type": "markdown",
   "metadata": {},
   "source": [
    "## Numéricos y matemáticas"
   ]
  },
  {
   "cell_type": "markdown",
   "metadata": {},
   "source": [
    "Python sigue el orden usual de evaluación de operaciones en expresiones. El orden estándar de evaluación:\n",
    "* Exponentes y raices.\n",
    "* Multiplicación y división.\n",
    "* Adición y resta."
   ]
  },
  {
   "cell_type": "markdown",
   "metadata": {},
   "source": [
    "Ingresa las siguientes expresiones en en intérprete interactivo de Python:"
   ]
  },
  {
   "cell_type": "code",
   "execution_count": 16,
   "metadata": {},
   "outputs": [
    {
     "data": {
      "text/plain": [
       "4"
      ]
     },
     "execution_count": 16,
     "metadata": {},
     "output_type": "execute_result"
    }
   ],
   "source": [
    "2+2"
   ]
  },
  {
   "cell_type": "code",
   "execution_count": 17,
   "metadata": {},
   "outputs": [
    {
     "data": {
      "text/plain": [
       "16"
      ]
     },
     "execution_count": 17,
     "metadata": {},
     "output_type": "execute_result"
    }
   ],
   "source": [
    "4 * 4"
   ]
  },
  {
   "cell_type": "code",
   "execution_count": 18,
   "metadata": {},
   "outputs": [
    {
     "data": {
      "text/plain": [
       "8"
      ]
     },
     "execution_count": 18,
     "metadata": {},
     "output_type": "execute_result"
    }
   ],
   "source": [
    "2 ** 3"
   ]
  },
  {
   "cell_type": "markdown",
   "metadata": {},
   "source": [
    "Calcula el área de un triángulo de las siguientes dimensiones:\n",
    "\n",
    "$\\begin{split}   a &=1/2*(b*h)\n",
    "\\end{split}$ \n",
    "\n",
    "b = 10\n",
    "\n",
    "h = 5"
   ]
  },
  {
   "cell_type": "code",
   "execution_count": 19,
   "metadata": {},
   "outputs": [
    {
     "data": {
      "text/plain": [
       "25.0"
      ]
     },
     "execution_count": 19,
     "metadata": {},
     "output_type": "execute_result"
    }
   ],
   "source": [
    "1/2*10*5"
   ]
  },
  {
   "cell_type": "markdown",
   "metadata": {},
   "source": [
    "El operador de división / siempre regresa un float. El operador // efectúa una división redondeada hacia abajo y proveé un resultado int. El operador % proveé el residuo de una división.\n",
    "\n",
    "Efectúa las siguientes divisiones y compara los resultados:\n",
    "\n",
    "$10/6$\n",
    "\n",
    "$10//6$\n",
    "\n",
    "$\\lvert10 / 6 \\rvert$"
   ]
  },
  {
   "cell_type": "markdown",
   "metadata": {},
   "source": [
    "El módulo `math` de Python provee de acceso a las funciones matemáticas definidas en el estándar de C.\n",
    "\n",
    "Estas funciones no pueden emplearse con números complejos, para ello puede emplearse el módulo `cmath`."
   ]
  },
  {
   "cell_type": "markdown",
   "metadata": {},
   "source": [
    "Considerando el área de un círculo: \n",
    "$\\begin{split}   \n",
    "    a &=\\pi * r^2\n",
    "\\end{split}$ \n",
    "\n",
    "Calcula el área para un círculo con r = 10"
   ]
  },
  {
   "cell_type": "markdown",
   "metadata": {},
   "source": [
    "Cualquier archivo con extensión .py y con código Python puede considerarse un módulo. Un módulo puede contener funciones, clases o atributos. Todos los objetos del módulo pueden accederse en cuanto se ejecute el estatuto `import`."
   ]
  },
  {
   "cell_type": "code",
   "execution_count": 20,
   "metadata": {},
   "outputs": [
    {
     "data": {
      "text/plain": [
       "314.1592653589793"
      ]
     },
     "execution_count": 20,
     "metadata": {},
     "output_type": "execute_result"
    }
   ],
   "source": [
    "import math\n",
    "math.pi * 10**2"
   ]
  },
  {
   "cell_type": "markdown",
   "metadata": {},
   "source": [
    "La función logística se define como:\n",
    "\n",
    "$1/1+\\epsilon^-t$\n",
    "\n",
    "Calcula la función logística para t = -1, -0.5, 0, .5, 1"
   ]
  },
  {
   "cell_type": "code",
   "execution_count": 21,
   "metadata": {},
   "outputs": [
    {
     "data": {
      "text/plain": [
       "1.0"
      ]
     },
     "execution_count": 21,
     "metadata": {},
     "output_type": "execute_result"
    }
   ],
   "source": [
    "1/(1+ math.exp(-100))"
   ]
  },
  {
   "cell_type": "markdown",
   "metadata": {},
   "source": [
    "## Secuencias de texto"
   ]
  },
  {
   "cell_type": "markdown",
   "metadata": {},
   "source": [
    "Las secuencias de texto (strings) en Python son secuencias inmutables de code points de Unicode. Se expresan con comillas sencillas `'`,  dobles `\"` o triples `'''`. El caracter `\\` pude emplearse como escape para las comillas."
   ]
  },
  {
   "cell_type": "code",
   "execution_count": 22,
   "metadata": {},
   "outputs": [
    {
     "data": {
      "text/plain": [
       "'\"Esto es lo que dijo\"'"
      ]
     },
     "execution_count": 22,
     "metadata": {},
     "output_type": "execute_result"
    }
   ],
   "source": [
    "'\"Esto es lo que dijo\"'"
   ]
  },
  {
   "cell_type": "code",
   "execution_count": 23,
   "metadata": {},
   "outputs": [
    {
     "name": "stdout",
     "output_type": "stream",
     "text": [
      "\"Esto es lo que dijo\"\n"
     ]
    }
   ],
   "source": [
    "print('\"Esto es lo que dijo\"')"
   ]
  },
  {
   "cell_type": "code",
   "execution_count": 24,
   "metadata": {},
   "outputs": [
    {
     "name": "stdout",
     "output_type": "stream",
     "text": [
      "\n",
      "Con triple comilla es posible\n",
      "definir strings com múltiples líneas.\n",
      "\n"
     ]
    }
   ],
   "source": [
    "multiline = '''\n",
    "Con triple comilla es posible\n",
    "definir strings com múltiples líneas.\n",
    "'''\n",
    "print(multiline)"
   ]
  },
  {
   "cell_type": "markdown",
   "metadata": {},
   "source": [
    "Los strings con prefijo `r` se interpretan como strings crudos y los caracteres posteriores a `\\` no se interpretan como caracteres especiales."
   ]
  },
  {
   "cell_type": "code",
   "execution_count": 25,
   "metadata": {},
   "outputs": [
    {
     "name": "stdout",
     "output_type": "stream",
     "text": [
      "C:\\src\\marmo\\alteryx\n"
     ]
    }
   ],
   "source": [
    "print(r\"C:\\src\\marmo\\alteryx\")"
   ]
  },
  {
   "cell_type": "markdown",
   "metadata": {},
   "source": [
    "Existen diversos métodos de manejo de strings los cuales se encuentran descritos en The Python Standard Library."
   ]
  },
  {
   "cell_type": "code",
   "execution_count": 26,
   "metadata": {},
   "outputs": [
    {
     "data": {
      "text/plain": [
       "'PYTHON 3.8.12 (DEFAULT, OCT 12 2021, 03:01:40) [MSC V.1916 64 BIT (AMD64)] :: ANACONDA, INC. ON WIN32'"
      ]
     },
     "execution_count": 26,
     "metadata": {},
     "output_type": "execute_result"
    }
   ],
   "source": [
    "welcome_message = \"Python 3.8.12 (default, Oct 12 2021, 03:01:40) [MSC v.1916 64 bit (AMD64)] :: Anaconda, Inc. on win32\"\n",
    "welcome_message.upper()"
   ]
  },
  {
   "cell_type": "code",
   "execution_count": 27,
   "metadata": {},
   "outputs": [
    {
     "data": {
      "text/plain": [
       "'Anaconda, Inc. on win32'"
      ]
     },
     "execution_count": 27,
     "metadata": {},
     "output_type": "execute_result"
    }
   ],
   "source": [
    "pos = welcome_message.find(\"Anaconda\")\n",
    "welcome_message[pos:len(welcome_message)]"
   ]
  },
  {
   "cell_type": "code",
   "execution_count": 28,
   "metadata": {},
   "outputs": [
    {
     "data": {
      "text/plain": [
       "True"
      ]
     },
     "execution_count": 28,
     "metadata": {},
     "output_type": "execute_result"
    }
   ],
   "source": [
    "\"100\".isdecimal()"
   ]
  },
  {
   "cell_type": "markdown",
   "metadata": {},
   "source": [
    "## Tipos Secuenciales\n",
    "Existen tres tipos básicos de tipos secuenciales: list, tuple, range. También existen tipos secuenciales para datos binarios y secuencias de texto.\n",
    "\n",
    "Los tipos secuenciales se distinguen porque sus elementos se encuentran ordenados y pueden accederse por medio de un índice.\n",
    "\n",
    "Los tipos list, bytearray son mutables: sus elementos pueden modificarse después de ser creada.\n",
    "Los tipos string, tuple, range, bytes son inmutables: sus elementos no pueden modificarse después de ser creada."
   ]
  },
  {
   "cell_type": "code",
   "execution_count": 29,
   "metadata": {},
   "outputs": [],
   "source": [
    "name = \"Albert Einstein\"\n",
    "point = (100, 20)\n",
    "basket = [\"milk\", [\"beer\", 2], \"diapers\"] #default = 1"
   ]
  },
  {
   "cell_type": "code",
   "execution_count": 30,
   "metadata": {},
   "outputs": [
    {
     "data": {
      "text/plain": [
       "'Einstein'"
      ]
     },
     "execution_count": 30,
     "metadata": {},
     "output_type": "execute_result"
    }
   ],
   "source": [
    "name[-8:]"
   ]
  },
  {
   "cell_type": "markdown",
   "metadata": {},
   "source": [
    "Las tuplas son secuencias inmutables con elementos heterogéneos. Podemos conceptualizarlas como una lista inmutable.\n",
    "* Tupla vacía `()`\n",
    "* Tupla de un solo elemento `z,`, `(z,)`\n",
    "* Elementos separados por coma `x, y, z` o `(x, y, z)`\n",
    "* Utilizando el constructor `tuple()` o `tuple(iterable)`\n",
    "\n",
    "Cabe mencionar que la coma es lo que define a la tupla. Los paréntesis son opcionales excepto con la tupla vacía o cuando se requieran para evitar ambigüedad sintáctica.\n",
    "`f(a, b, c)` -> función con tres argumentos.\n",
    "`f((a, b, c))` -> función con una tupla como argumento.\n",
    "\n",
    "Beneficios de las tuplas:\n",
    "* Son más rápidas que las listas.\n",
    "* Evitan que los datos sean modificados.\n",
    "* Pueden ser empleadas como llaves en diccionarios (las listas no)."
   ]
  },
  {
   "cell_type": "code",
   "execution_count": 31,
   "metadata": {},
   "outputs": [
    {
     "data": {
      "text/plain": [
       "100"
      ]
     },
     "execution_count": 31,
     "metadata": {},
     "output_type": "execute_result"
    }
   ],
   "source": [
    "point[0]"
   ]
  },
  {
   "cell_type": "markdown",
   "metadata": {},
   "source": [
    "Las listas son secuencias mutables, empleadas para almacenar colecciones de datos homogéneos.\n",
    "* Lista vacía `[]`\n",
    "* Lista con items `[a]`, `[a, b, c]`\n",
    "* List comprehension `[x for x in iterable]`\n",
    "* Empleando el constructor `list()` o `list()` "
   ]
  },
  {
   "cell_type": "code",
   "execution_count": 32,
   "metadata": {},
   "outputs": [
    {
     "data": {
      "text/plain": [
       "2"
      ]
     },
     "execution_count": 32,
     "metadata": {},
     "output_type": "execute_result"
    }
   ],
   "source": [
    "basket[1][1]"
   ]
  },
  {
   "cell_type": "markdown",
   "metadata": {},
   "source": [
    "Operaciones comunes en secuencias\n",
    "\n",
    "La mayoría de los tipos secuenciales, tanto mutables como inmutables soportan las operaciones mencionadas en la tabla de abajo. La clase base abstracta (ABC) `collections.abc.Sequence` se provee para facilitar la correcta implementación de estas operaciones en tipos personalizados de secuencias.\n",
    "\n",
    "Las operaciones se encuentran ordenadas de forma ascendente por prioridad. *s* y *t* son secuencias del mismo tipo, *n*, *i*, *j* y *k* son enteros  y *x* es un objeto arbitrario que cumple con las restricciones de tipo y valor impuestas por *s*.\n",
    "\n",
    "\n",
    "| Operación | Resultado |\n",
    "| --- | --- |\n",
    "| `x in s` | `True` si un elemento de *s* es igual a *x*. `False` en caso contrario |\n",
    "| `x not in s` | `False` si un elementos de es igual a *x*. `True` en caso contrario  |\n",
    "| `s + t` | La concatenación de *s* y *t* |\n",
    "| `s * n` o `n * s` | Equivalente a añadir *s* a sí mismo *n* veces |\n",
    "| `s[i]` | i-ésimo elemento de `s`, origen 0|\n",
    "| `s[i:j]` | el segmento (referido como slice) de *s* desde *i* hasta *j* |\n",
    "| `s[i:j:k]` | el segmento (referido como slice) de *s* desde *i* hasta *j* con paso *k* |\n",
    "| `len(s)` | longitud de *s* |\n",
    "| `min(s)` | elemento más pequeño de `s` |\n",
    "| `max(s)` | elemento más grande de `s` |\n",
    "| `s.index(x[, i[, j]])`| Índice de la primera ocurrencia de *x* en *s* )en o después del índice i y antes del índice *j* |\n",
    "| `s.count(x)` | Número total de ocurrencias de `x` en `s` |"
   ]
  },
  {
   "cell_type": "markdown",
   "metadata": {},
   "source": [
    "Operaciones en secuencias mutables\n",
    "\n",
    "Las operaciones en la siguiente tabla están definidas para tipos de secuencias mutables. La clase base abstracta ABC se proveé para facilitar la correcta implementación de estas operaciones en tipos personalizados de secuencias.\n",
    "\n",
    "En la tabla, *s* es una instancia de un tipo de secuencia mutable, *t* es un objeto iterable y *x* es un objeto arbitrario que cumple con cualquier restricción de tipo y valor impuestas por *s*.\n",
    "\n",
    "| Operación | Resultado |\n",
    "| --- | --- |\n",
    "| `s[i] = x` | El elemento *i* de *s* es reemplazado por *x* |\n",
    "| `s[i:j] = t` | El segmento (referido como slice) desde *i* hasta *j* es reemplazado por el iterable *t* |\n",
    "| `del s[i:j]` | Equivalente a `s[i:j] = []`|\n",
    "| `s[i:j:k] = t` | Los elementos de `s[i:j:k]` son reemplazados por aquellos en *t* |\n",
    "| `del s[i:j:k]` | Elimina los elementos de `s[i:j:k]` de la secuencia |\n",
    "| `s.append(x)` | Añade *x* al final de la secuencia (equivalente a `s[len(s):len(s)] = [x]`) |\n",
    "| `s.clear()` | Elimina todos los elementos de *s* (equivalente a `del s[:]`) |\n",
    "| `s.copy()` | Crea una copia superficial de *s* (equivalente a `s[:]`)|\n",
    "| `s.extend(t)` o `s += t` | Extiende s con el contenido de *t* (en la mayoría de los casos equivalente a `s[len(s):len(s)] = t`) |\n",
    "| `s *= n`| Actualiza *s* con su contenido repetido *n* veces |\n",
    "| `s.insert(i, x)`| Inserta *x* en *s* en el índice especificado por *i* (equivalente a `s[i:i] = [x]`)|\n",
    "| `s.pop()` o `s.pop(i)` | Recupera el elemento en *i* y también lo elimina de *s* |\n",
    "| `s.remove(x)` | Elimina el primer elemento de *s* donde `s[i]` sea igual a *x* |\n",
    "| `s.reverse()` | Invierte los elementos de *s* inplace |"
   ]
  },
  {
   "cell_type": "markdown",
   "metadata": {},
   "source": [
    "¿Qué es la notación `[i:l:k]`?\n",
    "\n",
    "Slicing se refiere al proceso de acceder a un subconjunto de elementos de una secuencia. Los resultados obtenidos de una operación de slicing se conocen como _slices_.\n",
    "\n",
    "En esta notación `i` representa el inicio, `j` el fin y `k` el incremento asociado con la elección de elementos de una secuencia.\n"
   ]
  },
  {
   "cell_type": "code",
   "execution_count": 1,
   "metadata": {},
   "outputs": [
    {
     "data": {
      "text/plain": [
       "[1, 3, 5]"
      ]
     },
     "execution_count": 1,
     "metadata": {},
     "output_type": "execute_result"
    }
   ],
   "source": [
    "my_list = [1, 2, 3, 4, 5, 6]\n",
    "my_list[0:5:2]"
   ]
  },
  {
   "cell_type": "markdown",
   "metadata": {},
   "source": [
    "\n",
    "\n",
    "El slicing con tres partes (i, j y k) existe en Python desde la versión 1.4 y fue añadido al lenguaje por solicitud de desarrolladores de programación numérica quienes usan el tercer argumento de forma extensiva."
   ]
  },
  {
   "cell_type": "markdown",
   "metadata": {},
   "source": [
    "## Flujo de control"
   ]
  },
  {
   "cell_type": "markdown",
   "metadata": {},
   "source": [
    "## Range\n",
    "La función `range(n)` permite iterar sobre una secuencia de números. Genera un iterador de progresiones aritméticas las cuales inician en 0 y terminan en n-1. Por ejemplo:\n",
    "\n",
    "`range(7)`"
   ]
  },
  {
   "cell_type": "code",
   "execution_count": 33,
   "metadata": {},
   "outputs": [
    {
     "data": {
      "text/plain": [
       "range(0, 7)"
      ]
     },
     "execution_count": 33,
     "metadata": {},
     "output_type": "execute_result"
    }
   ],
   "source": [
    "range(7)"
   ]
  },
  {
   "cell_type": "markdown",
   "metadata": {},
   "source": [
    "Produce un iterador que genera los números del 0 al 4 que pueden ser empleados en un ciclo `for`"
   ]
  },
  {
   "cell_type": "code",
   "execution_count": 34,
   "metadata": {},
   "outputs": [
    {
     "name": "stdout",
     "output_type": "stream",
     "text": [
      "0\n",
      "1\n",
      "4\n",
      "9\n",
      "16\n",
      "25\n",
      "36\n"
     ]
    }
   ],
   "source": [
    "for _ in range(7):\n",
    "    print(_**2)"
   ]
  },
  {
   "cell_type": "markdown",
   "metadata": {},
   "source": [
    "`range(s, f)` produce una secuencia de enteros iniciando desde `s` y terminando en `f-1`"
   ]
  },
  {
   "cell_type": "code",
   "execution_count": 35,
   "metadata": {},
   "outputs": [
    {
     "data": {
      "text/plain": [
       "[1, 8, 27, 64, 125, 216, 343, 512, 729]"
      ]
     },
     "execution_count": 35,
     "metadata": {},
     "output_type": "execute_result"
    }
   ],
   "source": [
    "l = []\n",
    "for _ in range(1, 10):\n",
    "    l.append(_**3)\n",
    "l"
   ]
  },
  {
   "cell_type": "markdown",
   "metadata": {},
   "source": [
    "Es posible transformar los valores producidos por `range()` a una lista por medio del constructor `list()`."
   ]
  },
  {
   "cell_type": "code",
   "execution_count": 36,
   "metadata": {},
   "outputs": [
    {
     "data": {
      "text/plain": [
       "[10, 11, 12, 13, 14, 15, 16, 17, 18, 19]"
      ]
     },
     "execution_count": 36,
     "metadata": {},
     "output_type": "execute_result"
    }
   ],
   "source": [
    "list(range(10,20))"
   ]
  },
  {
   "cell_type": "markdown",
   "metadata": {},
   "source": [
    "Otra modalidad de `range` admite un tercer argumento indicando el incremento entre elementos.\n",
    "\n",
    "`range(begin, end, step)`"
   ]
  },
  {
   "cell_type": "code",
   "execution_count": 37,
   "metadata": {},
   "outputs": [
    {
     "name": "stdout",
     "output_type": "stream",
     "text": [
      "[0, 1, 2, 3, 4, 5, 6, 7, 8, 9]\n",
      "[0, 2, 4, 6, 8, 10, 12, 14, 16, 18]\n",
      "[0, 3, 6, 9, 12, 15, 18, 21, 24, 27]\n",
      "[0, 4, 8, 12, 16, 20, 24, 28, 32, 36]\n"
     ]
    }
   ],
   "source": [
    "for _ in range(1,5):\n",
    "    print(list(range(0, _*10, _)))"
   ]
  },
  {
   "cell_type": "markdown",
   "metadata": {},
   "source": [
    "## Variables\n",
    "En general, una variable se refiere a un nombre con el que es posible acceder a una ubicación de memoria en la computadora. \n",
    "\n",
    "Por ejemplo, en el caso del lenguaje C una variable se declara de la siguiente forma:\n",
    "\n",
    "```c\n",
    "int x;\n",
    "```\n",
    "\n",
    "Esta ubicación de memoria puede contener distintos tipos de valores como numéricos y texto. Por medio de ellas es posible almacenar y recuperar datos en la memoria temporal.\n",
    "\n",
    "A diferencia de otros lenguajes, en Python es posible _usar_ una variable sin declarar su tipo de datos. \n",
    "\n",
    "Python impide declarar una variable sin inicializarla."
   ]
  },
  {
   "cell_type": "code",
   "execution_count": 18,
   "metadata": {},
   "outputs": [
    {
     "ename": "NameError",
     "evalue": "name 'my_undefined_variable' is not defined",
     "output_type": "error",
     "traceback": [
      "\u001b[1;31m---------------------------------------------------------------------------\u001b[0m",
      "\u001b[1;31mNameError\u001b[0m                                 Traceback (most recent call last)",
      "\u001b[1;32m~\\AppData\\Local\\Temp/ipykernel_20024/3849348652.py\u001b[0m in \u001b[0;36m<module>\u001b[1;34m\u001b[0m\n\u001b[1;32m----> 1\u001b[1;33m \u001b[0mmy_undefined_variable\u001b[0m\u001b[1;33m\u001b[0m\u001b[1;33m\u001b[0m\u001b[0m\n\u001b[0m",
      "\u001b[1;31mNameError\u001b[0m: name 'my_undefined_variable' is not defined"
     ]
    }
   ],
   "source": [
    "my_undefined_variable"
   ]
  },
  {
   "cell_type": "markdown",
   "metadata": {},
   "source": [
    "Empleamos el operador `=` para que una variable haga referencia a un valor, apreciando que no se indica el tipo de dato de la variable al momento de asignarla."
   ]
  },
  {
   "cell_type": "code",
   "execution_count": 19,
   "metadata": {},
   "outputs": [],
   "source": [
    "my_defined_variable = 100"
   ]
  },
  {
   "cell_type": "markdown",
   "metadata": {},
   "source": [
    "Hay una importante distinción a tener en cuenta en Python: \n",
    "* Identidad.\n",
    "* Igualdad.\n",
    "\n",
    "La identidad se refiere al objeto en sí.\n",
    "\n",
    "La igualdad se refiere al valor.\n",
    "\n",
    "Los estatutos `is` e `is not` hacen comparaciones de identidad, mientras que los operadores `==` y `!=` hacen comparaciones de igualdad."
   ]
  },
  {
   "cell_type": "markdown",
   "metadata": {},
   "source": [
    "En este caso `my_defined_variable` es una referencia al valor `100` almacenado en la memoria de la computadora, lo cual podemos verificar por medio de las funciones `id()` e `is()`."
   ]
  },
  {
   "cell_type": "code",
   "execution_count": 30,
   "metadata": {},
   "outputs": [
    {
     "name": "stdout",
     "output_type": "stream",
     "text": [
      "(140713177983840,140713177983840)\n",
      "True\n"
     ]
    },
    {
     "name": "stderr",
     "output_type": "stream",
     "text": [
      "<>:1: SyntaxWarning: \"is\" with a literal. Did you mean \"==\"?\n",
      "<>:1: SyntaxWarning: \"is\" with a literal. Did you mean \"==\"?\n",
      "C:\\Users\\Marciano\\AppData\\Local\\Temp/ipykernel_20024/739140497.py:1: SyntaxWarning: \"is\" with a literal. Did you mean \"==\"?\n",
      "  print (\"({},{})\\n{}\".format(id(my_defined_variable), id(100), my_defined_variable is 100))\n"
     ]
    }
   ],
   "source": [
    "print (\"({},{})\\n{}\".format(id(my_defined_variable), id(100), my_defined_variable is 100))"
   ]
  },
  {
   "cell_type": "markdown",
   "metadata": {},
   "source": [
    "## Ciclos\n",
    "Los principales tipos de ciclos en programación incluyen:\n",
    "* Ciclos controlados por cuentas, por ejemplo el ciclo for en C el cual no está soportado en Python:\n",
    "\n",
    "`for (i=0; i<=n; i++>);`\n",
    "\n",
    "* Ciclos controlados por una condicional: El ciclo se repite hasta que se cumple una condición. Incluye ciclos while y do while.\n",
    "\n",
    "* Ciclos controlados por colecciones: Permiten iterar por los elementos de una colección, como una arreglo o una secuencia ordenada. Esto es similar a el ciclo for del shell bash.\n",
    "\n",
    "`for i in *, do echo $i; done` "
   ]
  },
  {
   "cell_type": "markdown",
   "metadata": {},
   "source": [
    "## Ciclos en Python\n",
    "Python ofrece dos tipos de ciclos: el ciclo `while` y el ciclo `for`, que corresponden a los ciclos controlados por condiciones y a los ciclos controlados por colecciones."
   ]
  },
  {
   "cell_type": "markdown",
   "metadata": {},
   "source": [
    "## Ciclos while\n",
    "En el ciclo while, se evalúa una condición y de cumplirse se ejecuta el bloque de código del ciclo. En general, dentro de este bloque de código existirán diversos estatutos, incluyendo aquellos que modifiquen las variables relacionadas con el estatuto while. Al finalizar el bloque se evalúa nuevamente el estatuto while. "
   ]
  },
  {
   "cell_type": "code",
   "execution_count": 38,
   "metadata": {},
   "outputs": [
    {
     "name": "stdout",
     "output_type": "stream",
     "text": [
      "La suma acumulada de 1 a 10 asciende a 55\n"
     ]
    }
   ],
   "source": [
    "#Suma acumulada con while\n",
    "n = 10\n",
    "total = 0 #El valor inicial\n",
    "counter = 1\n",
    "while counter <= n:\n",
    "    total += counter\n",
    "    counter += 1\n",
    "print(\"La suma acumulada de 1 a {} asciende a {}\".format(n, total))"
   ]
  },
  {
   "cell_type": "markdown",
   "metadata": {},
   "source": [
    "El estatuto `while` en Python incluye una parte opcional `else`, además de soporte al estatuto `break` para terminar la ejecución del ciclo, independientemente de la condición evaluada en él."
   ]
  },
  {
   "cell_type": "code",
   "execution_count": 39,
   "metadata": {},
   "outputs": [
    {
     "name": "stdout",
     "output_type": "stream",
     "text": [
      "Prediction larger than device reading. Try again.\n",
      "Ciao!\n"
     ]
    }
   ],
   "source": [
    "import random\n",
    "lower_threshold = 1 \n",
    "upper_threshold = 100\n",
    "device_reading = random.randint(lower_threshold, upper_threshold)\n",
    "prediction = 0\n",
    "while prediction != device_reading:\n",
    "    prediction = int(input(\"What is your prediction? [{},{}]? \".format(lower_threshold, upper_threshold)))\n",
    "    if prediction > 0:\n",
    "        #Hint the user\n",
    "        if prediction > device_reading:\n",
    "            print(\"Prediction larger than device reading. Try again.\")\n",
    "        else:\n",
    "            print(\"Prediction lower than device reading. Try again.\")\n",
    "\n",
    "    else:\n",
    "        print(\"Ciao!\")\n",
    "        break\n",
    "else:\n",
    "    print(\"Your prediction was correct!\")\n",
    "\n"
   ]
  },
  {
   "cell_type": "markdown",
   "metadata": {},
   "source": [
    "TODO: Modifica el código de prediction.py para que acepte la predicción si se encuentra en un rango del 10% del valor esperado. Ejecuta el programa desde el intérprete de Python para verificarlo. "
   ]
  },
  {
   "cell_type": "markdown",
   "metadata": {},
   "source": [
    "## Ciclos for"
   ]
  },
  {
   "cell_type": "markdown",
   "metadata": {},
   "source": [
    "Al igual que `while`, el estatuto `for` permite que un bloque de código se ejecute múltiples veces.\n",
    "\n",
    "Existe diversas variantes sintácticas y semánticas en los lenguajes de programación:\n",
    "* Ciclos controlados por cuentas: Estatuto con tres partes de la forma `for(A; Z; I)` donde A representa el estatuto de inicialización, Z representa la expresión de terminación e I representa la expresión de conteo. Por ejemplo, en el caso de C: \n",
    "\n",
    "`for (i=0; i<= n; i++)`\n",
    "\n",
    "Cabe mencionar que este tipo de ciclo for no está implementado en Python.\n",
    "\n",
    "* Rangos numéricos: Este tipo de ciclo es una simplificación del anterior. Es un ciclo de conteo o de enumeración. Comienza con un valor y cuenta hasta el valor final. Por ejemplo: `for i= to 100`.  Python tampoco usa este ciclo.\n",
    "\n",
    "* Ciclos for vectorizados: Se comportan como si todas las iteraciones se ejecutaran en paralelo. Todas las expresiones del lado derecho de las asignaciones se evalúan antes que las asignaciones.\n",
    "\n",
    "* Ciclo for basado en iteradores: Este es el tipo de ciclo for empleado por Python. El ciclo itera sobre una enumeración de un conjunto de elementos. Puede emplear iteradores implícitos o explícitos. En cada paso de iteración la variable del ciclo se asigna a un valor en la secuencia u otra colección de datos. Este tipo de ciclo for es el más conocido en los shells de Unix y Linux.\n",
    "\n",
    "El estatuto `for` de Python es aplicable para listas, tuplas, strings, las llaves de diccionarios y otros iterables.\n",
    "\n",
    "La sintaxis general de for en Python es:\n",
    "```\n",
    "for X in ITERABLE:\n",
    "    FOR_BLOCK\n",
    "else :\n",
    "    ELSE_BLOCK\n",
    "```"
   ]
  },
  {
   "cell_type": "code",
   "execution_count": 40,
   "metadata": {},
   "outputs": [
    {
     "name": "stdout",
     "output_type": "stream",
     "text": [
      "Drum set\n",
      "Djembé\n",
      "Cymbal\n",
      "Marimba\n",
      "Shaker\n",
      "Vibraphone\n",
      "Claves\n"
     ]
    }
   ],
   "source": [
    "percussion_instruments = [\"Drum set\", \"Djembé\", \"Cymbal\", \"Marimba\", \"Shaker\", \"Vibraphone\", \"Claves\"]\n",
    "for instrument in percussion_instruments:\n",
    "    print(instrument)"
   ]
  },
  {
   "cell_type": "markdown",
   "metadata": {},
   "source": [
    "El bloque `else`, conocido para programadores de Perl, resulta inusual para programadores de C o C++. Semanticamente funciona igual que la cláusula opcional `else` de un ciclo `while`. Solo se ejecuta si el procesamiento del ciclo no ha sido interrumpido por un estatuto break"
   ]
  },
  {
   "cell_type": "markdown",
   "metadata": {},
   "source": [
    "TODO: Implementa un estatuto `if/else` en `percussion_instruments.py` que cumpla con los siguientes requerimientos:\n",
    "    * Implementa un estatuto if/else para validar que no haya instrumentos de cuerdas. De momento solo: \"Electric Bass\".\n",
    "    * Si existe un instrumento no percusivo, muéstralo en la consolo y rompe el ciclo de procesamiento con `break`.\n",
    "    * Si el instrumento es de percusión, despliega un mensaje en la consola indicando el nombre del instrumento.\n",
    "    * Implementa el estatuto final `else` del ciclo for mostrando el mensaje \"So glad, just drums in this list!\" solo si todos los instrumentos de la colección son de percusión."
   ]
  },
  {
   "cell_type": "code",
   "execution_count": 41,
   "metadata": {},
   "outputs": [
    {
     "name": "stdout",
     "output_type": "stream",
     "text": [
      "Great instrument! Drum set\n",
      "Great instrument! Djembé\n",
      "Sorry, no strings here!\n",
      "We are all done here!\n"
     ]
    }
   ],
   "source": [
    "percussion_instruments = [\"Drum set\", \"Djembé\", \"Electric Bass\", \"Cymbal\", \"Marimba\", \"Shaker\", \"Vibraphone\", \"Claves\"]\n",
    "for instrument in percussion_instruments:\n",
    "    if instrument == \"Electric Bass\":\n",
    "        print(\"Sorry, no strings here!\")\n",
    "        break\n",
    "    print(\"Great instrument!\", instrument, sep= \" \")\n",
    "else:\n",
    "    print(\"So glad, just drums in this list!\")\n",
    "print(\"We are all done here!\")"
   ]
  },
  {
   "cell_type": "markdown",
   "metadata": {},
   "source": [
    "## Slicing\n",
    "Podemos usar slicing con secuencias de caracteres."
   ]
  },
  {
   "cell_type": "code",
   "execution_count": 4,
   "metadata": {},
   "outputs": [
    {
     "data": {
      "text/plain": [
       "'Ltssieti tig'"
      ]
     },
     "execution_count": 4,
     "metadata": {},
     "output_type": "execute_result"
    }
   ],
   "source": [
    "some_string = \"Let's slice this string!\"\n",
    "some_string[0::2]"
   ]
  },
  {
   "cell_type": "markdown",
   "metadata": {},
   "source": [
    "También podemos usarlo con listas."
   ]
  },
  {
   "cell_type": "code",
   "execution_count": 5,
   "metadata": {},
   "outputs": [
    {
     "data": {
      "text/plain": [
       "[1, 4, 7]"
      ]
     },
     "execution_count": 5,
     "metadata": {},
     "output_type": "execute_result"
    }
   ],
   "source": [
    "some_list= [1, 2, 3, 4, 5, 6, 7, 8]\n",
    "some_list[0:7:3]"
   ]
  },
  {
   "cell_type": "markdown",
   "metadata": {},
   "source": [
    "Y con funciones `range()`."
   ]
  },
  {
   "cell_type": "code",
   "execution_count": 12,
   "metadata": {},
   "outputs": [
    {
     "data": {
      "text/plain": [
       "[0, 1, 2, 3, 4, 5, 6, 7, 8, 9, 10]"
      ]
     },
     "execution_count": 12,
     "metadata": {},
     "output_type": "execute_result"
    }
   ],
   "source": [
    "list(range(0,11,1)) \n"
   ]
  },
  {
   "cell_type": "markdown",
   "metadata": {},
   "source": [
    "Python proveé medios para procesar conjuntos de datos sin requerir de estatutos `for` o `while`, los cuales emplean un enfoque iterativo.\n",
    "\n",
    "Entre ellos se encuentran librerías como `itertools` y `numpy`."
   ]
  },
  {
   "cell_type": "markdown",
   "metadata": {},
   "source": [
    "Sumar los dígitos 1 a 5 de forma iterativa:"
   ]
  },
  {
   "cell_type": "code",
   "execution_count": 14,
   "metadata": {},
   "outputs": [
    {
     "name": "stdout",
     "output_type": "stream",
     "text": [
      "10\n"
     ]
    }
   ],
   "source": [
    "result = 0\n",
    "for i in range(1,5):\n",
    "    result = result + i\n",
    "print(result)"
   ]
  },
  {
   "cell_type": "markdown",
   "metadata": {},
   "source": [
    "Enfoque basado en vectores (vectorization):"
   ]
  },
  {
   "cell_type": "code",
   "execution_count": 15,
   "metadata": {},
   "outputs": [
    {
     "data": {
      "text/plain": [
       "10"
      ]
     },
     "execution_count": 15,
     "metadata": {},
     "output_type": "execute_result"
    }
   ],
   "source": [
    "import numpy as np\n",
    "my_array = np.array([1,2,3,4])\n",
    "np.sum(my_array)"
   ]
  },
  {
   "cell_type": "markdown",
   "metadata": {},
   "source": [
    "## Funciones"
   ]
  },
  {
   "cell_type": "markdown",
   "metadata": {},
   "source": [
    "Las funciones son un elemento de estructuración en programación que agrupan un conjunto de elementos de tal forma que puedan emplearse más de una vez en un programa. El uso de funciones evita código redundante, mejora la capacidad de entendimiento del código y la calidad del programa. También reduce el costo de desarrollo y mantenimiento del código.\n",
    "\n",
    "Las funciones en Python tienen la siguiente forma:\n",
    "```\n",
    "def function_name(parameter_list):\n",
    "    statements\n",
    "    return\n",
    "```\n",
    "\n",
    "Los argumentos (conocidos en otros lenguajes de programación como parámetros) pueden ser:\n",
    "* Ninguno.\n",
    "* Nombrados.\n",
    "* Nombrados con valor por omisión en la declaración.\n",
    "* Nombrados durante la invocación (keyword parameters).\n",
    "\n",
    "Las funciones pueden documentarse por medio de un `Docstring`, un string como primer estatuto en la función, el cual se accede por medio de `function_name.__doc__`."
   ]
  },
  {
   "cell_type": "markdown",
   "metadata": {},
   "source": [
    "Las funciones en Python difieren de sus contrapartes en C:\n",
    "* No es necesario especificar un tipo de retorno.\n",
    "* No es necesario especificar el tipo de los argumentos.\n",
    "* Es posible nombrar los argumentos en la invocación de funciones, los cuales podrían tener un orden distinto respecto a su definición."
   ]
  },
  {
   "cell_type": "markdown",
   "metadata": {},
   "source": [
    "El estatuto `pass` se conoce como el estatuto nulo y es empleado en programación Python en funciones donde no se requiera que ocurra nada. Esto ocurre al definir funciones que posteriormente serán implementadas.\n",
    "\n",
    "A diferencia de `# un comentario`, que es ignorado por el intérprete de Python, el estatuto `pass` se ejecuta, resultando en la operación NOP (no operation).\n",
    "\n",
    "NOTA: Si en la definición de una función, el primer renglón es un string, Python lo asigna al valor de la propiedad `__doc__` la cual es conocida como Docstring."
   ]
  },
  {
   "cell_type": "code",
   "execution_count": 42,
   "metadata": {},
   "outputs": [],
   "source": [
    "def no_implementation():\n",
    "    pass"
   ]
  },
  {
   "cell_type": "markdown",
   "metadata": {},
   "source": [
    "TODO: Implementa la función `dia_semana()` que provea el día de la semana en español. Usa el archivo fechas.py y el código listado abajo como punto de partida."
   ]
  },
  {
   "cell_type": "code",
   "execution_count": 43,
   "metadata": {},
   "outputs": [
    {
     "name": "stdout",
     "output_type": "stream",
     "text": [
      "\n"
     ]
    }
   ],
   "source": [
    "#Esto no es necesario para la implementación:\n",
    "import datetime as dt\n",
    "today = dt.datetime.today()\n",
    "num_dia_semana = today.weekday()\n",
    "\n",
    "#Se propone if/elif para la implementación, existen otras técnicas. ¿Se te ocurre alguna?\n",
    "nombre_dia_semana = \"\"\n",
    "if (num_dia_semana == 0):\n",
    "    nombre_dia_semana = \"Lunes\"\n",
    "#TODO: Añadir estatutos elif para los días adicionales de la semana...\n",
    "elif(num_dia_semana == 6):\n",
    "    nombre_dia_semana = \"Domingo\"\n",
    "print (nombre_dia_semana )"
   ]
  },
  {
   "cell_type": "markdown",
   "metadata": {},
   "source": [
    "Invoca la función desde el intérprete de Python en modo interactivo, pasando como parámetro el entero correspondiente al día de la semana provisto por la función estándar de Python datetime.datetime.weekday()."
   ]
  },
  {
   "cell_type": "code",
   "execution_count": 44,
   "metadata": {},
   "outputs": [
    {
     "name": "stdout",
     "output_type": "stream",
     "text": [
      "None\n"
     ]
    }
   ],
   "source": [
    "import datetime as dt\n",
    "import fechas\n",
    "today = dt.datetime.today()\n",
    "print(fechas.dia_semana(today))\n"
   ]
  },
  {
   "cell_type": "markdown",
   "metadata": {},
   "source": [
    "### Argumentos por omisión en funciones\n",
    "Los argumentos por omisión son aquellos que tienen un valor definido en la declaración de la función y que es asignado al no estar indicado en la invocación.\n",
    "\n",
    "Los argumentos por omisión se especifican por medio del operador `=` y el valor.\n",
    "```\n",
    "def my_function(some_arg = default_value):\n",
    "    pass\n",
    "```\n"
   ]
  },
  {
   "cell_type": "code",
   "execution_count": 45,
   "metadata": {},
   "outputs": [
    {
     "data": {
      "text/plain": [
       "'Hello all!'"
      ]
     },
     "execution_count": 45,
     "metadata": {},
     "output_type": "execute_result"
    }
   ],
   "source": [
    "def greet(name=\"all\"):\n",
    "    return \"Hello \" + name + \"!\"\n",
    "\n",
    "greet(\"Student\")\n",
    "greet()"
   ]
  },
  {
   "cell_type": "markdown",
   "metadata": {},
   "source": [
    "Es importante destacar que los valores por omisión se crean cuando la función es compilada, no cuando es invocada. Esto es distinto al comportamiento de argumentos por omisión en otros lenguajes de programación. En el caso de argumentos con valores por omisión de  tipos mutables (listas, por ejemplo) Python hará referencia al mismo objeto en distintas invocaciones de la función."
   ]
  },
  {
   "cell_type": "code",
   "execution_count": 46,
   "metadata": {},
   "outputs": [],
   "source": [
    "def greeter(words = []):\n",
    "    \"\"\"A friendly function!\"\"\"\n",
    "    words.append(\"Aloha!\")\n",
    "    return words"
   ]
  },
  {
   "cell_type": "markdown",
   "metadata": {},
   "source": [
    "Observemos que al implementar la función, el compilador crea un atributo `__defaults__`"
   ]
  },
  {
   "cell_type": "code",
   "execution_count": 47,
   "metadata": {},
   "outputs": [
    {
     "data": {
      "text/plain": [
       "([],)"
      ]
     },
     "execution_count": 47,
     "metadata": {},
     "output_type": "execute_result"
    }
   ],
   "source": [
    "greeter.__defaults__"
   ]
  },
  {
   "cell_type": "markdown",
   "metadata": {},
   "source": [
    "Invocar esta función una vez sin argumento regresa el resultado esperado."
   ]
  },
  {
   "cell_type": "code",
   "execution_count": 48,
   "metadata": {},
   "outputs": [
    {
     "data": {
      "text/plain": [
       "['Aloha!']"
      ]
     },
     "execution_count": 48,
     "metadata": {},
     "output_type": "execute_result"
    }
   ],
   "source": [
    "greeter()"
   ]
  },
  {
   "cell_type": "markdown",
   "metadata": {},
   "source": [
    "Verifiquemos el atributo `__defaults__` después de la primera invocación."
   ]
  },
  {
   "cell_type": "code",
   "execution_count": 49,
   "metadata": {},
   "outputs": [
    {
     "data": {
      "text/plain": [
       "(['Aloha!'],)"
      ]
     },
     "execution_count": 49,
     "metadata": {},
     "output_type": "execute_result"
    }
   ],
   "source": [
    "greeter.__defaults__"
   ]
  },
  {
   "cell_type": "markdown",
   "metadata": {},
   "source": [
    "Podría resultar sorprendente la segunda invocación a esta función."
   ]
  },
  {
   "cell_type": "code",
   "execution_count": 50,
   "metadata": {},
   "outputs": [
    {
     "data": {
      "text/plain": [
       "['Aloha!', 'Aloha!']"
      ]
     },
     "execution_count": 50,
     "metadata": {},
     "output_type": "execute_result"
    }
   ],
   "source": [
    "greeter()"
   ]
  },
  {
   "cell_type": "markdown",
   "metadata": {},
   "source": [
    "Observemos el valor de __defaults__ en este momento."
   ]
  },
  {
   "cell_type": "code",
   "execution_count": 51,
   "metadata": {},
   "outputs": [
    {
     "data": {
      "text/plain": [
       "(['Aloha!', 'Aloha!'],)"
      ]
     },
     "execution_count": 51,
     "metadata": {},
     "output_type": "execute_result"
    }
   ],
   "source": [
    "greeter.__defaults__"
   ]
  },
  {
   "cell_type": "markdown",
   "metadata": {},
   "source": [
    "Para evitar este comportamiento se recomienda asignar el valor por omisión al valor inmutable `__None__`"
   ]
  },
  {
   "cell_type": "code",
   "execution_count": 52,
   "metadata": {},
   "outputs": [
    {
     "name": "stdout",
     "output_type": "stream",
     "text": [
      "['Aloha!']\n",
      "['Aloha!']\n",
      "['Aloha!']\n",
      "['Aloha!']\n",
      "['Aloha!']\n",
      "greeter.__defaults__ (None,)\n"
     ]
    }
   ],
   "source": [
    "def greeter(words = None):\n",
    "    \"\"\"A friendly function!\"\"\"\n",
    "    if words is None:\n",
    "        words = []\n",
    "    words.append(\"Aloha!\")\n",
    "    return words\n",
    "\n",
    "for _ in range(5):\n",
    "    print(greeter())\n",
    "\n",
    "print(\"greeter.__defaults__\", greeter.__defaults__)"
   ]
  },
  {
   "cell_type": "markdown",
   "metadata": {},
   "source": [
    "### Docstrings\n",
    "El atributo `__doc__` hace referencia al string que sigue a la definición de la función.\n",
    "```\n",
    "def my_documented_function():\n",
    "    \"\"\" \n",
    "    Arguments:\n",
    "    Behaviour:\n",
    "    Return value:\n",
    "    \"\"\"\n",
    "    pass\n",
    "```\n",
    "el cual puede accederse de la siguiente manera: `my_documented_function.__doc__`"
   ]
  },
  {
   "cell_type": "code",
   "execution_count": 53,
   "metadata": {},
   "outputs": [
    {
     "data": {
      "text/plain": [
       "'A friendly function!'"
      ]
     },
     "execution_count": 53,
     "metadata": {},
     "output_type": "execute_result"
    }
   ],
   "source": [
    "greeter.__doc__"
   ]
  },
  {
   "cell_type": "markdown",
   "metadata": {},
   "source": [
    "### Argumentos nombrados durante la invocación (keyword parameters)\n",
    "El uso de keyword parameters evita declarar parámetros para los que se requiera el valor por omisión mientras se proveé el valor de parámetros que lo requieran. Para ello se requiere:\n",
    "* Definir el valor por omisión del argumento en la definición de la función.\n",
    "* Especificar el nombre del parámetro junto con su valor en la invocación de la función.\n",
    "\n",
    "Nota: Los argumentos que no tienen valor por omisión deben declararse primero en la definición de la función."
   ]
  },
  {
   "cell_type": "code",
   "execution_count": 54,
   "metadata": {},
   "outputs": [
    {
     "ename": "SyntaxError",
     "evalue": "non-default argument follows default argument (Temp/ipykernel_27412/2738292411.py, line 1)",
     "output_type": "error",
     "traceback": [
      "\u001b[1;36m  File \u001b[1;32m\"C:\\Users\\Marciano\\AppData\\Local\\Temp/ipykernel_27412/2738292411.py\"\u001b[1;36m, line \u001b[1;32m1\u001b[0m\n\u001b[1;33m    def bogus_function(a, b, epsilon=0, alpha):\u001b[0m\n\u001b[1;37m                       ^\u001b[0m\n\u001b[1;31mSyntaxError\u001b[0m\u001b[1;31m:\u001b[0m non-default argument follows default argument\n"
     ]
    }
   ],
   "source": [
    "def bogus_function(a, b, epsilon=0, alpha):\n",
    "    return alpha*(a + b)/epsilon"
   ]
  },
  {
   "cell_type": "markdown",
   "metadata": {},
   "source": [
    "La forma sintácticamente correcta de definir esta función:"
   ]
  },
  {
   "cell_type": "code",
   "execution_count": 55,
   "metadata": {},
   "outputs": [],
   "source": [
    "def not_so_bogus_function(a, b, alpha, epsilon=0):\n",
    "    return alpha*(a + b)/epsilon"
   ]
  },
  {
   "cell_type": "markdown",
   "metadata": {},
   "source": [
    "### Valores de retorno en las funciones\n",
    "En los ejemplos previos utilizamos el estatuto `return` \n",
    "| Estatuto de retorno | Valor regresado \n",
    "| --- | --- |\n",
    "| Omiso | `None` |\n",
    "| `return` | `None` |\n",
    "| `return x` | x |\n"
   ]
  },
  {
   "cell_type": "code",
   "execution_count": 56,
   "metadata": {},
   "outputs": [
    {
     "data": {
      "text/plain": [
       "'a'"
      ]
     },
     "execution_count": 56,
     "metadata": {},
     "output_type": "execute_result"
    }
   ],
   "source": [
    "result = \"a\"\n",
    "def no_return(a, b):\n",
    "    result = a + b\n",
    "\n",
    "res = no_return(10, 20)\n",
    "res == None\n",
    "result"
   ]
  },
  {
   "cell_type": "code",
   "execution_count": 57,
   "metadata": {},
   "outputs": [
    {
     "data": {
      "text/plain": [
       "False"
      ]
     },
     "execution_count": 57,
     "metadata": {},
     "output_type": "execute_result"
    }
   ],
   "source": [
    "def no_return_either(a, b):\n",
    "    result = a ** b\n",
    "\n",
    "res = no_return_either(2, 8)\n",
    "res == 2 ** 8"
   ]
  },
  {
   "cell_type": "code",
   "execution_count": 58,
   "metadata": {},
   "outputs": [
    {
     "data": {
      "text/plain": [
       "True"
      ]
     },
     "execution_count": 58,
     "metadata": {},
     "output_type": "execute_result"
    }
   ],
   "source": [
    "def does_return(a, b):\n",
    "    return a ** b\n",
    "\n",
    "2 ** 8 == does_return(2, 8)\n"
   ]
  },
  {
   "cell_type": "markdown",
   "metadata": {},
   "source": [
    "### Regresando múltiples valores\n",
    "Las funciones en Python regresan exactamente un objeto. Este objeto puede ser dimensión unitaria (entero, float, booleano) o multidimensional (tupla, lista, diccionario).\n",
    "\n",
    "Recordemos que el delimitador coma `,` es el que define una tupla. Los paréntesis son opcionales. Frecuentemente funciones implementadas en Python toman ventaja de esta expresividad."
   ]
  },
  {
   "cell_type": "code",
   "execution_count": 59,
   "metadata": {},
   "outputs": [
    {
     "name": "stdout",
     "output_type": "stream",
     "text": [
      "[0, 10, 20]\n",
      "[30, 40, 50]\n"
     ]
    }
   ],
   "source": [
    "def partition_dataset(dataset, split_percent):\n",
    "    #A simple particion approach...\n",
    "    split_point = int(len(dataset) * split_percent)\n",
    "    return dataset[:split_point], dataset[split_point:]\n",
    "\n",
    "dataset = list(range(0,60,10))\n",
    "train, test = partition_dataset(dataset, 0.5)\n",
    "print(train)\n",
    "print(test)\n"
   ]
  },
  {
   "cell_type": "markdown",
   "metadata": {},
   "source": [
    "Para salir del intérprete en modalidad interactiva:\n",
    "* `exit()`\n",
    "* CTRL+Z"
   ]
  },
  {
   "cell_type": "markdown",
   "metadata": {},
   "source": [
    "# El intérprete de Python en modalidad de comandos no interactivos\n",
    "Esta modalidad se invoca al ejecutar el nombre del intérprete de Python desde una terminal de sistema operativo con el argumento `-c`, el nombre del comando y opcionalmente sus argumentos:\n",
    "\n",
    "`python -c command [arg] ...`\n",
    "\n",
    "Ejecuta los siguientes comandos desde la terminal de sistema operativo:\n",
    "\n",
    "`python -c \"print(len('Hello World!'))\" `\n",
    "\n",
    "`python -c \"print('Hello {}!\".format(argv[1]))' student` "
   ]
  },
  {
   "cell_type": "markdown",
   "metadata": {},
   "source": [
    "Es posible ejecutar múltiples estatutos de Python en esta modalidad separados por punto y coma `;`.\n",
    "\n",
    "`python -c \"import sys;print(sys.copyright)\"` "
   ]
  },
  {
   "cell_type": "markdown",
   "metadata": {},
   "source": [
    "# El intérprete de Python en modalidad de ejecucion de módulos\n",
    "Esta modalidad se invoca al ejecutar el nombre del intérprete de Python desde una terminal de sistema operativo con el argumento `-m`, el nombre del módulo y opcionalmente sus argumentos:\n",
    "\n",
    "`python -m module [arg] ...`\n",
    "\n",
    "Ejecuta el siguiente comando desde la terminal de sistema operativo:\n",
    "`python -m hello`"
   ]
  },
  {
   "cell_type": "markdown",
   "metadata": {},
   "source": [
    "# El intérprete de Python en modalidad de ejecución de scripts\n",
    "Esta modalidad se invoca al ejecutar el nombre del intérprete de Python desde una terminal de sistema operativo con el nombre del archivo de código fuente de Python y opcionalmente sus argumentos:\n",
    "\n",
    "`python source_file.py [arg] ...`\n",
    "\n",
    "TODO: Ejecuta el siguiente comando desde la terminal de sistema operativo:\n",
    "\n",
    "`python hello.py`"
   ]
  },
  {
   "cell_type": "markdown",
   "metadata": {},
   "source": [
    "Ejecuta el archivo divisions.py con el intérprete de Python en modalidad de ejecución de scripts y observa los resultados.\n",
    "\n",
    "`python divisions.py`\n",
    "\n",
    "Modifica el archivo para que se muestren los resultados de cada división."
   ]
  },
  {
   "cell_type": "markdown",
   "metadata": {},
   "source": [
    "# Argumentos para el intérprete de Python\n",
    "La variable `argv` del módulo `sys` es una lista con el nombre del script y sus argumentos. Es posible acceder a esta lista por medio del estatuto `import sys`\n",
    "\n",
    "TODO: Ejecuta el siguiente comando desde la terminal de sistema operativo:\n",
    "`python hello_args.py YOUR_NAME`"
   ]
  },
  {
   "cell_type": "markdown",
   "metadata": {},
   "source": [
    "Ejecuta el siguiente comando desde la terminal de sistema operativo:\n",
    "```\n",
    "python scriptable.py 10\n",
    "```"
   ]
  }
 ],
 "metadata": {
  "interpreter": {
   "hash": "dff1176a825098967b08dbdbf002aed5f4d2fbc0230cbe7a7b9c071948b7fba3"
  },
  "kernelspec": {
   "display_name": "Python 3.8.12 64-bit ('alteryx': conda)",
   "language": "python",
   "name": "python3"
  },
  "language_info": {
   "codemirror_mode": {
    "name": "ipython",
    "version": 3
   },
   "file_extension": ".py",
   "mimetype": "text/x-python",
   "name": "python",
   "nbconvert_exporter": "python",
   "pygments_lexer": "ipython3",
   "version": "3.8.12"
  },
  "orig_nbformat": 4
 },
 "nbformat": 4,
 "nbformat_minor": 2
}
