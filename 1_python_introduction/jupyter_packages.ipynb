{
 "cells": [
  {
   "cell_type": "markdown",
   "metadata": {},
   "source": [
    "# Instalación de paquetes en Jupyter Notebook\n",
    "La instalación de paquetes en un notebook de Jupyter debe efectuarse en un contexto que sea accesible al kernel. La instalación de paquetes en el shell empleando los parámetros por omisión de los manejadores de paquetes podría resultar en que el paquete sea inaccesible para el kernel.\n",
    "\n",
    "# Criterios para elegir el manejador de paquetes\n",
    "* `pip` instala los paquetes de Python en cualquier entorno.\n",
    "* `conda` instala cualquier paquete en un entorno de conda.\n",
    "\n",
    "* Si Python fue instalado con Anaconda o Miniconda, se recomienda usar `conda` para instalar los paquetes de Python. Si el paquete no se encuentra disponible en conda se recomienda usar otros canales de distribución en conda como `conda-forge` y de no estar disponible con `pip`.\n",
    "\n",
    "* Si Python fue instalado de otra forma (source, pyenv, virtualenv), se recomienda usar `pip` para instalar los paquetes.\n",
    "\n",
    "# Importante\n",
    "* Se recomienda crear ambientes aislados de Python de la instalación de Python del sistema operativo. \n",
    "* Evitar instalar paquetes de Python con con elevación de privilegios en la instalación de Python del sistema operativo\n",
    "\n",
    "ABSTENERSE DE EJECUTAR:\n",
    "\n",
    "```\n",
    "#DON'T DO THIS!\n",
    "sudo pip install\n",
    "```\n"
   ]
  },
  {
   "cell_type": "markdown",
   "metadata": {},
   "source": [
    "# Usar Conda desde Jupyter Notebook\n",
    "Si Jupyter Notebook está corriendo desde un entorno de Conda se recomienda indicar de forma explícita la ubicación del entorno de conda al hacer la instalación"
   ]
  },
  {
   "cell_type": "markdown",
   "metadata": {},
   "source": [
    "`sys.prefix` provee el directorio padre de la instalación del intérprete"
   ]
  },
  {
   "cell_type": "code",
   "execution_count": 1,
   "metadata": {},
   "outputs": [
    {
     "data": {
      "text/plain": [
       "'C:\\\\Users\\\\Marciano\\\\.conda\\\\envs\\\\alteryx'"
      ]
     },
     "execution_count": 1,
     "metadata": {},
     "output_type": "execute_result"
    }
   ],
   "source": [
    "import sys\n",
    "sys.prefix"
   ]
  },
  {
   "cell_type": "code",
   "execution_count": 5,
   "metadata": {},
   "outputs": [
    {
     "name": "stdout",
     "output_type": "stream",
     "text": [
      "Collecting package metadata (current_repodata.json): ...working... done\n",
      "Solving environment: ...working... done\n",
      "\n",
      "# All requested packages already installed.\n",
      "\n"
     ]
    }
   ],
   "source": [
    "import sys\n",
    "!conda install --yes --prefix {sys.prefix} rope"
   ]
  },
  {
   "cell_type": "markdown",
   "metadata": {},
   "source": [
    "# Usar pip desde Jupyter Notebook\n",
    "Al instalar paquetes vía pip para Jupyter Notebook, se recomienda ejecutar `pip` indicando la ruta completamente calificada del intérprete requerido de Python para asegurar que se instale en la ubicación esperada.\n",
    "\n"
   ]
  },
  {
   "cell_type": "markdown",
   "metadata": {},
   "source": [
    "`sys.executable` proveé la ruta absoluta del ejecutable de  Python invocado originalmente por el programa."
   ]
  },
  {
   "cell_type": "code",
   "execution_count": 6,
   "metadata": {},
   "outputs": [
    {
     "data": {
      "text/plain": [
       "'C:\\\\Users\\\\Marciano\\\\.conda\\\\envs\\\\alteryx\\\\python.exe'"
      ]
     },
     "execution_count": 6,
     "metadata": {},
     "output_type": "execute_result"
    }
   ],
   "source": [
    "import sys\n",
    "sys.executable"
   ]
  },
  {
   "cell_type": "code",
   "execution_count": 7,
   "metadata": {},
   "outputs": [
    {
     "name": "stdout",
     "output_type": "stream",
     "text": [
      "Requirement already satisfied: softsynth in c:\\users\\marciano\\.conda\\envs\\alteryx\\lib\\site-packages (0.3.4)\n"
     ]
    }
   ],
   "source": [
    "import sys\n",
    "!{sys.executable} -m pip install softsynth"
   ]
  },
  {
   "cell_type": "markdown",
   "metadata": {},
   "source": [
    "En la mayoría de los casos, un paquete de Python instalado con `pip` o `conda` se colocará en un directorio denominado `site-packages`. Cada ejecutable de Python cuenta con su propio directorio `site-pagkages`. Por omisión, al instalar un paquete se asocia con un ejecutable de Python en particular y podrá ser empleado por esa instalación solamente."
   ]
  },
  {
   "cell_type": "markdown",
   "metadata": {},
   "source": [
    "Es posible verificar esto por medio de la variable sys.path de cada ejecutable de Python."
   ]
  },
  {
   "cell_type": "code",
   "execution_count": 8,
   "metadata": {},
   "outputs": [
    {
     "name": "stdout",
     "output_type": "stream",
     "text": [
      "-a.\n",
      "\n",
      "specified.\n"
     ]
    },
    {
     "name": "stderr",
     "output_type": "stream",
     "text": [
      "'-a.' is not recognized as an internal or external command,\n",
      "operable program or batch file.\n"
     ]
    },
    {
     "name": "stdout",
     "output_type": "stream",
     "text": [
      "\n",
      "python.\n"
     ]
    },
    {
     "name": "stderr",
     "output_type": "stream",
     "text": [
      "'specified.' is not recognized as an internal or external command,\n",
      "operable program or batch file.\n"
     ]
    },
    {
     "name": "stdout",
     "output_type": "stream",
     "text": [
      "\n"
     ]
    },
    {
     "name": "stderr",
     "output_type": "stream",
     "text": [
      "'python.' is not recognized as an internal or external command,\n",
      "operable program or batch file.\n"
     ]
    }
   ],
   "source": [
    "#Linux o MacOs\n",
    "paths = !type -a python\n",
    "for path in set(paths):\n",
    "    path = path.split()[-1]\n",
    "    print(path)\n",
    "    !{path} -c \"import sys; print(sys.path)\"\n",
    "    print()"
   ]
  },
  {
   "cell_type": "code",
   "execution_count": 15,
   "metadata": {},
   "outputs": [],
   "source": [
    "paths = !which -a python\n",
    "for path in set(paths):\n",
    "    path = path.split()[-1]\n",
    "    path = \"\\\\{}.exe\".format(path[3:].replace(\"/\", \"\\\\\"))\n",
    "    !path -c \"import sys; print(sys.path)\" #TODO: Display output"
   ]
  },
  {
   "cell_type": "code",
   "execution_count": 23,
   "metadata": {},
   "outputs": [
    {
     "name": "stdout",
     "output_type": "stream",
     "text": [
      "c:\\Users\\Marciano\\AppData\\Local\\Microsoft\\WindowsApps\\python.exe\n",
      "c:\\Python27\\python.exe\n",
      "c:\\Users\\Marciano\\.conda\\envs\\alteryx\\python.exe\n",
      "c:\\Python38\\python.exe\n"
     ]
    }
   ],
   "source": [
    "#Windows\n",
    "paths = !which -a python\n",
    "for path in set(paths):\n",
    "    path = path.split()[-1]\n",
    "    path = \"{}:\\\\{}.exe\".format(path[1],path[3:].replace(\"/\", \"\\\\\"))\n",
    "    #!path -c \"import sys; print(sys.path)\" TODO: Execute path and gather output\n",
    "    #TODO: Display output, excute from terminal\n",
    "    print(path)"
   ]
  },
  {
   "cell_type": "markdown",
   "metadata": {},
   "source": [
    "Determina el directorio donde se instalarán paquetes vía `pip`"
   ]
  },
  {
   "cell_type": "code",
   "execution_count": 24,
   "metadata": {},
   "outputs": [
    {
     "name": "stderr",
     "output_type": "stream",
     "text": [
      "The system cannot find the file specified.\n"
     ]
    }
   ],
   "source": [
    "#Linux, MacOS\n",
    "!type pip"
   ]
  },
  {
   "cell_type": "code",
   "execution_count": 25,
   "metadata": {},
   "outputs": [
    {
     "name": "stdout",
     "output_type": "stream",
     "text": [
      "Microsoft Windows [Version 10.0.19043.1348]\n",
      "(c) Microsoft Corporation. All rights reserved.\n",
      "\n",
      "(alteryx) c:\\src\\marmo\\alteryx\\1-Introduction>REM Windows\n",
      "\n",
      "(alteryx) c:\\src\\marmo\\alteryx\\1-Introduction>which pip\n",
      "/c/Users/Marciano/.conda/envs/alteryx/Scripts/pip\n",
      "\n",
      "(alteryx) c:\\src\\marmo\\alteryx\\1-Introduction>"
     ]
    }
   ],
   "source": [
    "%%cmd\n",
    "REM Windows\n",
    "which pip"
   ]
  },
  {
   "cell_type": "markdown",
   "metadata": {},
   "source": [
    "Verifica cuál es el ambiente activo donde se instalarán paquetes con `conda install`"
   ]
  },
  {
   "cell_type": "code",
   "execution_count": 26,
   "metadata": {},
   "outputs": [
    {
     "name": "stdout",
     "output_type": "stream",
     "text": [
      "# conda environments:\n",
      "#\n",
      "                         C:\\JupyterLab\\resources\\jlab_server\n",
      "base                     C:\\ProgramData\\Anaconda3\n",
      "alteryx               *  C:\\Users\\Marciano\\.conda\\envs\\alteryx\n",
      "alteryx-ui-sdk-2         C:\\Users\\Marciano\\.conda\\envs\\alteryx-ui-sdk-2\n",
      "ayx_python_sdk           C:\\Users\\Marciano\\.conda\\envs\\ayx_python_sdk\n",
      "nltk                     C:\\Users\\Marciano\\.conda\\envs\\nltk\n",
      "pdfminer                 C:\\Users\\Marciano\\.conda\\envs\\pdfminer\n",
      "py2                      C:\\Users\\Marciano\\.conda\\envs\\py2\n",
      "scrapper                 C:\\Users\\Marciano\\.conda\\envs\\scrapper\n",
      "shopify                  C:\\Users\\Marciano\\.conda\\envs\\shopify\n",
      "tf                       C:\\Users\\Marciano\\.conda\\envs\\tf\n",
      "tf21                     C:\\Users\\Marciano\\.conda\\envs\\tf21\n",
      "tn                       C:\\Users\\Marciano\\.conda\\envs\\tn\n",
      "                         C:\\Users\\Marciano\\.julia\\conda\\3\n",
      "\n"
     ]
    }
   ],
   "source": [
    "!conda env list\n"
   ]
  },
  {
   "cell_type": "markdown",
   "metadata": {},
   "source": [
    "Observamos que las invocaciones por omisión de `pip` y `conda` están asociadas con el ambiente Anaconda `alteryx`.  "
   ]
  },
  {
   "cell_type": "markdown",
   "metadata": {},
   "source": [
    "# Manejo de kernels en Jupyter\n",
    "Es posible modificar el kernel de Jupyter en cualquier momento empleando el comando Kernel -> Change Kernel en la interfaz default de Jupyter Notebook. \n",
    "\n",
    "Para consultar la lista de kernels disponibles invocamos:"
   ]
  },
  {
   "cell_type": "code",
   "execution_count": 27,
   "metadata": {},
   "outputs": [
    {
     "name": "stdout",
     "output_type": "stream",
     "text": [
      "Available kernels:\n",
      "  bash         C:\\Users\\Marciano\\AppData\\Roaming\\jupyter\\kernels\\bash\n",
      "  julia-1.6    C:\\Users\\Marciano\\AppData\\Roaming\\jupyter\\kernels\\julia-1.6\n",
      "  python3      C:\\Users\\Marciano\\.conda\\envs\\alteryx\\share\\jupyter\\kernels\\python3\n"
     ]
    }
   ],
   "source": [
    "!jupyter kernelspec list"
   ]
  },
  {
   "cell_type": "markdown",
   "metadata": {},
   "source": [
    "Cada uno de los kernels listados es un directorio que contiene un archivo denominado `kernel.json` que especifica, entre otras cosas, el lenguaje y ejecutable que el kernel debe emplear. Por ejemplo:"
   ]
  },
  {
   "cell_type": "code",
   "execution_count": 28,
   "metadata": {},
   "outputs": [
    {
     "name": "stderr",
     "output_type": "stream",
     "text": [
      "cat: kernel.json: No such file or directory\n"
     ]
    }
   ],
   "source": [
    "#Linux, MacOS\n",
    "!cat kernel.json"
   ]
  },
  {
   "cell_type": "code",
   "execution_count": 29,
   "metadata": {},
   "outputs": [
    {
     "name": "stdout",
     "output_type": "stream",
     "text": [
      "Microsoft Windows [Version 10.0.19043.1348]\n",
      "(c) Microsoft Corporation. All rights reserved.\n",
      "\n",
      "(alteryx) c:\\src\\marmo\\alteryx\\1-Introduction>type \"C:\\Users\\Marciano\\.conda\\envs\\alteryx\\share\\jupyter\\kernels\\python3\\kernel.json\"\n",
      "{\n",
      " \"argv\": [\n",
      "  \"C:/Users/Marciano/.conda/envs/alteryx\\\\python.exe\",\n",
      "  \"-m\",\n",
      "  \"ipykernel_launcher\",\n",
      "  \"-f\",\n",
      "  \"{connection_file}\"\n",
      " ],\n",
      " \"display_name\": \"Python 3 (ipykernel)\",\n",
      " \"language\": \"python\",\n",
      " \"metadata\": {\n",
      "  \"debugger\": true\n",
      " }\n",
      "}\n",
      "(alteryx) c:\\src\\marmo\\alteryx\\1-Introduction>"
     ]
    }
   ],
   "source": [
    "%%cmd\n",
    "type \"C:\\Users\\Marciano\\.conda\\envs\\alteryx\\share\\jupyter\\kernels\\python3\\kernel.json\""
   ]
  }
 ],
 "metadata": {
  "interpreter": {
   "hash": "dff1176a825098967b08dbdbf002aed5f4d2fbc0230cbe7a7b9c071948b7fba3"
  },
  "kernelspec": {
   "display_name": "Python 3.8.12 64-bit ('alteryx': conda)",
   "language": "python",
   "name": "python3"
  },
  "language_info": {
   "codemirror_mode": {
    "name": "ipython",
    "version": 3
   },
   "file_extension": ".py",
   "mimetype": "text/x-python",
   "name": "python",
   "nbconvert_exporter": "python",
   "pygments_lexer": "ipython3",
   "version": "3.8.12"
  },
  "orig_nbformat": 4
 },
 "nbformat": 4,
 "nbformat_minor": 2
}
