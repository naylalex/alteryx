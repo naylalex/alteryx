{
 "cells": [
  {
   "cell_type": "markdown",
   "metadata": {},
   "source": [
    "# Secuencias de caracteres (strings)"
   ]
  },
  {
   "cell_type": "markdown",
   "metadata": {},
   "source": [
    "Las secuencias de caracteres, también conocidas como strings, se representan por el tipo inmutable `str` que contiene una secuencia inmutable de caracteres Unicode. Es posible usar este tipo de datos como una función `str()` para crear objetos de tipo string, invocarlo sin argumentos regresa un string vacío, con un argumento distinto a un string, regresa la forma en string del argumento y con un argumento string regresa una copia del string. La función `str()` también puede emplearse como una función de conversión, el primer argumento corresponde a un string o un objeto convertible a string, el segundo especifica el encoding y el tercero especifica cómo manejar errores de codificación (encoding)."
   ]
  },
  {
   "cell_type": "code",
   "execution_count": 1,
   "metadata": {},
   "outputs": [
    {
     "data": {
      "text/plain": [
       "''"
      ]
     },
     "execution_count": 1,
     "metadata": {},
     "output_type": "execute_result"
    }
   ],
   "source": [
    "str()"
   ]
  },
  {
   "cell_type": "code",
   "execution_count": 3,
   "metadata": {},
   "outputs": [
    {
     "data": {
      "text/plain": [
       "'[1, 2, 3]'"
      ]
     },
     "execution_count": 3,
     "metadata": {},
     "output_type": "execute_result"
    }
   ],
   "source": [
    "str([1,2,3])"
   ]
  },
  {
   "cell_type": "code",
   "execution_count": 4,
   "metadata": {},
   "outputs": [
    {
     "data": {
      "text/plain": [
       "'Can I have a copy, please?'"
      ]
     },
     "execution_count": 4,
     "metadata": {},
     "output_type": "execute_result"
    }
   ],
   "source": [
    "str(\"Can I have a copy, please?\")"
   ]
  },
  {
   "cell_type": "code",
   "execution_count": 10,
   "metadata": {},
   "outputs": [
    {
     "ename": "UnicodeEncodeError",
     "evalue": "'ascii' codec can't encode character '\\U0001f600' in position 19: ordinal not in range(128)",
     "output_type": "error",
     "traceback": [
      "\u001b[1;31m---------------------------------------------------------------------------\u001b[0m",
      "\u001b[1;31mUnicodeEncodeError\u001b[0m                        Traceback (most recent call last)",
      "\u001b[1;32m~\\AppData\\Local\\Temp/ipykernel_21468/3523484089.py\u001b[0m in \u001b[0;36m<module>\u001b[1;34m\u001b[0m\n\u001b[1;32m----> 1\u001b[1;33m \u001b[0mstr\u001b[0m\u001b[1;33m.\u001b[0m\u001b[0mencode\u001b[0m\u001b[1;33m(\u001b[0m\u001b[1;34m\"Convert me, please 😀\"\u001b[0m\u001b[1;33m,\u001b[0m \u001b[1;34m\"ascii\"\u001b[0m\u001b[1;33m,\u001b[0m \u001b[1;34m\"strict\"\u001b[0m\u001b[1;33m)\u001b[0m\u001b[1;33m\u001b[0m\u001b[1;33m\u001b[0m\u001b[0m\n\u001b[0m",
      "\u001b[1;31mUnicodeEncodeError\u001b[0m: 'ascii' codec can't encode character '\\U0001f600' in position 19: ordinal not in range(128)"
     ]
    }
   ],
   "source": [
    "str.encode(\"Convert me, please 😀\", \"ascii\", \"strict\")"
   ]
  },
  {
   "cell_type": "markdown",
   "metadata": {},
   "source": [
    "Los strings pueden ser definidos con comillas sencillas, dobles o triples."
   ]
  },
  {
   "cell_type": "code",
   "execution_count": 13,
   "metadata": {},
   "outputs": [
    {
     "data": {
      "text/plain": [
       "'\\nString con comillas triples\\nSoporta múltiples renglones\\nTambién soporta escape, por lo que este se representa como un solo renglón.\\n'"
      ]
     },
     "execution_count": 13,
     "metadata": {},
     "output_type": "execute_result"
    }
   ],
   "source": [
    "'Comilla sencilla'\n",
    "\n",
    "\"Comilla doble\"\n",
    "\n",
    "\"\"\"\n",
    "String con comillas triples\n",
    "Soporta múltiples renglones\n",
    "También soporta escape, \\\n",
    "por lo que este se representa como un solo renglón.\n",
    "\"\"\""
   ]
  },
  {
   "cell_type": "markdown",
   "metadata": {},
   "source": [
    "El símbolo `\\` se emplea dentro de un string como carater de escape y por medio de él es posible incluir comillas en la secuencia de caracteres."
   ]
  },
  {
   "cell_type": "code",
   "execution_count": 1,
   "metadata": {},
   "outputs": [
    {
     "data": {
      "text/plain": [
       "'He said: \"I\\'m done for now\"'"
      ]
     },
     "execution_count": 1,
     "metadata": {},
     "output_type": "execute_result"
    }
   ],
   "source": [
    "greeting = \"He said: \\\"I'm done for now\\\"\"\n",
    "greeting"
   ]
  },
  {
   "cell_type": "markdown",
   "metadata": {},
   "source": [
    "Caracteres de escape\n",
    "\n",
    "| Escape | Significado |\n",
    "| --- | --- |\n",
    "| \\newline | Ignorar el caracter de nueva línea |\n",
    "| \\\\\\\\ | Backslash (\\\\)|\n",
    "| \\' | Comilla sencilla (') |\n",
    "| \\\\\" | Comilla doble (\") |\n",
    "| \\\\a | Campana ASCII (BEL) |\n",
    "| \\\\b | Backspace ASCII (BS) |\n",
    "| \\\\f | Formfeed ASCII (FF) |\n",
    "| \\\\n | Linefeed ASCII (LF) |\n",
    "| \\\\N{name} | Caracter Unicode con el nombre especificado |\n",
    "| \\\\ooo | Caracter con el valor octal especificado |\n",
    "| \\\\r | Retorno de carro ASCII (CR) |\n",
    "| \\\\t | Tabulador ASCII (TAB) |\n",
    "| \\\\u*hhhh* | Caracter Unicode con el valor hexadecimal de 16 bits especificado |\n",
    "| \\\\U*hhhhhhhh* | Caracter Unicode con el valor hexadecimal de 32 bits especificado | \n",
    "| \\\\v | Tabulador vertical ASCII (VT) |\n",
    "| \\\\x*hh* | Caracter con el valor hexadecimal de 8 bits especificado |"
   ]
  },
  {
   "cell_type": "markdown",
   "metadata": {},
   "source": [
    "Es posible usar comillas en secuencias de caracteres sin el caracter de escape empleando comillas distintas a las empleadas las comillas empleadas como delimitador."
   ]
  },
  {
   "cell_type": "code",
   "execution_count": 3,
   "metadata": {},
   "outputs": [
    {
     "name": "stdout",
     "output_type": "stream",
     "text": [
      "Comillas sencillas 'bienvenidas', dobles requieren \"escape\".\n"
     ]
    }
   ],
   "source": [
    "a = \"Comillas sencillas 'bienvenidas', dobles requieren \\\"escape\\\".\"\n",
    "print(a)\n"
   ]
  },
  {
   "cell_type": "code",
   "execution_count": 4,
   "metadata": {},
   "outputs": [
    {
     "name": "stdout",
     "output_type": "stream",
     "text": [
      "Comillas sencillas requieren 'escape', dobles \"bienvenidas\".\n"
     ]
    }
   ],
   "source": [
    "b = 'Comillas sencillas requieren \\'escape\\', dobles \"bienvenidas\".'\n",
    "print(b)"
   ]
  },
  {
   "cell_type": "markdown",
   "metadata": {},
   "source": [
    "Python emplea newline como su terminador de estatutos, excepto dentro de paréntesis, corchetes, llaves o secuencias de caracteres delimitadas por comilla triple. \n",
    "\n",
    "Es posible incluir newlines en cualquier secuencia de caracteres usando la secuencia de escape `\\n`\n",
    "\n",
    "Los newlines pueden ser empleados sin caracter de escape en secuencias de caracteres delimitadas por comilla triple."
   ]
  },
  {
   "cell_type": "markdown",
   "metadata": {},
   "source": [
    "Es posible escribir secuencia de caracteres largas segmentadas en múltiples renglones sin emplear triple comilla."
   ]
  },
  {
   "cell_type": "code",
   "execution_count": 12,
   "metadata": {},
   "outputs": [
    {
     "data": {
      "text/plain": [
       "'Una forma, poco recomendada, es por medio del operador + y el backslash el cual concatena dos secuencias de caracteres'"
      ]
     },
     "execution_count": 12,
     "metadata": {},
     "output_type": "execute_result"
    }
   ],
   "source": [
    "t = \"Una forma, poco recomendada, es por medio del operador + y el backslash el cual \" + \\\n",
    "    \"concatena dos secuencias de caracteres\"\n",
    "t"
   ]
  },
  {
   "cell_type": "code",
   "execution_count": 13,
   "metadata": {},
   "outputs": [
    {
     "data": {
      "text/plain": [
       "'La otra forma, recomendada, es colocando entre paréntesis, tantos renglones como sea necesariocada uno con sus propias comillas.'"
      ]
     },
     "execution_count": 13,
     "metadata": {},
     "output_type": "execute_result"
    }
   ],
   "source": [
    "s = (\"La otra forma, recomendada, es colocando entre paréntesis, \"\n",
    "    \"tantos renglones como sea necesario\"\n",
    "    \"cada uno con sus propias comillas.\")\n",
    "s"
   ]
  },
  {
   "cell_type": "markdown",
   "metadata": {},
   "source": [
    "En algunas circunstancias, como en la escritura de expresiones regulares, es necesario crear secuencias de caracteres con muchos backslashes literales. Esto puede ser poco conveniente debido a que cada uno tendría que estar asociado con un caracter de escape."
   ]
  },
  {
   "cell_type": "code",
   "execution_count": 15,
   "metadata": {},
   "outputs": [
    {
     "data": {
      "text/plain": [
       "('Isaac', 'Newton', 'physicist')"
      ]
     },
     "execution_count": 15,
     "metadata": {},
     "output_type": "execute_result"
    }
   ],
   "source": [
    "import re\n",
    "#Definición de una expresión regular con backslashes definidos por medio de escape -> \\\\\n",
    "m = re.match(\"(?P<first_name>\\\\w+) (?P<last_name>\\\\w+), (?P<title>\\\\w+)\", \"Isaac Newton, physicist\")\n",
    "m.group(\"first_name\", \"last_name\", \"title\")"
   ]
  },
  {
   "cell_type": "code",
   "execution_count": null,
   "metadata": {},
   "outputs": [],
   "source": [
    "import re\n",
    "#Definición de una expresión regular con string de tipo raw. Nótese el prefijo r el parámetro de la función match.\n",
    "m = re.match(r\"(?P<first_name>\\w+) (?P<last_name>\\w+), (?P<title>\\w+)\", \"Isaac Newton, physicist\")\n",
    "m.group(\"first_name\", \"last_name\", \"title\")"
   ]
  },
  {
   "cell_type": "markdown",
   "metadata": {},
   "source": [
    "Unicode\n",
    "Los archivos .py de Python tienen un encoding de UTF-8 por omisión. Esto permite escribir cualquier caracter de Unicode de forma directa, sin mecanismos de escape. De ser necesario, es posible colocar cualquier caracter Unicode dentro de los strings empleando secuencias hexadecimales de escape o nombres Unicode. Por ejemplo:"
   ]
  },
  {
   "cell_type": "code",
   "execution_count": 19,
   "metadata": {},
   "outputs": [
    {
     "data": {
      "text/plain": [
       "'Ø Ø Ø Ø'"
      ]
     },
     "execution_count": 19,
     "metadata": {},
     "output_type": "execute_result"
    }
   ],
   "source": [
    "rode_letter = \"Ø \\N{latin capital letter o with stroke} \\u00D8 \\U000000D8\"\n",
    "rode_letter"
   ]
  },
  {
   "cell_type": "markdown",
   "metadata": {},
   "source": [
    "Para conocer el code point de Unicaod (el entero asociado al caracter en el encoding de Unicode) para un caracter en particular en una secuencia, es posible emplear la función `ord()`"
   ]
  },
  {
   "cell_type": "code",
   "execution_count": 20,
   "metadata": {},
   "outputs": [
    {
     "data": {
      "text/plain": [
       "216"
      ]
     },
     "execution_count": 20,
     "metadata": {},
     "output_type": "execute_result"
    }
   ],
   "source": [
    "ord(rode_letter[0])"
   ]
  },
  {
   "cell_type": "code",
   "execution_count": 21,
   "metadata": {},
   "outputs": [
    {
     "data": {
      "text/plain": [
       "'0xd8'"
      ]
     },
     "execution_count": 21,
     "metadata": {},
     "output_type": "execute_result"
    }
   ],
   "source": [
    "hex(ord(rode_letter[0]))"
   ]
  },
  {
   "cell_type": "markdown",
   "metadata": {},
   "source": [
    "También es posible convertir cualquier entero que represente un code point válido al caracter Unicode correspondiente empleando la función `chr()`:"
   ]
  },
  {
   "cell_type": "code",
   "execution_count": 23,
   "metadata": {},
   "outputs": [
    {
     "data": {
      "text/plain": [
       "'The symbol of infinity: ∞'"
      ]
     },
     "execution_count": 23,
     "metadata": {},
     "output_type": "execute_result"
    }
   ],
   "source": [
    "s = \"The symbol of infinity: \" + chr(0x221E)\n",
    "s"
   ]
  },
  {
   "cell_type": "markdown",
   "metadata": {},
   "source": [
    "Si escribimos una secuencia de caracteres Unicode en el REPL de Python o en una celda de Jupyter, se produce como resultado su forma en string en la que los caracteres están delimitados por comillas. Si solo queremos caracteres ASCII, podemos emplear la función integrada ascii() que regresa la forma representativa de su argumento empleando caracteres ASCII de 7 bits donde sea posible y empleando la forma más corta de \\x*hh*, \\u*hhhh*, \\U*hhhhhhhh*."
   ]
  },
  {
   "cell_type": "code",
   "execution_count": 25,
   "metadata": {},
   "outputs": [
    {
     "data": {
      "text/plain": [
       "\"'The symbol of infinity: \\\\u221e'\""
      ]
     },
     "execution_count": 25,
     "metadata": {},
     "output_type": "execute_result"
    }
   ],
   "source": [
    "s = 'The symbol of infinity: ∞'\n",
    "ascii(s)"
   ]
  },
  {
   "cell_type": "markdown",
   "metadata": {},
   "source": [
    "Todo codepoint tiene un nombre. La lista de nombres está publicada en el documento [Unicode standard final names list](https://www.unicode.org/Public/UCD/latest/ucd/NamesList.txt)\n",
    "\n",
    "Cada versión de Python soporta una versión específica del estándar de Unicode que es posible consultar por medio de el atributo `unicodedata.unidata_version`"
   ]
  },
  {
   "cell_type": "code",
   "execution_count": 1,
   "metadata": {},
   "outputs": [
    {
     "name": "stdout",
     "output_type": "stream",
     "text": [
      "12.1.0\n"
     ]
    }
   ],
   "source": [
    "import unicodedata\n",
    "print(unicodedata.unidata_version)\n"
   ]
  },
  {
   "cell_type": "markdown",
   "metadata": {},
   "source": [
    "# Comparación de secuencias de caracteres"
   ]
  },
  {
   "cell_type": "markdown",
   "metadata": {},
   "source": [
    "Las secuencias de caracteres soportan los operadores de comparación usuales <, <=, ==, !=, > y >=. Estos operadores comparan las secuencias de caracteres byte por byte en memoria. Desafortunadamente, ocurren dos problemas cuando se llevan a cabo comparaciones, como en el caso de ordenar listas de secuencias de caracteres. Estos problemas inciden todos los lenguajes de programación que usan strings Unicode, no es un problema específico a Python.\n",
    "\n",
    "El primer problema es que algunos caracteres Unicode pueden ser representados por dos o más secuencias de bytes distintas. Por ejemplo el caracter Å (code point Unicode 'x00C5) puede ser representado en bytes codificados UTF-8 en tres formas distintas: 0xE2, 0x84, 0xAB], [0xC3, 0x85] y [0x41, 0xCCC, 0x8A]. Para resolver este problema se invoca la función unicode-data.normalize() con \"NFKC\" como su primer argumento (este es un método de normalización, existen tres más: \"NFC\", \"NFD\" y \"NFKD\" y un string conteniendo el caracter Å utilizando cualquiera de sus secuencias de bytes válidas)"
   ]
  },
  {
   "cell_type": "code",
   "execution_count": 4,
   "metadata": {},
   "outputs": [
    {
     "data": {
      "text/plain": [
       "'Å string'"
      ]
     },
     "execution_count": 4,
     "metadata": {},
     "output_type": "execute_result"
    }
   ],
   "source": [
    "unicodedata.normalize(\"NFKC\", \"Å string\")"
   ]
  },
  {
   "cell_type": "code",
   "execution_count": 10,
   "metadata": {},
   "outputs": [
    {
     "data": {
      "text/plain": [
       "\"'\\\\xc5 string'\""
      ]
     },
     "execution_count": 10,
     "metadata": {},
     "output_type": "execute_result"
    }
   ],
   "source": [
    "normalized_str = unicodedata.normalize(\"NFKC\", \"\\u00C5 string\")\n",
    "ascii(normalized_str)"
   ]
  },
  {
   "cell_type": "markdown",
   "metadata": {},
   "source": [
    "El segundo problema es que el ordenamiento de algunos caracteres es específico a lenguaje. Por ejemplo, la letra ä en Danés se ordena después de la *z*, mientras que en Alemán ä se ordena como si se pronunciara *ae*. Otro ejemplo es la letra ø la cual se ordena como si fuera *o* en inglés, mientras que en Danés y Noruego se ordena después de la *z*. Este problema se complica cuando los usuarios de las aplicaciones son de distintas nacionalidades (quienes tienen distintos criterios de ordenamiento) y en ocasiones los strings se encuentran en distintos idiomas.\n",
    "\n",
    "Python, por política, y para evitar problemas sutiles, no asume nada. En el caso de la comparación de secuencias de caracteres, lo hace empleando la representación en memoria de la secuencia de caracteres. Esto otorga una secuencia de ordenamiento basada en los code points de Unicode que da un orden ASCII para el idioma inglés. \n",
    "\n",
    "La conversión a minúsculas o mayúsculas de todas las secuencias de caracteres produce una ordenamiento más natural.\n",
    "\n",
    "Se recomienda el uso de normalización cuando los strings provengan de fuentes externas como archivos o sockets de red, cuando haya la evidencia de su necesidad. Python soporta personalización del método `sort()`\n",
    "\n",
    "\n"
   ]
  },
  {
   "cell_type": "markdown",
   "metadata": {},
   "source": [
    "# Segmentación de secuencias de caracteres"
   ]
  },
  {
   "cell_type": "markdown",
   "metadata": {},
   "source": [
    "Los elementos constitutivos de una secuencia, caracteres en el caso de strings pueden ser extraídos por medio del operador de acceso corchetes `[]`. Este operador es versátil y permite extraer substrings de diversas longitudes (conocidos com slices), es por ello que este operador se conoce como *slice*.\n",
    "\n",
    "Los elementos de una secuencia de caracteres cuentan con un índice entero ascendente que inicia en cero.\n",
    "\n",
    "Es posible emplear índices negativos donde -1 representa el último elemento del string.\n",
    "\n",
    "El operador de slice tiene tres variantes:\n",
    "```\n",
    "seq[start]\n",
    "seq[start:end]\n",
    "seq[start:end:step]\n",
    "```\n",
    "\n",
    "`seq` puede ser cualquier secuencia: lista, tupla, además de strings.\n",
    "Los valores `start`, `end` y `step` deben ser enteros o variables de tipo entero.\n",
    "\n",
    "`start` identifica el índice a partir del cual se va a regresar el substring. Su valor default es `0`.\n",
    "\n",
    "`end` identifica el índice que ya no será incluido en el substring. Su valor default es `len(seq)`.\n",
    "\n",
    "`step` identifica el incremento en caracteres a devolver del substring, a partir de `start` y hasta `end`. Su valor default es `1`.\n"
   ]
  },
  {
   "cell_type": "code",
   "execution_count": 93,
   "metadata": {},
   "outputs": [
    {
     "name": "stdout",
     "output_type": "stream",
     "text": [
      "Slices in Python are flexible, though unfamiliar for C programmers.\n",
      "0123456789012345678901234567890123456789012345678901234567890123456\n",
      "0         1         2         3         4         5         6         "
     ]
    }
   ],
   "source": [
    "opinion = \"Slices in Python are flexible, though unfamiliar for C programmers.\"\n",
    "print(opinion)\n",
    "for i in range(len(opinion)):\n",
    "    print(i % 10, end=\"\")\n",
    "print(\"\\r\")\n",
    "\n",
    "for i in range(1+len(opinion)//10):\n",
    "    print(\"{}{}\".format(i, \" \"*9), end=\"\") #Usando * como operador de replicación del string con el espacio."
   ]
  },
  {
   "cell_type": "code",
   "execution_count": 44,
   "metadata": {},
   "outputs": [
    {
     "data": {
      "text/plain": [
       "'C programmers.'"
      ]
     },
     "execution_count": 44,
     "metadata": {},
     "output_type": "execute_result"
    }
   ],
   "source": [
    "opinion[53:]"
   ]
  },
  {
   "cell_type": "code",
   "execution_count": 43,
   "metadata": {},
   "outputs": [
    {
     "data": {
      "text/plain": [
       "'Python'"
      ]
     },
     "execution_count": 43,
     "metadata": {},
     "output_type": "execute_result"
    }
   ],
   "source": [
    "opinion[10:16]"
   ]
  },
  {
   "cell_type": "code",
   "execution_count": 46,
   "metadata": {},
   "outputs": [
    {
     "data": {
      "text/plain": [
       "'feil,'"
      ]
     },
     "execution_count": 46,
     "metadata": {},
     "output_type": "execute_result"
    }
   ],
   "source": [
    "opinion[21:30:2]"
   ]
  },
  {
   "cell_type": "markdown",
   "metadata": {},
   "source": [
    "Es posible generar un string a partir de otro que sea dividido por medio de slices y que tenga texto adicional. Para concatenar los strings en casos simples podemos emplear el operador `+` o el operador `+=`."
   ]
  },
  {
   "cell_type": "code",
   "execution_count": 52,
   "metadata": {},
   "outputs": [
    {
     "data": {
      "text/plain": [
       "'Slices in Python are extremely flexible, though unfamiliar for C programmers.'"
      ]
     },
     "execution_count": 52,
     "metadata": {},
     "output_type": "execute_result"
    }
   ],
   "source": [
    "revised_opinion = opinion[:21] + \"extremely \" + opinion[21:]\n",
    "revised_opinion"
   ]
  },
  {
   "cell_type": "code",
   "execution_count": 65,
   "metadata": {},
   "outputs": [
    {
     "data": {
      "text/plain": [
       "\"You can append to an existing string via the '+=' operator\""
      ]
     },
     "execution_count": 65,
     "metadata": {},
     "output_type": "execute_result"
    }
   ],
   "source": [
    "message = \"You can append to an existing string\"\n",
    "message += \" via the '+=' operator\"\n",
    "message"
   ]
  },
  {
   "cell_type": "markdown",
   "metadata": {},
   "source": [
    "Para concatenar múltiples strings se recomienda usar la función `str.join()`"
   ]
  },
  {
   "cell_type": "markdown",
   "metadata": {},
   "source": [
    "La tercera variante de la sintaxis de slices en Python `[start:end:step]` es similar a la segunda. El tercer argumento `step` especifica la posición del siguiente caracter a seleccionar; 1 especifica el caracter inmediatamente contiguo, 2 ignora el contiguo y selecciona el siguiente, así sucesivamente. "
   ]
  },
  {
   "cell_type": "code",
   "execution_count": 48,
   "metadata": {},
   "outputs": [
    {
     "data": {
      "text/plain": [
       "'Sie nPto r lxbe huhufmla o  rgamr.'"
      ]
     },
     "execution_count": 48,
     "metadata": {},
     "output_type": "execute_result"
    }
   ],
   "source": [
    "opinion[::2]"
   ]
  },
  {
   "cell_type": "markdown",
   "metadata": {},
   "source": [
    "Python no cuenta con una función nombrada para invertir strings, sin embargo es posible invertirlas por medio de la tercera variante sintáctica del operador de slices asignando `-1` al valor de `step`."
   ]
  },
  {
   "cell_type": "code",
   "execution_count": 68,
   "metadata": {},
   "outputs": [
    {
     "data": {
      "text/plain": [
       "'Slices in Python are flexible, though unfamiliar for C programmers.'"
      ]
     },
     "execution_count": 68,
     "metadata": {},
     "output_type": "execute_result"
    }
   ],
   "source": [
    "opinion"
   ]
  },
  {
   "cell_type": "code",
   "execution_count": 67,
   "metadata": {},
   "outputs": [
    {
     "data": {
      "text/plain": [
       "'.sremmargorp C rof railimafnu hguoht ,elbixelf era nohtyP ni secilS'"
      ]
     },
     "execution_count": 67,
     "metadata": {},
     "output_type": "execute_result"
    }
   ],
   "source": [
    "opinion[::-1]"
   ]
  },
  {
   "cell_type": "code",
   "execution_count": 66,
   "metadata": {},
   "outputs": [
    {
     "data": {
      "text/plain": [
       "'.rmagr  o almfuhuh ebxl r otPn eiS'"
      ]
     },
     "execution_count": 66,
     "metadata": {},
     "output_type": "execute_result"
    }
   ],
   "source": [
    "opinion[::-2]"
   ]
  },
  {
   "cell_type": "code",
   "execution_count": 99,
   "metadata": {},
   "outputs": [
    {
     "data": {
      "text/plain": [
       "'.sremmargorp C '"
      ]
     },
     "execution_count": 99,
     "metadata": {},
     "output_type": "execute_result"
    }
   ],
   "source": [
    "opinion[:-16:-1]"
   ]
  },
  {
   "cell_type": "markdown",
   "metadata": {},
   "source": [
    "# Operadores y métodos de secuencias de caracteres"
   ]
  },
  {
   "cell_type": "markdown",
   "metadata": {},
   "source": [
    "Debido a que los strings son secuencias inmutables, toda la funcionalidad que puede ser empleada con secuencias inmutables puede ser empleada con strings. Esto incluye verificación de membresía por medio de `in`, concatenación con `+`, anexado con `+=`, replicación con `*`, asignación aumentada con replicación con `*=`. \n",
    "\n",
    "La clase `str` cuenta con diversos métodos de transformación, diagnóstico, formateo, división, entre otros."
   ]
  },
  {
   "cell_type": "markdown",
   "metadata": {},
   "source": [
    "La función `join()` es adecuada para concatenar multiples stings. Recibe como argumento una secuencia (p.e. una lista o una tupla de strings) y las une en un solo string con la cadena de caracteres que haya sido invocada."
   ]
  },
  {
   "cell_type": "code",
   "execution_count": 87,
   "metadata": {},
   "outputs": [
    {
     "data": {
      "text/plain": [
       "'Windows MacOS Linux Unix'"
      ]
     },
     "execution_count": 87,
     "metadata": {},
     "output_type": "execute_result"
    }
   ],
   "source": [
    "platforms = [\"Windows\", \"MacOS\", \"Linux\", \"Unix\"]\n",
    "\" \".join(platforms)"
   ]
  },
  {
   "cell_type": "code",
   "execution_count": 88,
   "metadata": {},
   "outputs": [
    {
     "data": {
      "text/plain": [
       "'Windows-*-MacOS-*-Linux-*-Unix'"
      ]
     },
     "execution_count": 88,
     "metadata": {},
     "output_type": "execute_result"
    }
   ],
   "source": [
    "\"-*-\".join(platforms)"
   ]
  },
  {
   "cell_type": "code",
   "execution_count": 89,
   "metadata": {},
   "outputs": [
    {
     "data": {
      "text/plain": [
       "'WindowsMacOSLinuxUnix'"
      ]
     },
     "execution_count": 89,
     "metadata": {},
     "output_type": "execute_result"
    }
   ],
   "source": [
    "\"\".join(platforms)"
   ]
  },
  {
   "cell_type": "markdown",
   "metadata": {},
   "source": [
    "El operador `*` provee de replicación de strings. "
   ]
  },
  {
   "cell_type": "code",
   "execution_count": 94,
   "metadata": {},
   "outputs": [
    {
     "data": {
      "text/plain": [
       "'====='"
      ]
     },
     "execution_count": 94,
     "metadata": {},
     "output_type": "execute_result"
    }
   ],
   "source": [
    "delimiter = \"=\" * 5\n",
    "delimiter"
   ]
  },
  {
   "cell_type": "markdown",
   "metadata": {},
   "source": [
    "También es posible emplear el operador de asignación aumentada `*=` con strings."
   ]
  },
  {
   "cell_type": "code",
   "execution_count": 95,
   "metadata": {},
   "outputs": [
    {
     "name": "stdout",
     "output_type": "stream",
     "text": [
      "50 ==================================================\n"
     ]
    }
   ],
   "source": [
    "delimiter *= 10\n",
    "print(len(delimiter), delimiter)"
   ]
  },
  {
   "cell_type": "markdown",
   "metadata": {},
   "source": [
    "Existen dos métodos para los casos en los que deseemos encontrar la posición de un string dentro de otro.\n",
    "\n",
    "`str.index()` y `str.find()`\n",
    "\n",
    "Argumentos:\n",
    "string a buscar\n",
    "posición inicial de la búsqueda\n",
    "posición final de la búsqueda\n",
    "\n",
    "Ambos regresan el índice del string a buscar. \n",
    "`index()` arroja una excepción en caso de no encontrar el string.\n",
    "`find()` regresa -1 en caso de no encontrar el string."
   ]
  },
  {
   "cell_type": "code",
   "execution_count": 96,
   "metadata": {},
   "outputs": [
    {
     "data": {
      "text/plain": [
       "'Slices in Python are flexible, though unfamiliar for C programmers.'"
      ]
     },
     "execution_count": 96,
     "metadata": {},
     "output_type": "execute_result"
    }
   ],
   "source": [
    "opinion"
   ]
  },
  {
   "cell_type": "code",
   "execution_count": 97,
   "metadata": {},
   "outputs": [
    {
     "data": {
      "text/plain": [
       "53"
      ]
     },
     "execution_count": 97,
     "metadata": {},
     "output_type": "execute_result"
    }
   ],
   "source": [
    "opinion.index(\"C programmers.\")"
   ]
  },
  {
   "cell_type": "code",
   "execution_count": 100,
   "metadata": {},
   "outputs": [
    {
     "ename": "ValueError",
     "evalue": "substring not found",
     "output_type": "error",
     "traceback": [
      "\u001b[1;31m---------------------------------------------------------------------------\u001b[0m",
      "\u001b[1;31mValueError\u001b[0m                                Traceback (most recent call last)",
      "\u001b[1;32m~\\AppData\\Local\\Temp/ipykernel_21620/324353970.py\u001b[0m in \u001b[0;36m<module>\u001b[1;34m\u001b[0m\n\u001b[1;32m----> 1\u001b[1;33m \u001b[0mopinion\u001b[0m\u001b[1;33m.\u001b[0m\u001b[0mindex\u001b[0m\u001b[1;33m(\u001b[0m\u001b[1;34m\"Java programmers.\"\u001b[0m\u001b[1;33m)\u001b[0m\u001b[1;33m\u001b[0m\u001b[1;33m\u001b[0m\u001b[0m\n\u001b[0m",
      "\u001b[1;31mValueError\u001b[0m: substring not found"
     ]
    }
   ],
   "source": [
    "opinion.index(\"Java programmers.\")"
   ]
  },
  {
   "cell_type": "markdown",
   "metadata": {},
   "source": [
    "`str.find()` regresa la posición del índice del substring o -1 en caso de falla."
   ]
  },
  {
   "cell_type": "code",
   "execution_count": 102,
   "metadata": {},
   "outputs": [
    {
     "data": {
      "text/plain": [
       "53"
      ]
     },
     "execution_count": 102,
     "metadata": {},
     "output_type": "execute_result"
    }
   ],
   "source": [
    "opinion.find(\"C programmers.\")"
   ]
  },
  {
   "cell_type": "code",
   "execution_count": 101,
   "metadata": {},
   "outputs": [
    {
     "data": {
      "text/plain": [
       "-1"
      ]
     },
     "execution_count": 101,
     "metadata": {},
     "output_type": "execute_result"
    }
   ],
   "source": [
    "opinion.find(\"Java programmers.\")"
   ]
  },
  {
   "cell_type": "code",
   "execution_count": 115,
   "metadata": {},
   "outputs": [
    {
     "data": {
      "text/plain": [
       "'Slices in Python are extremely flexible, though unfamiliar for C programmers.'"
      ]
     },
     "execution_count": 115,
     "metadata": {},
     "output_type": "execute_result"
    }
   ],
   "source": [
    "flexible_index = opinion.find(\"flexible\")\n",
    "opinion[:flexible_index] + \"extremely\" + opinion[flexible_index-1:]"
   ]
  },
  {
   "cell_type": "code",
   "execution_count": 118,
   "metadata": {},
   "outputs": [
    {
     "data": {
      "text/plain": [
       "'Slices in Python are extremely flexible, though unfamiliar for C programmers.'"
      ]
     },
     "execution_count": 118,
     "metadata": {},
     "output_type": "execute_result"
    }
   ],
   "source": [
    "\"\".join([opinion[:flexible_index], \"extremely\", opinion[flexible_index-1:]])"
   ]
  },
  {
   "cell_type": "markdown",
   "metadata": {},
   "source": [
    "Usamos el tercer argumento de las funciones de búsqueda para identificar una palabra de interés en los primeros caracteres de una noticia."
   ]
  },
  {
   "cell_type": "code",
   "execution_count": 133,
   "metadata": {},
   "outputs": [
    {
     "data": {
      "text/plain": [
       "4"
      ]
     },
     "execution_count": 133,
     "metadata": {},
     "output_type": "execute_result"
    }
   ],
   "source": [
    "\n",
    "MAX_CHARS = 30\n",
    "SEARCH_TERM = \"russian\"\n",
    "headline = \"The Russian Memory Project That Became an Enemy of the State: Two courts have ordered the shutdown of Memorial, a human-rights organization that documents the history of Soviet state terror.\"\n",
    "headline.lower().find(SEARCH_TERM, 0, MAX_CHARS)"
   ]
  },
  {
   "cell_type": "markdown",
   "metadata": {},
   "source": [
    "# Funciones comunes de strings"
   ]
  },
  {
   "cell_type": "markdown",
   "metadata": {},
   "source": [
    "| Función | Descripción |\n",
    "| --- | --- |\n",
    "| `s.capitalize()` | Regresa una copia del string `s` con la primera letra en mayúsculas; ver también el método `str.title()`. |\n",
    "| `s.center(width, char)` | Regresa una copia de `s` centrada en un string de longitud `width`, rodeada de espacios u otro caracter `char`: ver `str.ljust()`, `str.rjust` y `str.format()`. |\n",
    "| `s.count(t, start, end)` | Regresa el número de ocurrencias del string `t` en `s` (o en el slice de `s` delimitado por `start` y `end`). |\n",
    "| `s.encode(encoding, err)` | Regresa un objeto `bytes` que representa el string empleando el encoding default o usando el `encoding` especificado y manejando errores de acuerdo con el argumento opcional `err`. |\n",
    "| `s.endswith(x, start, end)` | Regresa `True` si `s` (o el slice delimitado por `start:end` ) termina con `x` o con cualquiera de los strings en la tupla `x`; en caso contrario regresa `False`. Ver también `str.startswith()`. |\n",
    "| `s.expandtabs(size)` | Regresa una copia de `s` con tabs reemplazados por espacios en múltiplos de 8 o del tamaño especificado por `size`. |\n",
    "| `s.find(t, start, end)` | Regresa la posición más próxima al extremo izquierdo de `t` en `s` (o en el slice `start:end`) o `-1` si no se encuentra. Use `str.rfind()` para encontrar la posición más próxima al extremo derecho. Ver también `str.index()`. |\n",
    "| `s.format(...)` | Regresa una copia de `s` con formato de acuerdo a los argumentos provistos. |\n",
    "| `s.index(, t, start, end)` | Regresa la posición más próxima al extremo izquierdo de `t` en `s` (o en el slice `start:end`) o arroja `ValueError` si no se encuentra. Use `str.rindex()` para buscar por la derecha. Ver `str.find()`.|\n",
    "| `s.isalnum()` | Regresa `True` is el string `s` no esta vacío y todos los caracteres en él son alfanuméricos. |\n",
    "| `s.isalpha(`) | Regresa `True` is el string `s` no esta vacío y todos los caracteres en él son alfabéticos. |\n",
    "| `s.isdecimal()` | Regresa `True` is el string `s` no esta vacío y todos los caracteres en él son dígitos Unicode base 10. |\n",
    "| `s.isdigit()` | Regresa `True` is el string `s` no esta vacío y todos los caracteres en él son dígitos ASCII. |\n",
    "| `s.isidentifier()` | Regresa `True` is el string `s` no esta vacío y es un identificador válido. |\n",
    "| `s.islower()` | Regresa `True` si `s` tiene al menos un caracter que se puede convertir a minúscula y todos los caracteres convertibles a minúsculas están en minúsculas. Ver también `str.isupper()`. |\n",
    "| `s.isnumeric()` | Regresa `True` si `s` no está vacío y todos sus caracteres son un caracter numérico Unicode, tal como un dígito o una fracción. |\n",
    "| `s.isprintable()` | Regresa `True` si `s` no está vacío o si todos sus caracteres se considera pueden imprimirse, incluyendo espacio pero no newline. |\n",
    "| `s.isspace()` | Regresa True si `s` no está vacío y todo caracter en `s` es un espacio blanco. |\n",
    "| `s.istitle()` | Regresa True si `s` es una secuencia de caracteres no vacía con capitalización de título. Ver `str.title()`. |\n",
    "| `s.isupper()` | Regresa `True` si `s` tiene al menos un caracter que se puede convertir a mayúscula y todos los caracteres convertibles a meyúsculas están en mayúsculas. Ver también `str.islower()`. |\n",
    "| `s.join(seq)` | Regresa la concatenación de todos los elementos en la secuencia `seq` con el string `s` el cual puede estar vacío con cada una. |\n",
    "| `s.ljust(width, char)` | Regresa una copia de `s` alineada a la izquierda en un string de longitud `width` rodeada de espacios u opcionalmente `char` (un string de longitud uno). Use `str.rjust()` para alinear a la izquierda y `str.center()` para centrar. |\n",
    "| `s.lower()` | Regresa una copia en minúscula de `s`. Ver `str.upper()` |\n",
    "| `s.maketrans()` | Función auxiliar para `str.translate()`. |\n",
    "| `s.partition(t)` | Regresa una tupla de tres strings, la parte de `s` antes de la primera ocurrencia (extremo izquierdo) de `t`, `t` y la parte de `s` después de `t`. Si `t` no se encuentra en `s`, regresa `s` y dos strings vacíos. Use `str.rpartition()` para particionar en la última ocurrencia de t (extremo derecho).|\n",
    "| `s.replace(t, u, n)` | Regresa una copia de `s` con toda (o máximo `n`, de ser especificado) ocurrencias de `t` reemplazadas con `u`. |\n",
    "| `s.split(t, n)` | Regresa una lista de strings segmentando a lo más `n` veces en `t`; si `n` no es especificado, segmenta el máximo número de veces posible; si `t` no es especificado, segmenta por espacios en blanco. Use `str.rsplit()` para particionar desde la derecha; esto produce resultados distintos solo si `n` es definido y es menor al máximo número de particiones posibles. |\n",
    "| `s.splitlines(f)` | Regresa la lista de líneas producidas al dividir `s` por los terminadores de líneas. Elimina los terminadores a menos que `f` sea `True`. |\n",
    "| `s.startswith()` | Regresa `True` si `s` (o el slice `start:end` de `s`) comienzan con `x` o con cualquiera de los strings en la tupla `x`; en caso contrario regresa `False`. Ver `str.endswith()`. |\n",
    "| `s.strip(chars)` | Regresa una copia de `s` con los espacios en blanco previos o posteriores (o los caracteres en `chars`) eliminados. `str.lstrip()` elimina los caracteres de la izquierda, mientras que `str.rstrip()` elimina los caracteres de la derecha. |\n",
    "| `s.swapcase()`| Regresa una copia de s con lso caracteres mayúscula en minúscula y los caracteres minúscula en mayúscula. Ver `str.lower()` y `str.upper()`. |\n",
    "| `s.title()` | Regresa una copia de `s` con la primera letra de cada palabra en mayúscula y las demás en minúscula. Ver `str.istitle()`. |\n",
    "| `s.translate()` | Regresa un string con cada caracter mapeado de acuerdo a una tabla de traducción.|\n",
    "| `s.upper()` | Regresa una copia en mayúsculas de s. Ver `str.lower()`. |\n",
    "| `s.zfill(w)` | Regresa una copia de `s`, con padding si es más corta que w con ceros para hacerla de longitud `w`. |"
   ]
  },
  {
   "cell_type": "code",
   "execution_count": 134,
   "metadata": {},
   "outputs": [
    {
     "data": {
      "text/plain": [
       "'**********************Hello***********************'"
      ]
     },
     "execution_count": 134,
     "metadata": {},
     "output_type": "execute_result"
    }
   ],
   "source": [
    "\"Hello\".center(50, \"*\")"
   ]
  },
  {
   "cell_type": "code",
   "execution_count": 137,
   "metadata": {},
   "outputs": [
    {
     "data": {
      "text/plain": [
       "'Slices in Python are extremely flexible, though unfamiliar for C programmers.'"
      ]
     },
     "execution_count": 137,
     "metadata": {},
     "output_type": "execute_result"
    }
   ],
   "source": [
    "opinion\n",
    "opinion.replace(\"flexible\", \"extremely flexible\")"
   ]
  },
  {
   "cell_type": "code",
   "execution_count": 139,
   "metadata": {},
   "outputs": [
    {
     "data": {
      "text/plain": [
       "'Slices In Python Are Flexible, Though Unfamiliar For C Programmers.'"
      ]
     },
     "execution_count": 139,
     "metadata": {},
     "output_type": "execute_result"
    }
   ],
   "source": [
    "opinion.title()"
   ]
  }
 ],
 "metadata": {
  "interpreter": {
   "hash": "dff1176a825098967b08dbdbf002aed5f4d2fbc0230cbe7a7b9c071948b7fba3"
  },
  "kernelspec": {
   "display_name": "Python 3.8.12 64-bit ('alteryx': conda)",
   "language": "python",
   "name": "python3"
  },
  "language_info": {
   "codemirror_mode": {
    "name": "ipython",
    "version": 3
   },
   "file_extension": ".py",
   "mimetype": "text/x-python",
   "name": "python",
   "nbconvert_exporter": "python",
   "pygments_lexer": "ipython3",
   "version": "3.8.12"
  },
  "orig_nbformat": 4
 },
 "nbformat": 4,
 "nbformat_minor": 2
}
