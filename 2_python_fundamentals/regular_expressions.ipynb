{
 "cells": [
  {
   "cell_type": "markdown",
   "metadata": {},
   "source": [
    "# Introducción a expresiones regulares"
   ]
  },
  {
   "cell_type": "markdown",
   "metadata": {},
   "source": [
    "Una expresión regular (conocida en inglés como regular expression, regex o regexp) es una secuencia de caracteres que especifica un patrón de búsqueda en texto. Usualmente son empleadas por algoritmos de búsquedas de secuencias de caracteres para operaciones de buscar, buscar y reemplazar o para validación de entradas.\n",
    "\n",
    "Las expresiones regulares se originaron en 1950 cuando el matemático americano Stephen Cole Kleene formalizó la descripción de un lenguaje regular. Se emplearon en utilerías de procesamiento de texto de Unix. Desde 1980 surgieron diversas sintaxis para escribir expresiones regulares, destacando el estándar POSIX y Perl.\n",
    "\n",
    "Las expresiones regulares son empleadas en motores de búsqueda, cuadros de diálogo de buscar y reemplazar de procesadores de texto, utilerías de procesamiento de texto como sed y AWK, así como en análisis léxico.\n",
    "\n",
    "Diversos lenguajes de programación, incluyendo Python, cuentan con soporte a expresiones regulares ya sea de forma nativa o por medio de librerías."
   ]
  },
  {
   "cell_type": "markdown",
   "metadata": {},
   "source": [
    "Para utilizar expresiones regulares en Python es necesario importar el módulo `re` e invocar alguno de sus métodos, como es el caso de `search()`, mostrado abajo.\n",
    "\n",
    "``search(regex, somestring)`` recibe como argumentos:\n",
    "\n",
    "`regex`: una expresión regular con el patrón de texto a identificar.\n",
    "`somestring`: una secuencia de texto en la que se buscará el patrón de texto.\n",
    "\n",
    "Si `search` encuentra el patrón en el texto, regresa como resultado un objeto de tipo `Match`.\n",
    "Si `search` no encuentra el patrón en el texto, regresa como resultado `None`."
   ]
  },
  {
   "cell_type": "code",
   "execution_count": 40,
   "metadata": {},
   "outputs": [
    {
     "name": "stdout",
     "output_type": "stream",
     "text": [
      "<re.Match object; span=(10, 14), match='Webb'>\n",
      "<class 're.Match'>\n"
     ]
    }
   ],
   "source": [
    "import re\n",
    "x = re.search(\"Webb\", \"The James Webb Space Telescope has successfully launched.\")\n",
    "print(x)\n",
    "print(type(x))"
   ]
  },
  {
   "cell_type": "code",
   "execution_count": 41,
   "metadata": {},
   "outputs": [
    {
     "name": "stdout",
     "output_type": "stream",
     "text": [
      "Hubble was not found.\n"
     ]
    }
   ],
   "source": [
    "x = re.search(\"Hubble\", \"The James Webb Space Telescope has successfully launched.\")\n",
    "if x is None:\n",
    "    print(\"Hubble was not found.\")"
   ]
  },
  {
   "cell_type": "markdown",
   "metadata": {},
   "source": [
    "Una definición precisa, de acuerdo con las normas de sintaxis de las expresiones regulares, es fundamental para obtener la resultados esperados. En caso contrario es posible obtener más resultados.\n"
   ]
  },
  {
   "cell_type": "code",
   "execution_count": 127,
   "metadata": {},
   "outputs": [
    {
     "name": "stdout",
     "output_type": "stream",
     "text": [
      "sal contains 'sal' True\n",
      "basal contains 'sal' True\n",
      "casal contains 'sal' True\n",
      "nasal contains 'sal' True\n",
      "rosal contains 'sal' True\n",
      "posdorsal contains 'sal' True\n",
      "basáltico contains 'sal' False\n",
      "salero contains 'sal' True\n",
      "salario contains 'sal' True\n",
      "Fueron encontrados en la mina de sal. contains 'sal' True\n",
      "El exceso de sal es perjudicial. contains 'sal' True\n",
      "La sal de la vida. contains 'sal' True\n"
     ]
    }
   ],
   "source": [
    "words = [\"sal\", \"basal\", \"casal\", \"nasal\", \"rosal\", \"posdorsal\", \"basáltico\", \"salero\", \"salario\", \n",
    "    \"Fueron encontrados en la mina de sal.\", \"El exceso de sal es perjudicial.\", \"La sal de la vida.\"]\n",
    "\n",
    "for word in words:\n",
    "    result = re.search(\"sal\", word)\n",
    "    print(\"{} contains 'sal' {}\".format(word, result is not None))\n"
   ]
  },
  {
   "cell_type": "code",
   "execution_count": 43,
   "metadata": {},
   "outputs": [
    {
     "name": "stdout",
     "output_type": "stream",
     "text": [
      "sal contains ' sal ' False\n",
      "basal contains ' sal ' False\n",
      "casal contains ' sal ' False\n",
      "nasal contains ' sal ' False\n",
      "rosal contains ' sal ' False\n",
      "posdorsal contains ' sal ' False\n",
      "basáltico contains ' sal ' False\n",
      "salero contains ' sal ' False\n",
      "salario contains ' sal ' False\n",
      "Fueron encontrados en la mina de sal. contains ' sal ' False\n",
      "El exceso de sal es perjudicial. contains ' sal ' True\n",
      "La sal de la vida. contains ' sal ' True\n"
     ]
    }
   ],
   "source": [
    "words = [\"sal\", \"basal\", \"casal\", \"nasal\", \"rosal\", \"posdorsal\", \"basáltico\", \"salero\", \"salario\", \n",
    "    \"Fueron encontrados en la mina de sal.\", \"El exceso de sal es perjudicial.\", \"La sal de la vida.\"]\n",
    "\n",
    "for word in words:\n",
    "    result = re.search(\" sal \", word)\n",
    "    print(\"{} contains ' sal ' {}\".format(word, result is not None))"
   ]
  },
  {
   "cell_type": "markdown",
   "metadata": {},
   "source": [
    "Los metacaracteres permiten crear expresiones regulares compactas que produzcan los resultados de interés, al igual que con las expresiones regulares definidas con literales solamente, es necesario definirlas con precisión para evitar palabras no deseadas.\n",
    "\n",
    "Asumamos que estamos interados en todas las palabras de tres letras que terminan en \"al\". La sintaxis de expresiones regulares provee del metacaracter punto `.` que representa cualquier caracter.\n"
   ]
  },
  {
   "cell_type": "code",
   "execution_count": 44,
   "metadata": {},
   "outputs": [
    {
     "name": "stdout",
     "output_type": "stream",
     "text": [
      "sal contains '.al' True\n",
      "basal contains '.al' True\n",
      "casal contains '.al' True\n",
      "nasal contains '.al' True\n",
      "rosal contains '.al' True\n",
      "posdorsal contains '.al' True\n",
      "basáltico contains '.al' False\n",
      "salero contains '.al' True\n",
      "salario contains '.al' True\n",
      "Fueron encontrados en la mina de sal. contains '.al' True\n",
      "El exceso de sal es perjudicial. contains '.al' True\n",
      "La sal de la vida. contains '.al' True\n",
      "la cal contains '.al' True\n",
      "el mal contains '.al' True\n",
      "@al contains '.al' True\n"
     ]
    }
   ],
   "source": [
    "words = [\"sal\", \"basal\", \"casal\", \"nasal\", \"rosal\", \"posdorsal\", \"basáltico\", \"salero\", \"salario\", \n",
    "    \"Fueron encontrados en la mina de sal.\", \"El exceso de sal es perjudicial.\", \"La sal de la vida.\", \"la cal\", \"el mal\", \"@al\"]\n",
    "\n",
    "for word in words:\n",
    "    result = re.search(r\".al\", word)\n",
    "    print(\"{} contains '.al' {}\".format(word, result is not None))"
   ]
  },
  {
   "cell_type": "markdown",
   "metadata": {},
   "source": [
    "Los corchetes son empleados en expresiones regulares para definir clases de caracteres. `[xyz]` significa \"x\" o \"y\" o \"z\"."
   ]
  },
  {
   "cell_type": "code",
   "execution_count": 45,
   "metadata": {},
   "outputs": [
    {
     "name": "stdout",
     "output_type": "stream",
     "text": [
      "Gaitán matches pattern.\n",
      "Galán matches pattern.\n",
      "Galván matches pattern.\n",
      "Gavilán matches pattern.\n",
      "Gaytán matches pattern.\n",
      "Gillén matches pattern.\n",
      "Guillén matches pattern.\n",
      "Guzmán matches pattern.\n"
     ]
    }
   ],
   "source": [
    "lastnames = [\"Gaitán\", \"Galán\", \"Galeano\", \"Galeno\", \"Galindo\", \"Gallegos\", \"Galván\", \n",
    "    \"Gamboa\", \"Gámez\", \"García\", \"Garrido\", \"Gavilán\", \"Gayoso\", \"Gaytán\", \"Gillén\", \"Godines\", \n",
    "    \"Gómez\", \"Góngora\", \"Granada\", \"Granados\", \"Grijalba\", \"Guardado\", \"Guardiola\", \"Guerrero\", \n",
    "    \"Guillén\", \"Gutiérrez\", \"Guzmán\"]\n",
    "\n",
    "for lastname in lastnames:\n",
    "    result = re.search(r\"G[aui].*[áé]n\", lastname)\n",
    "    if result:\n",
    "        print(\"{} matches pattern.\".format(lastname))"
   ]
  },
  {
   "cell_type": "markdown",
   "metadata": {},
   "source": [
    "Es posible definir un rango de caracteres por medio del metacaracter guión `-` ubicado entre el valor inicial y el valor final dentro de un token de corchetes. \n",
    "\n",
    "Todas las letras minúsculas: `[a-z]`\n",
    "Todas las letras mayúsculas: `[A-Z]`\n",
    "Todas las letras minúsculas o mayúsculas `[a-zA-Z]`\n",
    "Todos los dígitos `[0-9]`"
   ]
  },
  {
   "cell_type": "code",
   "execution_count": 50,
   "metadata": {},
   "outputs": [
    {
     "data": {
      "text/plain": [
       "['Creating', 'a', 'regex', 'object', '\\\\t', 'with', 'bax', 'is', '\\\\tcool']"
      ]
     },
     "execution_count": 50,
     "metadata": {},
     "output_type": "execute_result"
    }
   ],
   "source": [
    "text = r\"Creating a regex object       \\t with bax is \\tcool\"\n",
    "re.split(r\"\\s+\", text)\n",
    "\n",
    "\n"
   ]
  },
  {
   "cell_type": "markdown",
   "metadata": {},
   "source": [
    "## Conceptos\n",
    "\n",
    "**Expresión regular**\n",
    "\n",
    "Una expresión regular es un patrón para describir una porción de texto. La expresión regular se aplica a una o varias cadenas de caracteres. El patrón de búsqueda puede ocurrir cero, una o más veces en la cadena de caracteres. Cada ocurrencia de la expresión regular en el texto se identifica como una correspondencia o match.\n",
    "\n",
    "**Elementos de una expresión regular**\n",
    "Las expresiones regulares constan de caracteres los cuales pueden ser de tipo literal o metacaracter. \n",
    "\n",
    "**Literal**\n",
    "\n",
    "Un caracter que se busca tal cual está declarado en la expresión regular. Las expresiones regulares más simples pueden constar de caracteres literales solamente. \n",
    "\n",
    "**Caracteres no imprimibles**\n",
    "\n",
    "Es posible emplear secuencias de caracteres especiales para colocar caracteres no imprimibles en las expresiones regulares. Por ejemplo \\t puede emplearse para identificar el caracter tab (ASCII 0x09), \\r para retorno de carro (0x0D) y \\n para line feed (0x0A). Es importante recordar que los archivos de texto en Windows están terminados por \\r\\n, mientras que los archivos de texto en Unix están terminados por \\n solamente.\n",
    "\n",
    "Si la aplicación soporta Unicode, es posible emplear \\uFFFF o \\x{FFFF} para insertar un caracter Unicode. \n",
    "\n",
    "Si la aplicación no soporta Unicode, es posible emplear \\xFF para identificar un caracter específico por su índice hexadecimal en el conjunto de caracteres.\n",
    "\n",
    "\n"
   ]
  },
  {
   "cell_type": "markdown",
   "metadata": {},
   "source": [
    "# Clases de caracteres predefinidas\n",
    "Simplifican el proceso de escritura y reducen el tamaño de expresiones regulares.\n",
    "\n",
    "\\d identifica cualquier dígito decimal, equivalente al conjunto [0-9].\n",
    "\n",
    "\\D El complemento de \\d. Identifica cualquier caracter que no sea dígito; equivalente al conjunto [^0-9].\n",
    "\n",
    "\\s Identifica cualquier caracter de espacio en blanco; equivalente a [ \\t\\n\\r\\f\\v].\n",
    "\n",
    "\\S El complemento de \\s. Identifica cualquier caracter no blanco; equivalente a [^ \\t\\n\\r\\f\\v].\n",
    "\n",
    "\\w Identifica cualquier caracter alfanumérico; equivalente a [a-zA-Z0-9_]. Con LOCALE, identifica el conjunto [a-zA-Z0-9_] más caracteres \n",
    "definidos como letras para la localidad (locale) vigente.\n",
    "\n",
    "\\W El complemento de \\w.\n",
    "\n",
    "\\b Identifica la cadena vacía, pero solo al principio o fin de una palabra.\n",
    "\n",
    "\\B Identifica la cadena vacía, pero no al principio o fin de una palabra."
   ]
  },
  {
   "cell_type": "code",
   "execution_count": 124,
   "metadata": {},
   "outputs": [
    {
     "name": "stdout",
     "output_type": "stream",
     "text": [
      "<re.Match object; span=(9, 17), match='555-1234'>\n"
     ]
    }
   ],
   "source": [
    "contact = \"Jane Doe 555-1234\"\n",
    "\n",
    "res = re.search(r\"[0-9]*-[0-9]*\", contact)\n",
    "print(res)"
   ]
  },
  {
   "cell_type": "code",
   "execution_count": 123,
   "metadata": {},
   "outputs": [
    {
     "data": {
      "text/plain": [
       "<function Match.groups(default=None)>"
      ]
     },
     "execution_count": 123,
     "metadata": {},
     "output_type": "execute_result"
    }
   ],
   "source": [
    "res.groups"
   ]
  },
  {
   "cell_type": "markdown",
   "metadata": {},
   "source": [
    "# Metacaracteres\n",
    "\n"
   ]
  },
  {
   "cell_type": "markdown",
   "metadata": {},
   "source": [
    "punto .\n",
    "Identifica cualquier caracter individual (muchas aplicaciones excluyen los caracteres de líneas)"
   ]
  },
  {
   "cell_type": "code",
   "execution_count": 131,
   "metadata": {},
   "outputs": [
    {
     "name": "stdout",
     "output_type": "stream",
     "text": [
      "None\n",
      "None\n",
      "None\n",
      "<re.Match object; span=(0, 5), match='three'>\n",
      "None\n",
      "<re.Match object; span=(0, 5), match='     '>\n",
      "<re.Match object; span=(0, 5), match='.....'>\n",
      "<re.Match object; span=(0, 5), match='12345'>\n",
      "<re.Match object; span=(0, 5), match='!\\\\\"#$'>\n"
     ]
    }
   ],
   "source": [
    "numbers = [\"zero\", \"one\", \"two\", \"three\", \"four\", \"     \", \".....\", \"123456\" ,r\"!\\\"#$%\"]\n",
    "for n in numbers:\n",
    "    print(re.match(r\".....\", n))"
   ]
  },
  {
   "cell_type": "code",
   "execution_count": 277,
   "metadata": {},
   "outputs": [
    {
     "name": "stdout",
     "output_type": "stream",
     "text": [
      "greeting has length >= 5\n"
     ]
    }
   ],
   "source": [
    "greeting = \"Hello world.\"\n",
    "if re.search(r\".....\", greeting):\n",
    "    print(\"greeting has length >= 5\")"
   ]
  },
  {
   "cell_type": "markdown",
   "metadata": {},
   "source": [
    "Dentro de una expresión de corchetes POSIX, el caracter dot identifica el símbolo punto de forma literal"
   ]
  },
  {
   "cell_type": "code",
   "execution_count": 278,
   "metadata": {},
   "outputs": [
    {
     "data": {
      "text/plain": [
       "'expressions.'"
      ]
     },
     "execution_count": 278,
     "metadata": {},
     "output_type": "execute_result"
    }
   ],
   "source": [
    "greeting = \"Dot is matched literally in POSIX bracket expressions.\"\n",
    "m = re.search(r\"...........[.]\", greeting)\n",
    "m.group(0)\n"
   ]
  },
  {
   "cell_type": "code",
   "execution_count": 279,
   "metadata": {},
   "outputs": [
    {
     "data": {
      "text/plain": [
       "'expressions.'"
      ]
     },
     "execution_count": 279,
     "metadata": {},
     "output_type": "execute_result"
    }
   ],
   "source": [
    "greeting = \"Dot is matched literally in POSIX bracket expressions.\"\n",
    "m = re.search(r\".{11}[.]\", greeting)\n",
    "m.group(0)"
   ]
  },
  {
   "cell_type": "markdown",
   "metadata": {},
   "source": [
    "Anclas\n",
    "Los metacaracteres de ancla no identifican ningún caracter, identifican una posición. La mayoría de los motores de expresiones regulares cuentan con un modo \"multi linea\" por medio del cual es posible identificar al ^ después de cualquier corte de línea y a $ antes de cualquier corte de línea.\n",
    "\n",
    "Las anclas incluyen: caret ^, símbolo de moneda $, frontera de palabra /b, complemento de frontera de palabra /B, "
   ]
  },
  {
   "cell_type": "markdown",
   "metadata": {},
   "source": [
    "caret ^\n",
    "Identifica la posición inicial en la secuencia de caracteres"
   ]
  },
  {
   "cell_type": "code",
   "execution_count": 116,
   "metadata": {},
   "outputs": [
    {
     "name": "stdout",
     "output_type": "stream",
     "text": [
      "<re.Match object; span=(0, 1), match='A'>\n",
      "<re.Match object; span=(0, 1), match='A'>\n",
      "None\n",
      "None\n",
      "None\n",
      "None\n",
      "None\n"
     ]
    }
   ],
   "source": [
    "brands = [\"Attack Drumheads\", \"ATV Corporation\", \"Black Swamp Percussion\", \"Bopworks\", \"Bosphorus Cymbals\", \"BOYA\", \"Canopus Drums\", \"Dream Cymbals\"]\n",
    "for b in brands:\n",
    "    res = re.search(r\"^A\", b)\n",
    "    print(res)"
   ]
  },
  {
   "cell_type": "markdown",
   "metadata": {},
   "source": [
    "símbolo de moneda $\n",
    "Identifica la posición final de la secuencia de caracteres"
   ]
  },
  {
   "cell_type": "code",
   "execution_count": 117,
   "metadata": {},
   "outputs": [
    {
     "name": "stdout",
     "output_type": "stream",
     "text": [
      "None\n",
      "None\n",
      "None\n",
      "None\n",
      "<re.Match object; span=(10, 17), match='Cymbals'>\n",
      "None\n",
      "None\n",
      "<re.Match object; span=(6, 13), match='Cymbals'>\n"
     ]
    }
   ],
   "source": [
    "brands = [\"Attack Drumheads\", \"ATV Corporation\", \"Black Swamp Percussion\", \"Bopworks\", \"Bosphorus Cymbals\", \"BOYA\", \"Canopus Drums\", \"Dream Cymbals\"]\n",
    "for b in brands:\n",
    "    res = re.search(r\"Cymbals$\", b)\n",
    "    print(res)"
   ]
  },
  {
   "cell_type": "markdown",
   "metadata": {},
   "source": [
    "frontera de palabra b \n",
    "\\b identifica una frontera de palabra, una posición entre un caracter que puede ser identificado con \\w y un caracter que no puede ser identificado por \\w\n"
   ]
  },
  {
   "cell_type": "code",
   "execution_count": 171,
   "metadata": {},
   "outputs": [
    {
     "data": {
      "text/plain": [
       "<re.Match object; span=(0, 7), match='Silicon'>"
      ]
     },
     "execution_count": 171,
     "metadata": {},
     "output_type": "execute_result"
    }
   ],
   "source": [
    "sentence = \"Silicon Valley's trial of the century, differences with silicone rubber industry.\"\n",
    "res = re.search(r\"\\bSilicon\\b\", sentence)\n",
    "res\n"
   ]
  },
  {
   "cell_type": "markdown",
   "metadata": {},
   "source": [
    "Repetición\n",
    "Los metacaracteres asociados con repetición permiten identificar tokens como opcionales o que se repitan un número determinado de veces en el texto. \n",
    "\n",
    "símbolo de interrogación ?\n",
    "El símbolo de interrogación hace opcional el token previo en la expresión regular. \n",
    "\n",
    "Repetición egoísta y lazy\n",
    "Los operadores o cuantificadores en expresiones regulares son egoístas. Expanden la correspondencia tanto como sea posible, solo proveen resultados más concisos si deben satisfacer el remanente de la expresión regular."
   ]
  },
  {
   "cell_type": "code",
   "execution_count": 142,
   "metadata": {},
   "outputs": [
    {
     "name": "stdout",
     "output_type": "stream",
     "text": [
      "<re.Match object; span=(0, 5), match='color'>\n",
      "<re.Match object; span=(0, 6), match='colour'>\n"
     ]
    }
   ],
   "source": [
    "color_words = [\"color\", \"colour\", \"kolor\", \"koloro\"]\n",
    "for cw in color_words:    \n",
    "    res =  re.search(r\"colou?r\", cw)\n",
    "    if res:\n",
    "        print(res)"
   ]
  },
  {
   "cell_type": "markdown",
   "metadata": {},
   "source": [
    "asterisco *\n",
    "El asterisco o estrella indica al motor de expresiones regulares que identifique el token que lo antecede cero o más veces."
   ]
  },
  {
   "cell_type": "code",
   "execution_count": 148,
   "metadata": {},
   "outputs": [
    {
     "name": "stdout",
     "output_type": "stream",
     "text": [
      "<re.Match object; span=(0, 3), match='<p>'>\n",
      "<re.Match object; span=(0, 4), match='<h1>'>\n",
      "<re.Match object; span=(0, 6), match='<body>'>\n"
     ]
    }
   ],
   "source": [
    "some_html = [\"<p>This is a paragraph</p>\", \"<h1></h1>\", \"<body>Document content</body>\"]\n",
    "for tag in some_html:\n",
    "    res = re.search(r\"<[a-zA-Z][a-zA-Z0-9]*>\", tag)\n",
    "    print(res)\n"
   ]
  },
  {
   "cell_type": "markdown",
   "metadata": {},
   "source": [
    "símbolo de adición +\n",
    "El símbolo de adición indica al motor de expresiones regulares que identifique el token que lo antecede una o más veces."
   ]
  },
  {
   "cell_type": "code",
   "execution_count": 150,
   "metadata": {},
   "outputs": [
    {
     "data": {
      "text/plain": [
       "<re.Match object; span=(0, 29), match='<HEAD>This is the head</HEAD>'>"
      ]
     },
     "execution_count": 150,
     "metadata": {},
     "output_type": "execute_result"
    }
   ],
   "source": [
    "tag = \"<HEAD>This is the head</HEAD>\"\n",
    "re.search(r\"<.+>\", tag)"
   ]
  },
  {
   "cell_type": "markdown",
   "metadata": {},
   "source": [
    "Los operadores de repetición o cuantificadores siguen una estrategia de selección de contenido egoísta. Expanden la correspondencia tanto como les es posible, producen resultados de menor longitud si deben satisfacer alguna otra condición en la expresión regular.\n",
    "\n",
    "El uso del símbolo de interrogación despúes del cuantificador indica un comportamiento flojo."
   ]
  },
  {
   "cell_type": "code",
   "execution_count": 151,
   "metadata": {},
   "outputs": [
    {
     "data": {
      "text/plain": [
       "<re.Match object; span=(0, 6), match='<HEAD>'>"
      ]
     },
     "execution_count": 151,
     "metadata": {},
     "output_type": "execute_result"
    }
   ],
   "source": [
    "tag = \"<HEAD>This is the head</HEAD>\"\n",
    "re.search(r\"<.+?>\", tag)"
   ]
  },
  {
   "cell_type": "markdown",
   "metadata": {},
   "source": [
    "llaves {}\n",
    "Por medio de las llaves se especifica la cantidad de repeticiones a identificar. "
   ]
  },
  {
   "cell_type": "code",
   "execution_count": 176,
   "metadata": {},
   "outputs": [
    {
     "name": "stdout",
     "output_type": "stream",
     "text": [
      "None\n",
      "<re.Match object; span=(0, 3), match='100'>\n",
      "<re.Match object; span=(0, 3), match='120'>\n",
      "<re.Match object; span=(0, 3), match='900'>\n",
      "None\n",
      "None\n",
      "None\n"
     ]
    }
   ],
   "source": [
    "numbers = [\"20\",  \"100\", \"120\", \"900\", \"1000\", \"9999\", \"99999\"]\n",
    "for n in numbers:\n",
    "    print(re.search(r\"\\b[1-9][0-9]{2}\\b\", n))"
   ]
  },
  {
   "cell_type": "code",
   "execution_count": 172,
   "metadata": {},
   "outputs": [
    {
     "name": "stdout",
     "output_type": "stream",
     "text": [
      "None\n",
      "None\n",
      "None\n",
      "None\n",
      "<re.Match object; span=(0, 4), match='1000'>\n",
      "<re.Match object; span=(0, 4), match='9999'>\n",
      "<re.Match object; span=(0, 5), match='99999'>\n"
     ]
    }
   ],
   "source": [
    "numbers = [\"20\", \"100\", \"120\", \"900\", \"1000\", \"9999\", \"99999\"]\n",
    "for n in numbers:\n",
    "    print(re.search(r\"\\b[1-9][0-9]{3,4}\\b\", n))"
   ]
  },
  {
   "cell_type": "markdown",
   "metadata": {},
   "source": [
    "paréntesis ()\n",
    "Define un bloque, también conocido como grupo de captura o sub expresión, el  cual puede ser referido posteriormente por medio de \\n\n",
    "\n",
    "Permiten aplicar un cuantificador al grupo en su totalidad o limitar su alternancia a parte de la expresión regular.\n",
    "\n",
    "Solo los paréntesis pueden ser empleados para agrupaciones. Los corchetes son empleados para definir clases de caracteres, mientras que las llaves son empleadas definir cuantificadores con límites específicos."
   ]
  },
  {
   "cell_type": "code",
   "execution_count": 191,
   "metadata": {},
   "outputs": [
    {
     "name": "stdout",
     "output_type": "stream",
     "text": [
      "<re.Match object; span=(0, 3), match='Set'>\n",
      "<re.Match object; span=(0, 8), match='SetValue'>\n",
      "None\n",
      "None\n",
      "None\n",
      "None\n"
     ]
    }
   ],
   "source": [
    "language_tokens = [\"Set\", \"SetValue\", \"GetField\", \"Value\", \"GetValue\", \"Get\"]\n",
    "for t in language_tokens:\n",
    "    print(re.search(r\"Set(Value)?\", t))"
   ]
  },
  {
   "cell_type": "markdown",
   "metadata": {},
   "source": [
    "Cabe destacar que los paréntesis crean un grupo de captura. El grupo de captura cero siempre incluye la correspondencia completa de la expresión regular. Los grupos de captura subsecuentes contienen el valor identificado, de haberlo."
   ]
  },
  {
   "cell_type": "code",
   "execution_count": 258,
   "metadata": {},
   "outputs": [
    {
     "name": "stdout",
     "output_type": "stream",
     "text": [
      "(None,)\n",
      "('Value',)\n"
     ]
    }
   ],
   "source": [
    "language_tokens = [\"Set\", \"SetValue\", \"GetField\", \"Value\", \"GetValue\", \"Get\"]\n",
    "for t in language_tokens:\n",
    "    some_match = re.search(r\"Set(Value)?\", t)\n",
    "    if some_match is not None:\n",
    "        print(some_match.groups())"
   ]
  },
  {
   "cell_type": "markdown",
   "metadata": {},
   "source": [
    "barra vertical |\n",
    "Para crear una expresión regular que identifique diversos patrones es necesario agruparlos con paréntesis y separarlos con barra: (procedural|functional) language."
   ]
  },
  {
   "cell_type": "code",
   "execution_count": 179,
   "metadata": {},
   "outputs": [
    {
     "data": {
      "text/plain": [
       "<re.Match object; span=(3, 7), match='mice'>"
      ]
     },
     "execution_count": 179,
     "metadata": {},
     "output_type": "execute_result"
    }
   ],
   "source": [
    "book_title = \"Of mice and men\"\n",
    "re.search(r\"men|mice\", book_title)\n"
   ]
  },
  {
   "cell_type": "code",
   "execution_count": 183,
   "metadata": {},
   "outputs": [
    {
     "data": {
      "text/plain": [
       "<re.Match object; span=(8, 28), match='functional languages'>"
      ]
     },
     "execution_count": 183,
     "metadata": {},
     "output_type": "execute_result"
    }
   ],
   "source": [
    "opinion = \"I think functional languages could be better understood in business, in contrast with object oriented languages.\"\n",
    "re.search(r\"(functional|object oriented) languages\", opinion)\n"
   ]
  },
  {
   "cell_type": "code",
   "execution_count": 190,
   "metadata": {},
   "outputs": [
    {
     "name": "stdout",
     "output_type": "stream",
     "text": [
      "<re.Match object; span=(0, 3), match='Set'>\n",
      "<re.Match object; span=(0, 8), match='SetValue'>\n",
      "<re.Match object; span=(0, 3), match='Get'>\n",
      "None\n",
      "<re.Match object; span=(0, 8), match='GetValue'>\n",
      "<re.Match object; span=(0, 3), match='Get'>\n"
     ]
    }
   ],
   "source": [
    "language_tokens = [\"Set\", \"SetValue\", \"GetField\", \"Value\", \"GetValue\", \"Get\"]\n",
    "for t in language_tokens:\n",
    "    print(re.search(r\"(S|G)et(Value)?\", t))"
   ]
  },
  {
   "cell_type": "markdown",
   "metadata": {},
   "source": [
    "Un metacaracter es aquel que provee de directivas al procesador de expresiones regulares respecto al patrón de texto a buscar. Los metacaracteres pueden utilizarse, por ejemplo, para identificar la posición del patrón de búsqueda en el texto, identificar tipos de caracteres a buscar.  Para representar de forma literal el símbolo asociado con un metacaracter se emplea como prefijo un caracter especial, backslash generalmente.\n",
    "\n",
    "Los metacaracteres en expresiones regulares incluyen:\n",
    "backslash \\\n",
    "\n",
    "Complemento de frontera de palabra B\n",
    "\\B identifica cualquier posición donde no hay correspondencia con \\b\n",
    "\n",
    "Alternación\n",
    "La alternación representa la claúsula or en expresiones regulares. Tiene la menor precedencia entre los operadores de expresiones regulares.\n",
    "\n",
    "\n",
    "\n",
    "corchetes []\n",
    "Delimitan expresiones de corchetes, bracket expressions. Identifica cualquier caracter individual contenido en los corchetes\n",
    "\n",
    "corchetes con caret [^ ] \n",
    "Identifica un caracter individual que no esté contenido en los corchetes\n",
    "\n"
   ]
  },
  {
   "cell_type": "markdown",
   "metadata": {},
   "source": [
    "# Expresiones regulares en Python"
   ]
  },
  {
   "cell_type": "markdown",
   "metadata": {},
   "source": [
    "Python cuenta con el módulo `re` para manejo de expresiones regulares de forma similar a como son manejadas en Perl. \n",
    "\n",
    "Las funciones del módulo `re` es clasifican en tres categorías: identificación de patrones, substitución y partición de secuencias de caracteres.\n",
    "\n",
    "Tanto los patrones como las secuencias de caracteres pueden ser strings Unicode o strings de 8 bits (bytes). No es posible combinar strings Unicode con strings de 8 bits\n",
    "\n",
    "Debido a que Python y las expresiones regulares usan el caracter backslash para declarar metacaracteres o caracteres especiales, es necesario representar el backslash por duplicado en las expresiones regulares. Para evitar este inconveniente, se recomienda usar la notación cruda de secuencias de caracteres de Python, las cuales tienen el caracter 'r' como prefijo a la literal de caracteres."
   ]
  },
  {
   "cell_type": "markdown",
   "metadata": {},
   "source": [
    "# Modalidades de invocación de las expresiones regulares\n",
    "Las expresiones regulares en Python pueden invocarse en dos modalidades:\n",
    "* Sin compilación previa.\n",
    "* Con compilación previa.\n",
    "\n",
    "En los ejemplos que hemos revisado hasta ahora, se invoca un método de la librería de expresiones `re` pasado la expresión regular como una secuencia de caracteres."
   ]
  },
  {
   "cell_type": "code",
   "execution_count": 98,
   "metadata": {},
   "outputs": [
    {
     "name": "stdout",
     "output_type": "stream",
     "text": [
      "<re.Match object; span=(52, 63), match='compilation'>\n"
     ]
    }
   ],
   "source": [
    "#Ejemplo sin compilación previa de la expresión regular\n",
    "result = re.search(r\"compilation\", \"Regular expressions can be invoked with no previous compilation .\")\n",
    "print(result)"
   ]
  },
  {
   "cell_type": "markdown",
   "metadata": {},
   "source": [
    "El método `re.compile()` genera un objeto asociado con la expresión regular. Este objeto tiene la expresión regular compilada y es empleado con los diversos métodos de manejo de patrones de las expresiones regulares. \n",
    "\n",
    "Se recomienda compilar las expresiones regulares se aplique la misma expresión regular a múltiples secuencias de caracteres ya que requiere de menor consumo del procesador."
   ]
  },
  {
   "cell_type": "code",
   "execution_count": 102,
   "metadata": {},
   "outputs": [
    {
     "name": "stdout",
     "output_type": "stream",
     "text": [
      "<re.Match object; span=(21, 24), match='pdf'>\n",
      "<re.Match object; span=(18, 21), match='pdf'>\n",
      "None\n",
      "None\n",
      "None\n",
      "None\n",
      "None\n",
      "None\n",
      "None\n",
      "None\n",
      "None\n",
      "<re.Match object; span=(11, 14), match='pdf'>\n",
      "None\n",
      "None\n"
     ]
    }
   ],
   "source": [
    "compiled_regex = re.compile(r\"pdf$\")\n",
    "\n",
    "files = [\"MSFProcessModelv.3.1.pdf\", \"MSFTeamModelv.3.1.pdf\", \"breakout_room_sample.csv\", \"breakout_room_test.csv\", \"RF1.png\", \n",
    "    \"RF2.png\", \"RF3.png\", \"RF4.png\", \"RF5.png\", \"new_user_credentials.csv\", \"pdftest.txt\", \"simplefile.pdf\", \"csvtest.txt\", \".csv\"]\n",
    "\n",
    "for f in files:\n",
    "    res =  compiled_regex.search(f)\n",
    "    print(res)"
   ]
  },
  {
   "cell_type": "code",
   "execution_count": 108,
   "metadata": {},
   "outputs": [
    {
     "name": "stdout",
     "output_type": "stream",
     "text": [
      "<re.Match object; span=(21, 24), match='pdf'>\n",
      "<re.Match object; span=(18, 21), match='pdf'>\n",
      "None\n",
      "None\n",
      "None\n",
      "None\n",
      "None\n",
      "None\n",
      "None\n",
      "None\n",
      "None\n",
      "<re.Match object; span=(11, 14), match='pdf'>\n",
      "None\n",
      "None\n"
     ]
    }
   ],
   "source": [
    "files = [\"MSFProcessModelv.3.1.pdf\", \"MSFTeamModelv.3.1.pdf\", \"breakout_room_sample.csv\", \"breakout_room_test.csv\", \"RF1.png\", \n",
    "    \"RF2.png\", \"RF3.png\", \"RF4.png\", \"RF5.png\", \"new_user_credentials.csv\", \"pdftest.txt\", \"simplefile.pdf\", \"csvtest.txt\", \".csv\"]\n",
    "\n",
    "for f in files:\n",
    "    res =  re.search(r\"pdf$\", f)\n",
    "    print(res)"
   ]
  },
  {
   "cell_type": "markdown",
   "metadata": {},
   "source": [
    "# Identificación de patrones"
   ]
  },
  {
   "cell_type": "markdown",
   "metadata": {},
   "source": [
    "search()\n",
    "Invoca `re.search(regex, subject)` para aplicar un patrón de expresión regular a una secuencia de caracteres. La función devuelve `None` si el intento de correspondencia falla o un objeto `Match` en caso contrario. Dado que `None` evalúa a `False` es fácil usar re.search() en un estatuto if. El objeto Match almacena los detalles acerca de la parte de la secuencia de caracteres identificada como correspondencia por el patrón de la expresión regular.\n",
    "\n",
    "Es posible asignar los modos de correspondencia de las expresiones regulares por medio de constantes que se proveen en el tercer parámetro de re.search():\n",
    "* IGNORECASE aplica el patrón de forma indistinta a la capitalización.\n",
    "* DOTALL hace que el operador dot identifique correspondencias con líneas nuevas de texto.\n",
    "* MULTILINE hace que las correspondencias de caret y dollar antes y después de los cortes de línea en el string objetivo.\n",
    "* LOCALE permite que \\w haga correspondencia con todos los caracteres considerados letras dados los parámetros de configuración de ubicación (locale).\n",
    "* UNICODE ocasiona que todas las letras de todos los scripts sean tratadas como caracteres de letras, también afecta las fronteras de palabras.\n",
    "\n",
    "Search busca el patrón desde el principio y a lo largo de toda la secuencia de caracteres, hasta encontrar una correspondencia.\n"
   ]
  },
  {
   "cell_type": "markdown",
   "metadata": {},
   "source": [
    "match()\n",
    "match busca el patrón al principio de la secuencia de caracteres (y no a lo largo de ella). \n",
    "\n",
    "Las siguientes se consideran equivalentes:\n",
    "\n",
    "`re.match(r'regex', somestring)`\n",
    "\n",
    "`re.search(r'\\^regex', somestring)`\n",
    "\n",
    "Match no requiere que la expresión regular corresponda con toda la secuencia de caracteres."
   ]
  },
  {
   "cell_type": "markdown",
   "metadata": {},
   "source": [
    "fullmatch()\n",
    "Añadida en Python 3.4, fullmatch solo regresa un objeto Match si la expresión regular corresponde con la secuencia de caracteres por completo. En caso contrario regresa None.\n",
    "\n",
    "Las siguientes invocaciones se consideran equivalentes:\n",
    "`re.fullmatch(r'regex', subject)` \n",
    "\n",
    "`re.search(r'\\^regex\\$', subject)` \n",
    "\n",
    "fullmatch es usualmente empleada para validar entradas de los usuarios."
   ]
  },
  {
   "cell_type": "markdown",
   "metadata": {},
   "source": [
    "findall\n",
    "Obtiene un arreglo con todas las correspondencias (sin traslape) en un string. Si la expresión regular tiene grupos de captura, findall regresa un arreglo de tuplas, con cada tupla conteniendo el texto identificado por los grupos de captura.\n",
    "\n",
    "Nota: findall no soporta el tercer argumento con las banderas de correspondencia de la expresión regular. Sin embargo, es posible especificar estos parámetros como modificadores globales de modo."
   ]
  },
  {
   "cell_type": "code",
   "execution_count": 214,
   "metadata": {},
   "outputs": [],
   "source": [
    "news = \"\"\"\n",
    "The firm's share price has risen by around 5,800% since co-founder and former chief executive Steve Jobs unveiled the first iPhone in 2007.\n",
    "However, its value slipped a little from that milestone, to end Monday's trading session in New York at $2.99tn.\n",
    "Apple has been one of the big winners of the pandemic, as coronavirus lockdowns saw spending on gadgets jump.\n",
    "\"Hitting $3 trillion is another historical moment for Apple as the company continues to prove the doubters wrong,\" Dan Ives, an analyst from Wedbush said.\n",
    "It took just over 16 months for Apple's stock market valuation to rise from $2tn to $3tn, as the world's biggest technology \n",
    "companies saw demand soar as people became more reliant on smartphones, tablets and laptops during lockdowns.\n",
    "The company became the first company to hit a stock market valuation of $1tn in August 2018.\n",
    "The iPhone typically accounts for around half of the company's sales, while it is also well-known for its iPad tablets and Mac computers.\n",
    "Increasingly important parts of the business are software, sold through the Apple store, storage space via the iCloud and services such as its \n",
    "music, television and fitness subscription platforms.\n",
    "\"The linchpin to Apple's valuation re-rating remains its Services business which we believe is worth $1.5 trillion,\" Mr Ives said.\n",
    "\"\"\"\n"
   ]
  },
  {
   "cell_type": "code",
   "execution_count": 215,
   "metadata": {},
   "outputs": [
    {
     "data": {
      "text/plain": [
       "['share',\n",
       " 'Apple',\n",
       " 'Apple',\n",
       " 'Apple',\n",
       " 'stock',\n",
       " 'demand',\n",
       " 'stock',\n",
       " 'Apple',\n",
       " 'Apple']"
      ]
     },
     "execution_count": 215,
     "metadata": {},
     "output_type": "execute_result"
    }
   ],
   "source": [
    "re.findall(r\"(Apple|share|stock|demand|Windows)\", news)"
   ]
  },
  {
   "cell_type": "code",
   "execution_count": 209,
   "metadata": {},
   "outputs": [
    {
     "data": {
      "text/plain": [
       "['$2.99tn', '$2tn', '$3tn', '$1tn']"
      ]
     },
     "execution_count": 209,
     "metadata": {},
     "output_type": "execute_result"
    }
   ],
   "source": [
    "re.findall(r\"\\$[0-9]\\.?[0-9]*tn\", news)"
   ]
  },
  {
   "cell_type": "code",
   "execution_count": 212,
   "metadata": {},
   "outputs": [
    {
     "data": {
      "text/plain": [
       "['2007', '2018']"
      ]
     },
     "execution_count": 212,
     "metadata": {},
     "output_type": "execute_result"
    }
   ],
   "source": [
    "re.findall(r\"[1-9][0-9]{3}\", news)"
   ]
  },
  {
   "cell_type": "code",
   "execution_count": 213,
   "metadata": {},
   "outputs": [
    {
     "data": {
      "text/plain": [
       "['\"Hitting $3 trillion is another historical moment for Apple as the company continues to prove the doubters wrong,\"',\n",
       " '\"The linchpin to Apple\\'s valuation re-rating remains its Services business which we believe is worth $1.5 trillion,\"']"
      ]
     },
     "execution_count": 213,
     "metadata": {},
     "output_type": "execute_result"
    }
   ],
   "source": [
    "re.findall(r\"\\\".*\\\"\", news)"
   ]
  },
  {
   "cell_type": "code",
   "execution_count": 260,
   "metadata": {},
   "outputs": [
    {
     "data": {
      "text/plain": [
       "['Dan', 'Mr']"
      ]
     },
     "execution_count": 260,
     "metadata": {},
     "output_type": "execute_result"
    }
   ],
   "source": [
    "re.findall(r\"(\\w+) Ives\", news)"
   ]
  },
  {
   "cell_type": "code",
   "execution_count": 261,
   "metadata": {},
   "outputs": [
    {
     "data": {
      "text/plain": [
       "[('\"Hitting $3 trillion is another historical moment for Apple as the company continues to prove the doubters wrong,\"',\n",
       "  'Dan Ives'),\n",
       " ('\"The linchpin to Apple\\'s valuation re-rating remains its Services business which we believe is worth $1.5 trillion,\"',\n",
       "  'Mr Ives')]"
      ]
     },
     "execution_count": 261,
     "metadata": {},
     "output_type": "execute_result"
    }
   ],
   "source": [
    "attributed_quotes = re.findall(r\"(?P<quote>\\\".*\\\") (?P<speaker>\\w+ \\w+)\", news)\n",
    "attributed_quotes\n"
   ]
  },
  {
   "cell_type": "markdown",
   "metadata": {},
   "source": [
    "findinter\n",
    "Regresa un iterador que permite procesar las correspondencias de la expresión regular:\n",
    "`for m in re.finditer(regex, subject)`\n",
    "\n",
    "La variable m es de tipo Match.\n",
    "\n",
    "Nota: finditer no soporta el tercer argumento con las banderas de correspondencia de la expresión regular. Sin embargo, es posible especificar estos parámetros como modificadores globales de modo."
   ]
  },
  {
   "cell_type": "code",
   "execution_count": 225,
   "metadata": {},
   "outputs": [
    {
     "name": "stdout",
     "output_type": "stream",
     "text": [
      "<built-in method groups of re.Match object at 0x00000165D1623490>\n",
      "\"Hitting $3 trillion is another historical moment for Apple as the company continues to prove the doubters wrong,\"\n",
      "<built-in method groups of re.Match object at 0x00000165D1623420>\n",
      "\"The linchpin to Apple's valuation re-rating remains its Services business which we believe is worth $1.5 trillion,\"\n"
     ]
    }
   ],
   "source": [
    "quotes = re.finditer(r\"\\\".*\\\"\", news)\n",
    "for quote in quotes:\n",
    "    print(quote.groups)\n",
    "    print(quote.string[quote.start(0):quote.end(0)])\n",
    "    "
   ]
  },
  {
   "cell_type": "code",
   "execution_count": 254,
   "metadata": {},
   "outputs": [
    {
     "name": "stdout",
     "output_type": "stream",
     "text": [
      "<built-in method groups of re.Match object at 0x00000165D1622540>\n",
      "\"Hitting $3 trillion is another historical moment for Apple as the company continues to prove the doubters wrong,\"\n",
      "Dan Ives\n",
      "<built-in method groups of re.Match object at 0x00000165D1622DB0>\n",
      "\"The linchpin to Apple's valuation re-rating remains its Services business which we believe is worth $1.5 trillion,\"\n",
      "Mr Ives\n"
     ]
    }
   ],
   "source": [
    "attributed_quotes = re.finditer(r\"(?P<quote>\\\".*\\\") (?P<speaker>\\w+ \\w+)\", news)\n",
    "for aq  in attributed_quotes:\n",
    "    print(aq.groups)\n",
    "    print(aq[\"quote\"])\n",
    "    print(aq[\"speaker\"])\n",
    "    "
   ]
  },
  {
   "cell_type": "code",
   "execution_count": 243,
   "metadata": {},
   "outputs": [
    {
     "data": {
      "text/plain": [
       "('Isaac', 'Newton', 'physicist')"
      ]
     },
     "execution_count": 243,
     "metadata": {},
     "output_type": "execute_result"
    }
   ],
   "source": [
    "m = re.match(r\"(\\w+) (\\w+), (\\w+)\", \"Isaac Newton, physicist\")\n",
    "m.group(0)\n",
    "m.group(1)\n",
    "m.group(2)\n",
    "m.group(1,2, 3)\n"
   ]
  },
  {
   "cell_type": "code",
   "execution_count": 244,
   "metadata": {},
   "outputs": [
    {
     "data": {
      "text/plain": [
       "('Isaac', 'Newton', 'physicist')"
      ]
     },
     "execution_count": 244,
     "metadata": {},
     "output_type": "execute_result"
    }
   ],
   "source": [
    "m = re.match(r\"(?P<first_name>\\w+) (?P<last_name>\\w+), (?P<title>\\w+)\", \"Isaac Newton, physicist\")\n",
    "m.group(\"first_name\", \"last_name\", \"title\")"
   ]
  },
  {
   "cell_type": "markdown",
   "metadata": {},
   "source": [
    "# Substitución"
   ]
  },
  {
   "cell_type": "markdown",
   "metadata": {},
   "source": [
    "sub\n",
    "re.sub(regex, replacement, subject) lleva a cabo una búsqueda y reemplazo en la secuencia de caracteres, reemplaza todas las correspondencias de la expresión regular. La función regresa la secuencia de caracteres resultante, sin modificar el argumento subject.\n",
    "\n"
   ]
  },
  {
   "cell_type": "code",
   "execution_count": 265,
   "metadata": {},
   "outputs": [
    {
     "data": {
      "text/plain": [
       "'\\nThe firm\\'s share price has risen by around 5,800% since co-founder and former chief executive Steve Jobs unveiled the first iPhone in 2007.\\nHowever, its value slipped a little from that milestone, to end Monday\\'s trading session in New York at $<CONFIDENTIAL>.\\nApple has been one of the big winners of the pandemic, as coronavirus lockdowns saw spending on gadgets jump.\\n\"Hitting $3 trillion is another historical moment for Apple as the company continues to prove the doubters wrong,\" Dan Ives, an analyst from Wedbush said.\\nIt took just over 16 months for Apple\\'s stock market valuation to rise from $<CONFIDENTIAL> to $<CONFIDENTIAL>, as the world\\'s biggest technology \\ncompanies saw demand soar as people became more reliant on smartphones, tablets and laptops during lockdowns.\\nThe company became the first company to hit a stock market valuation of $<CONFIDENTIAL> in August 2018.\\nThe iPhone typically accounts for around half of the company\\'s sales, while it is also well-known for its iPad tablets and Mac computers.\\nIncreasingly important parts of the business are software, sold through the Apple store, storage space via the iCloud and services such as its \\nmusic, television and fitness subscription platforms.\\n\"The linchpin to Apple\\'s valuation re-rating remains its Services business which we believe is worth $1.5 trillion,\" Mr Ives said.\\n'"
      ]
     },
     "execution_count": 265,
     "metadata": {},
     "output_type": "execute_result"
    }
   ],
   "source": [
    "re.sub(r\"\\$[0-9]\\.?[0-9]*tn\", \"$<CONFIDENTIAL>\", news)\n",
    "\n"
   ]
  },
  {
   "cell_type": "markdown",
   "metadata": {},
   "source": [
    "# Partición de secuencias de caracteres"
   ]
  },
  {
   "cell_type": "markdown",
   "metadata": {},
   "source": [
    "split\n",
    "re.split(regex, subject) regresa un arreglo de secuencias de caracteres. El arreglo contiene todas las correspondencias de la expresión regular en el sujeto\n",
    "\n",
    "split no ofrece una opción para suprimir los capturing groups."
   ]
  },
  {
   "cell_type": "code",
   "execution_count": 276,
   "metadata": {},
   "outputs": [
    {
     "data": {
      "text/plain": [
       "[('Albert', 'Einstein'),\n",
       " ('Marie', 'Curie'),\n",
       " ('Max', 'Plank'),\n",
       " ('Niels', 'Bohr'),\n",
       " ('Paul', 'Dirac'),\n",
       " ('Richard', 'Feyman')]"
      ]
     },
     "execution_count": 276,
     "metadata": {},
     "output_type": "execute_result"
    }
   ],
   "source": [
    "scientists = \"\"\"\n",
    "    Albert Einstein\n",
    "    Marie Curie\n",
    "    Max Plank\n",
    "    Niels Bohr\n",
    "    Paul Dirac\n",
    "    Richard Feyman\n",
    "\"\"\"\n",
    "re.findall(r\"(\\w+) (\\w+)\\n\", scientists)"
   ]
  },
  {
   "cell_type": "markdown",
   "metadata": {},
   "source": [
    "match object"
   ]
  }
 ],
 "metadata": {
  "interpreter": {
   "hash": "dff1176a825098967b08dbdbf002aed5f4d2fbc0230cbe7a7b9c071948b7fba3"
  },
  "kernelspec": {
   "display_name": "Python 3.8.12 64-bit ('alteryx': conda)",
   "language": "python",
   "name": "python3"
  },
  "language_info": {
   "codemirror_mode": {
    "name": "ipython",
    "version": 3
   },
   "file_extension": ".py",
   "mimetype": "text/x-python",
   "name": "python",
   "nbconvert_exporter": "python",
   "pygments_lexer": "ipython3",
   "version": "3.8.12"
  },
  "orig_nbformat": 4
 },
 "nbformat": 4,
 "nbformat_minor": 2
}
