{
 "cells": [
  {
   "cell_type": "markdown",
   "metadata": {},
   "source": [
    "# Introducción a Git"
   ]
  },
  {
   "cell_type": "markdown",
   "metadata": {},
   "source": [
    "Control de versiones se refiere a la gestión de cambios efectuados en un sistema, el cual no tiene que ser necesariamente de software. \n",
    "\n",
    "El uso adecuado de un sistema de control de versiones evita práctica no recomendadas como guardar copia de los archivos de proyecto en directorios independientes o mantener versiones previas del código en los mismos archivos de código fuente.\n",
    "\n",
    "Las herramientas de control de versiones proveen las siguientes capacidades:\n",
    "* Reversibilidad: regresar a cualquier punto en la historia de cambios del código fuente.\n",
    "* Concurrencia: permitir que múltiples personas trabajen en el mismo proyecto.\n",
    "* Anotación: Añadir explicaciones y comentarios respecto a los cambios efectuados.\n",
    "\n"
   ]
  },
  {
   "cell_type": "markdown",
   "metadata": {},
   "source": [
    "# Concepto de Git"
   ]
  },
  {
   "cell_type": "markdown",
   "metadata": {},
   "source": [
    "Git es un sistema para dar seguimiento a cambios en un conjunto de archivos, empleado generalmente para coordinar el trabajo de desarrolladores trabajando de forma colaborativa en la implementación de código fuente durante el proceso de desarrollo de software. Sus metas incluyen velocidad, integridad de datos y soporte para flujos de trabajo no lineales (miles de branches en paralelo corriendo en diferentes sistemas).\n",
    "\n",
    "Creado por Linus Torvals en 2005 para desarrollar el kernel de Linux, con otros desarrolladores del kernel contribuyendo a su desarrollo inicial. Desde 2005. Junio Hamano ha sido el responsable del mantenimiento de Git. En Git, como es el caso en la mayoría de los sistemas de control de versiones distribuidos y a diferencia de sistemas cliente servidor, todo directorio de Git en toda computadora es un repositorio completo con la historia completa y capacidades completas de seguimiento a versiones, con independencia de un servidor central. Git es gratuito y open source distribuido por medio de la licencia GPL-2.0.\n"
   ]
  },
  {
   "cell_type": "markdown",
   "metadata": {},
   "source": [
    "# Instalación de Git\n",
    "Git está disponible para múltiples plataformas:\n",
    "\n",
    "[Git para todas las plataformas](https://git-scm.com)\n",
    "\n",
    "Aquí se encuentran las distribuciones de Git para Linux y sistemas POSIX, además de Windows y Mac. Todas ellas en modalidad interfaz de línea de comando."
   ]
  },
  {
   "cell_type": "markdown",
   "metadata": {},
   "source": [
    "# GitHub"
   ]
  },
  {
   "cell_type": "markdown",
   "metadata": {},
   "source": [
    "GitHub es es un proveedor de hosting y software empleando Git. Ofrece la funcionalidad de control de versiones distribuidas y de código fuente de Git, además de sus propias características, incluyendo seguimiento a problemas, solicitud de características, administración de tareas, integración continua, entre otras.\n",
    "\n",
    "GitHub Desktop es un cliente basado en interfaz gráfica, adecuado para usuarios nuevos o expertos en Git que simplifica el flujo de trabajo de desarrollo. El cliente de escritorio de GitHub se encuentra disponible para descarga:\n",
    "\n",
    "[GitHub para Windows](https://windows.github.com)\n",
    "\n",
    "[GitHub para Mac](https://mac.github.com)"
   ]
  },
  {
   "cell_type": "markdown",
   "metadata": {},
   "source": [
    "# Configuración de Git\n",
    "Es necesario configurar Git para identificar al autor de los cambios efectuados en un repositorio.\n",
    "\n",
    "`git config --global user.name \"[name]\"` asigna el nombre que será registrado en las transacciones commit.\n",
    "\n",
    "`git config --global user.email \"[email address]\"` asigna el correo electrónico anexado a las transacciones commit."
   ]
  },
  {
   "cell_type": "markdown",
   "metadata": {},
   "source": [
    "# Creación de un repositorio nuevo\n",
    "\n",
    "`git init`\n",
    "\n",
    "Convierte un directorio existente en un repositorio de Git. Este directorio debe corresponder al deseado para el proyecto.\n",
    "\n",
    "Notas: \n",
    "\n",
    "* `git init` crea un branch llamado `main` por omisión.\n",
    "\n",
    "* Se requieren comandos adicionales para publicar un repositorio local a uno remoto.\n"
   ]
  },
  {
   "cell_type": "markdown",
   "metadata": {},
   "source": [
    "# Creación de un repositorio local a partir de uno remoto\n",
    "\n",
    "`git clone [url]`\n",
    "\n",
    "Clona (descarga) un repositorio existente en GitHub, incluyendo todos los archivos, branches y commits. Crea un sub directorio con el nombre del proyecto en donde haya sido invocado.\n",
    "\n",
    "Notas:\n",
    "* Cuando se emplea `git clone` no es necesario invocar `git init`.\n",
    "* Cuando se clona un repositorio, el comando automáticamente añade un repositorio remoto con el nombre `origin`.\n",
    "* Automáticamente configura al branch local `main` para dar seguimiento (track) al branch remoto `origin/main`.\n"
   ]
  },
  {
   "cell_type": "markdown",
   "metadata": {},
   "source": [
    "# El archivo .gitignore\n",
    "El archivo .gitignore permite excluir algunos archivos del seguimiento de Git, como puede ser el caso para archivos compilados y módulos empaquetados de software.\n",
    "\n",
    "GitHub cuenta con [plantillas de archivos .gitignore](https://github.com/github/gitignore) para diversos lenguajes de programación."
   ]
  },
  {
   "cell_type": "markdown",
   "metadata": {},
   "source": [
    "# Registro de cambios en un repositorio\n",
    "Los archivos en un directorio de trabajo de Git pueden estar en dos estados: untracked o tracked.\n",
    "\n",
    "Los archivos untracked son aquellos que están en el directorio de trabajo y no fueron parte del snapshot más reciente y no están en el área staging.\n",
    "\n",
    "Cuando se crea un repositorio nuevo en un directorio vacío, todos los archivos estarán en estado untracked.\n",
    "\n",
    "Cuando se clona un repositorio existente todos los archivos estarán en estado tracked y unmodified.\n",
    "\n",
    "Los archivos tracked son aquellos que fueron parte del último snapshot, así como archivos que se encuentren en staging. De acuerdo con las modificaciones al archivo podrían estar en estatus unmodified, modified o staged.\n",
    "\n",
    "## Commits\n",
    "Los commits crean una historia transparente del trabajo que otros pueden dar seguimiento para comprender lo que se ha hecho y por qué. Cada commit está asociado con un mensaje el cual describe por qué se realizó un cambio en particular. \n",
    "\n",
    "Cada commit se considera una unidad independiente de cambio. Esto facilita la corrección de errores y los cambios.\n",
    "\n",
    "Los mensajes de commit son importantes, especialmente porque Git da seguimiento a los cambios y los despliega cuando los commits son enviados al servidor por medio de `git push`. Al escribir mensajes de commit claros, es más fácil que otras personas den seguimiento y den retroalimentación del desarrollo.\n"
   ]
  },
  {
   "cell_type": "markdown",
   "metadata": {},
   "source": [
    "# Flujo de trabajo en Git\n",
    "Un proyecto en Git consta de múltiples archivos los cuales pasan por diversos estados durante el proceso de desarrollo. Por medio de los comandos de Git es posible que un documento se encuentre en alguno de los siguientes estados:\n",
    "* Stash.\n",
    "* Working Tree (también conocido como Workspace).\n",
    "* Staging (también conocido como Index).\n",
    "* Local repository.\n",
    "* Upstream repository."
   ]
  },
  {
   "cell_type": "markdown",
   "metadata": {},
   "source": [
    "# Stash\n",
    "En ocasiones es necesario hace un cambio de branch para hacer una consulta o una tarea distinta. Si el directorio de trabajo se encuentra limpio, el cambio de branch puede hacerse sin inconveniente.\n",
    "\n",
    "El reto ocurre porque frecuentemente al trabajar en un proyecto, los archivos se encuentran en un estado intermedio (trabajo en proceso, errores en proceso de resolución) que es necesario mantener antes de efectuar un cambio de branch. En este caso, el uso de commit no es adecuado, ya que el commit debe efectuarse para checkpoints de código funcional.\n",
    "\n",
    "El proceso Stashing toma el estado -posiblemente \"sucio\"- del directorio de trabajo incluyendo archivos a los cuales se les esté dando seguimiento y cambios en el área de Staging y los almacena en una pila de cambios que se pueden reaplicar en cualquier momento (incluso en un branch distinto).\n",
    "\n",
    "Los comandos `git stash` o `git stash push` mueven los cambios del directorio de trabajo al Stash.\n",
    "\n",
    "`git stash list` muestra los stashes almacenados.\n",
    "\n",
    "Para reaplicar los cambios más recientes de un stash se emplea el comando `git stash apply`, mientras que el comando `git stash apply stash@{NUM_STASH}` aplica los cambios identificados por el entero NUM_STASH."
   ]
  },
  {
   "cell_type": "markdown",
   "metadata": {},
   "source": [
    "# El Directorio de Trabajo (Working Tree o Workspace)\n",
    "\n",
    "Se refiere al área donde se lleva a cabo el trabajo. Aquí residen los archivos nuevos y aquellos con estatus \"untracked\" de Git. Cualquier cambio a los archivos será marcado y visto en Working Tree. Si se hacen cambios y no se guardan explícitamente en Git, se perderán. Esta pérdida de cambios corre porque git no tiene conocimiento de los archivos y sus cambios.\n",
    "\n",
    "Para visualizar los archivos en el Working Tree se usa el comando `git status`, examinando el apartado **Untracked files**."
   ]
  },
  {
   "cell_type": "markdown",
   "metadata": {},
   "source": [
    "# Staging (Index)\n",
    "El área Staging es donde git comienza a dar seguimiento y guardar los cambios que ocurren en los archivos. Los cambios guardados se reflejan en el directorio `.git`. Cuando se hace cualquier cambio después de añadir un archivo al área Staging, git no tendrá conocimiento de estos cambios hasta que no se le indique explícitamente al respecto.\n",
    "\n",
    "Para añadir un archivo a Staging se utiliza el comando `git add filename.ext`. Para añadir todos los archivos del Working Tree a Staging es posible emplear el comando `git add .`, donde el símbolo `.` representa a todos los archivos.\n",
    "\n",
    "El comando `git status` lista los archivos en Staging, en el apartado **Changes not staged for commit**."
   ]
  },
  {
   "cell_type": "markdown",
   "metadata": {},
   "source": [
    "# Local Repository\n",
    "El repositorio local es todo en el directorio .git. Aquí se encuentran todos los committs, también conocidos como puntos de revisión (checkpoints). Es el área donde se lleva el control de todos los cambios.\n",
    "\n",
    "El comando `git commit` añade los elementos de Staging al repositorio local. Un commit es un punto de verificación que indica a git que registre todos los cambios que han ocurrido hasta ese momento, utilizando el último commit como punto de comparación. El área Staging aparece vacía después de invocar el comando commit.\n",
    "\n",
    "Existen diversos comandos para examinar lo que está en el repositorio local.\n",
    "\n",
    "`git ls-tree --full-tree -r HEAD` muestra todos los archivos gestionados en un repositorio git.\n",
    "\n",
    "`git log` muestra una bitácora de todos los checkpoints previos en el repositorio. \n",
    "\n",
    "`git show commit_num` muestra más información respecto a un commit específico."
   ]
  },
  {
   "cell_type": "markdown",
   "metadata": {},
   "source": [
    "# Repositorio remoto\n",
    "Git, siendo un sistema de control de versiones distribuido, permite tener una copia del repositorio en un servidor remoto para habilitar la colaboración con múltiples desarrolladores.\n",
    "\n",
    "Existen diversas opciones para crear un repositorio remoto:\n",
    "* En la interfaz Web de GitHub.com.\n",
    "* Por medio de CLI de GitHub.\n",
    "\n",
    "Para asociar el repositorio remoto con el repositorio local:\n",
    "`git remote add origin [remote-url]`\n",
    "\n",
    "Cabe mencionar que `origin` es el nombre que se usa por omisión en Git para identificar un repositorio remoto.\n",
    "\n",
    "Comandos frecuentes para sincronizar un repositorio local con un repositorio remoto en GitHub.com\n",
    "\n",
    "`git fetch` descarga toda la historia los branches a los que se les esté dando seguimiento en el remote.\n",
    "\n",
    "`git merge` combina el branch remoto con el branch local activo.\n",
    "\n",
    "`git push` publica todos los commits locales del branch a GitHub.\n",
    "\n",
    "`git pull` actualiza el branch local activo con todos los nuevos commits del branch remoto correspondiente en GitHub. `git pull` es una combinación de `git fetch` con `git merge`\n"
   ]
  },
  {
   "cell_type": "markdown",
   "metadata": {},
   "source": [
    "# Repositorios remotos\n",
    "Para colaborar en cualquier proyecto de Git, es necesario saber cómo administrar repositorios remotos. Los repositorios remotos son versiones de un proyecto hospedadas en Internet o alguna red. Es posible tener múltiples repositorios con permisos de lectura o de lectura/escritura.\n",
    "\n",
    "Colaborar con otros implica gestionar estos repositorios remotos, así como enviar y recuperar información de ellos (push y pull) cuando sea necesario compartir trabajo. Gestionar repositorios remotos implica saber cómo añadir repositorios remotos, eliminar repositorios remotos que ya nos sean válidos, gestionar los diversos branches remotos, definir si se les va a dar seguimiento o no y más.\n",
    "\n",
    "## Consultar repositorios remotos\n",
    "\n",
    "`git remote` muestra los servidores remotos configurados.\n",
    "\n",
    "`git remote -v` muestra el URL de los servidores remotos configurados.\n",
    "\n",
    "`git remote show <remote>` muestra más información respecto a un repositorio remoto, incluyendo sus URLs, ubicación del HEAD, branches remotos, branches locales configuradas para `git pull`, refs locales configurados para `git push`.\n",
    "\n",
    "## Añadir repositorios remotos\n",
    "`git clone` implícitamente añade el repositorio remoto `origin`.\n",
    "\n",
    "El siguiente comando añade un repositorio remoto de forma explícita:\n",
    "\n",
    "`git remote add <remote> <url>` añade un repositorio remoto de forma explícita.\n",
    "\n",
    "Notas: \n",
    "* Es posible emplear `<remote>` en vez del URL completo en lo sucesivo para hacer referencia al servidor remoto.\n",
    "* Para referir un branch remoto se usa la sintaxis `<remote>/<branchname>`, por ejemplo `origin/qfe20220109`.\n",
    "\n",
    "\n",
    "## Recuperar información de un repositorio remoto (Fetch)\n",
    "\n",
    "`git fetch` descarga toda la información del repositorio remoto que no se encuentre de forma local, incluyendo las referencias a todos los branches del remote, las cuales pueden ser combinadas (merge) o inspeccionadas en cualquier momento. \n",
    "\n",
    "Notas:\n",
    "* `git fetch` solo descarga los datos al repositorio local, no combina código (merge) o modifica el código de directorio de trabajo (working tree o workspace). \n",
    "\n",
    "## Recuperar y combinar información de un servidor remoto (Pull)\n",
    "\n",
    "Si el branch vigente está configurado para dar seguimiento (track) a un branch remoto, es posible emplear `git pull` para automáticamente recuperar (fetch) y combinar (merge) el código del branch remoto en el local.\n",
    "\n",
    "## Publicar información a un repositorio remoto (Push)\n",
    "Cuando el proyecto local se encuentra en un estado apto para compartir, es necesario publicar el código en el repositorio remoto.\n",
    "\n",
    "`git push <remote> <branch>`\n",
    "Notas: \n",
    "* Si `git push` se invoca sin `<remote>`, el sistema buscará el branch vigente en branch.*.remote y de no existir usará `origin`. Si este comando se invoca sin `<branch>`\n",
    "* `git push` solo funciona si el clone se efectuó en un servidor al que se tiene permiso de escritura y nadie más ha publicado (push) cambios a él. Si alguien más clonó el repositorio y publicó cambios por su cuenta, el push fallará. Será necesario recuperar (fetch) los cambios del servidor e integrarlos a los cambios locales para entonces invocar el proceso de publicación (push)."
   ]
  },
  {
   "cell_type": "markdown",
   "metadata": {},
   "source": [
    "# Branches\n",
    "Los branches son una de las características más poderosas de Git. Un branch representa una ruta independiente de desarrollo que permite efectuar cambios sin afectar la línea principal. \n",
    "\n",
    "Los branches en Git son extremadamente ligeros, haciendo extremadamente ágil la creación o cambio de branch. En Git se recomienda ampliamente el uso de branches como parte del proceso de desarrollo.\n",
    "\n",
    "Un branch en Git es un apuntador ligero a un commit. Conforme se realizan cambios al proyecto, se actualiza el branch `main` al último commit realizado.\n",
    "\n",
    "Cuando el usuario crea un branch nuevo, Git crea un nuevo apuntador para dar seguimiento a los cambios efectuados.\n",
    "\n",
    "Git cuenta con un apuntador especial denominado `HEAD` el cual indica el branch vigente.\n",
    "\n",
    "Al invocar el comando `git log` es posible verificar el branch al que está apuntando `HEAD`.\n",
    "\n",
    "Los branches coexisten en el mismo repositorio, cada una con su propia historia. El branch por omisión se llama `main`, en versiones previas de Git era `master`.\n",
    "\n",
    "En octubre de 2018, Internet Engineering Task Force publicó el artículo [\"Terminology, Power and Opressive Language\"](https://tools.ietf.org/id/draft-knodel-terminology-00.html#rfc.section.1.1.1) donde recomienda a autores y editores de RFCs evitar terminología opresiva.\n",
    "\n",
    "En GitHub, todos los repositorios default son nombrados `main` desde el primero de octubre de 2020, detalles al respecto en el siguiente [artículo](https://github.com/github/renaming).\n",
    "\n",
    "`git branch [branch-name]` crea un nuevo branch.\n",
    "\n",
    "`git checkout [branch-name]` cambia al branch especificado y actualiza el directorio de trabajo.\n",
    "\n",
    "`git merge [branch]` combina la historia del branch especificado en el branch vigente. Generalmente se usa el pull requests, es una operación importante de Git.\n",
    "\n",
    "`git branch -d [branch-name]` borra el branch especificado.\n",
    "\n",
    "## Tracking branch\n",
    "\n",
    "Cuando se hace checkout de un branch local a partir de un branch remoto Git automáticamente crea un tracking branch (el branch al que le da seguimiento se conoce como \"upstream branch\"). Tracking branches son branches locales que tienen una relación directa con un branch remoto. Estando en un tracking branch, el comando `git pull` recuperará todas las referencias remotas y automáticamente combinará (merge) los cambios del remote branch correspondiente, mientras que el comando `git push` determina automáticamente a qué servidor y branch publicar los cambios.\n",
    "\n",
    "Cuando se clona un repositorio, generalmente se crea un branch `main` que da seguimiento a `origin/main`. Sin embargo es posible configurar otros tracking branches. \n",
    "\n",
    "Existen diversas sintaxis para definir tracking branches:\n",
    "\n",
    "`git checkout -b <branch> <remote>/<branch>`\n",
    "\n",
    "`git checkout --track <remote>/<branch>` Configura `<branch>` para dar seguimiento al branch `<remote>/<branch>` y cambia al `<branch>` local.\n",
    "\n",
    "`git checkout <branch>` configura `<branch>` para dar seguimiento al branch `<remote>/<branch>` y cambia al `<branch>` local.\n",
    "\n",
    "`git branch -vv` despliega la lista de tracking branches configuradas. Se recomienda invocar `git fetch --all` antes o invocar:\n",
    "\n",
    "`git fetch --all; git branch -vv`\n",
    "\n",
    "## Pull\n",
    "`git fetch` recupera los cambios del servidor, no modifica el directorio de trabajo.\n",
    "\n",
    "`git pull` es fundamentalmente un `git fetch` seguido inmediatamente por `git merge`. Si se cuenta con un tracking branch, ya sea definida de forma explícita o creada por medio de los comandos `clone` o `checkout`, `git pull` buscará el servidor y branch remoto al que se está dando tracking, recuperará del servidor e intentará combinar (merge) los cambios.\n",
    "\n"
   ]
  },
  {
   "cell_type": "markdown",
   "metadata": {},
   "source": [
    "# Estrategias de branching\n",
    "El flujo de trabajo en Git depende de cómo se requiera dar mantenimiento al código.\n",
    "\n",
    "## Long running branches (single master)\n",
    "La estrategia long running branches se emplea cuando se requiera dar mantenimiento a una sola versión del software a la vez. En ella se mantiene un branch con la versión estables, en donde los releases son etiquetados en el branch principal. Es posible tener otros branches para desarrollo en donde se implementen, prueben e integren las características.\n",
    "\n",
    "`main` se considera el branch de producción, por lo que en ella debe publicarse código debidamente probado, integrado con versiones definitivas. \n",
    "\n",
    "## Una versión, un branch (multiple masters)\n",
    "Empleada cuando se crea software que estará disponible y mantenido en múltiples versiones. En ella, una liberación no sustituye las liberaciones de versiones previas. Cada versión publicada tiene su propio branch principal (main) cuyo nombre incluye el nombre del proyecto, la versión y un indicador que es estable, por ejemplo: `project_vv_stable`. Los branches de desarrollo son comunes para todas las versiones publicadas. Es importante destacar que cada característica desarrollada debe ser probada con cada versión del proyecto.\n",
    "\n",
    "## Un branch por cada bug\n",
    "Independientemente de la cantidad de branches `main` (single master vs multi master), se recomienda crear un branch independiente por cada bug en correspondencia con los issues registrados en la herramienta de gestión. Esto permite aislar perfectamente el problema y aislar los cambios al código de la solución de otros. Generalmente el nombre del branch de corrección de bug incluye el identificador generado por la herramienta de gestión de issues, por ejemplo: `issue-12345`."
   ]
  },
  {
   "cell_type": "markdown",
   "metadata": {},
   "source": [
    "# Forks\n",
    "Un fork es una copia de un repositorio. Al efectuar un fork (proceso referido como forking) es posible experimentar libremente con cambios sin afectar al proyecto original.\n",
    "\n",
    "Generalmente los forks se usan para proponer cambios a un proyecto de un tercero o para usar dicho proyecto como un punto de partida para una iniciativa propia.\n",
    "\n",
    "Los cambios efectuados en el fork no afectan al repositorio original, el cual se conoce como repositorio upstream.\n",
    "\n",
    "No obstante lo anterior, es posible emplear los forks para proponer cambios al código del repositorio upstream por medio del siguiente procedimiento:\n",
    "* Crear el fork del repositorio.\n",
    "* Implementar la corrección en el fork.\n",
    "* Enviar un pull request al dueño del proyecto (repositorio upstream).\n",
    "\n",
    "Usualmente el proceso de fork se lleva a cabo en línea, en el sitio Web en donde se encuentre hospedado el proyecto público (referido como upstream). Al efectuar el proceso, se crea una copia del repositorio upstream en el repositorio del usuario, equipo de trabajo u organización en la misma plataforma donde el proyecto upstream se encuentra hospedado.\n",
    "\n",
    "## Fork como punto de partida de un proyecto propio\n",
    "Cuando se crea un repositorio público originado en el fork de un proyecto de un tercero se recomienda añadir un archivo de licencia que determine los términos bajo los cuales se está compartiendo a terceros. El sitio [Choose an open source license](https://choosealicense.com/) provee de orientación respecto a los distintos tipos de licencias.\n",
    "\n",
    "## Proceso para trabajar con un fork de manera local\n",
    "En la computadora de trabajo debe identificarse el directorio en donde se colocarán los archivos del fork.\n",
    "\n",
    "Iniciar sesión en GitHub.com o en el servicio que corresponda donde se encuentre el repositorio de interés (repositorio upstream).\n",
    "\n",
    "Navegar a la página principal del proyecto de interés y realizar el proceso de fork. Generalmente estará visible un botón con el nombre `Fork`. Como resultado se creará una copia del repositorio upstream en la cuenta del usuario (también podría ser cuenta de equipo u organización).\n",
    "\n",
    "En la computadora de desarrollo clonar el repositorio creado como resultado del proceso de fork el cual estará ubicado en la cuenta del usuario (equipo u organización, según corresponda) por medio del comando `git clone`.\n",
    "\n",
    "Dependiendo del tipo de proyecto, podría ser necesario crear los archivos de proyecto correspondientes a las herramientas de software a emplear. Tomar en cuenta que algunos archivos podrían no ser necesario que sean gestionados por medio de git, por lo que sería necesario actualizar el archivo `.gitignore`.\n",
    "\n",
    "Si se tiene previsto proponer cambios al código del repositorio original, se recomienda añadir a dicho repositorio como repositorio remoto.\n",
    "\n",
    "Realizar el proceso de codificación, empleando branches orientados a características (features) o corrección de errores según corresponda.\n",
    "\n",
    "\n",
    "\n"
   ]
  },
  {
   "cell_type": "markdown",
   "metadata": {},
   "source": [
    "# Pull Requests\n",
    "Los pull requests permiten iniciar una conversación respecto a commits que se pretende integrar a un branch. Están altamente integrados con el repositorio de Git, de tal forma que cualquier puede ver exactamente qué cambios serían combinados (merge) si se acepta el pull request.\n",
    "\n",
    "Cuando se abre el pull request, la persona o equipo responsable de revisar los cambios podría tener preguntas o comentarios. Generalmente se revisa que el estilo de codificación cumpla con los lineamientos del proyecto, la cobertura de las pruebas unitarias. Los pull request están diseñados para fomentar y capturar este tipo de comunicación.\n",
    "\n",
    "Es válido continuar publicando (push) cambios a un branch de acuerdo con la conversación y retroalimentación de los commits presentados en un pull request. Si alguien comenta respecto a alguna omisión en el código o si se identifica un bug, es posible corregirlo en el branch y publicar (push) el cambio. GitHub mostrará los nuevos commits y cualquier retroalimentación adicional recibida en la vista unificada del Pull Request.\n",
    "\n",
    "En cuanto haya sido revisado el Pull Request y el branch pase las pruebas, es posible desplegar los cambios para integrarlos en producción.\n",
    "\n",
    "Integrar en producción implica combinar (merge) el código al branch principal (main, generalmente). \n",
    "\n",
    "En cuanto se combina el código, el Pull Request mantiene un registro de los cambios históricos en el código. Es posible efectuar búsquedas en este registro para comprender las razones de los cambios al código.\n",
    "\n",
    "Las interacciones entre un repositorio principal y un fork son:\n",
    "* Repositorio principal del proyecto en GitHub.\n",
    "    * Clonado por medio de `git clone`al repositorio local del líder del proyecto.\n",
    "    * (Opcional) Integra cambios implementados por los colaboradores por medio de `pull` desde el repositorio GitHub del colaborador.\n",
    "    * Integra cambios al repositorio principal por medio de `push`.\n",
    "* Repositorio de un colaborador de proyecto en GitHub.\n",
    "    * Creado por medio del proceso `fork` en el repositorio GitHub del colaborador.\n",
    "    * El repositorio local del colaborador se crea a partir del `fork` por medio de `git clone`.\n",
    "    * Publica cambios a su repositorio por medio de `git push`\n",
    "    * Integra cambios al repositorio principal por medio de `pull request`.\n",
    "\n",
    "\n",
    "En síntesis, el proceso del Pull Request consta de las siguientes actividades:\n",
    "* Actualizar el código del repositorio oficial (pull de main).\n",
    "* Crear un branch para comenzar a trabajar en el código.\n",
    "* Implementar y probar el código.\n",
    "* Efectuar commit de los cambios a medida que se logran hitos intermedios en el proceso de incepción del código.\n",
    "* En cuanto se complete la asignación, publicar (push) los cambios al repositorio personal de GitHub.\n",
    "* Iniciar un Pull Request desde el repositorio oficial.\n",
    "* Integrar los cambios de código del branch de desarrollo al branch principal (p.e. main) en el respositorio oficial.\n"
   ]
  }
 ],
 "metadata": {
  "interpreter": {
   "hash": "dff1176a825098967b08dbdbf002aed5f4d2fbc0230cbe7a7b9c071948b7fba3"
  },
  "kernelspec": {
   "display_name": "Python 3.8.12 64-bit ('alteryx': conda)",
   "language": "python",
   "name": "python3"
  },
  "language_info": {
   "name": "python",
   "version": "3.8.12"
  },
  "orig_nbformat": 4
 },
 "nbformat": 4,
 "nbformat_minor": 2
}
